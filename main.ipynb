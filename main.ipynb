{
  "nbformat": 4,
  "nbformat_minor": 0,
  "metadata": {
    "colab": {
      "provenance": []
    },
    "kernelspec": {
      "name": "python3",
      "display_name": "Python 3"
    },
    "language_info": {
      "name": "python"
    }
  },
  "cells": [
    {
      "cell_type": "markdown",
      "source": [
        "INSURANCE PREMIUM PREDICTION\n",
        "\n",
        "\n",
        "\n"
      ],
      "metadata": {
        "id": "NatItT6p2OFr"
      }
    },
    {
      "cell_type": "code",
      "execution_count": 1,
      "metadata": {
        "id": "u4_KTnzuFMnA"
      },
      "outputs": [],
      "source": [
        "import pandas as pd\n",
        "import numpy as np\n",
        "import statsmodels\n",
        "import warnings\n",
        "warnings.filterwarnings('ignore')\n",
        "\n",
        "import plotly.express as px\n",
        "import matplotlib\n",
        "import matplotlib.pyplot as plt\n",
        "import seaborn as sns\n",
        "\n",
        "from sklearn.preprocessing import OneHotEncoder\n",
        "from sklearn.model_selection import train_test_split\n",
        "\n",
        "from sklearn.linear_model import LinearRegression\n",
        "from sklearn.tree import DecisionTreeRegressor\n",
        "from sklearn.ensemble import RandomForestRegressor\n",
        "from sklearn.ensemble import GradientBoostingRegressor\n",
        "from sklearn.ensemble import AdaBoostRegressor\n",
        "import xgboost as xgb\n",
        "\n",
        "from sklearn.metrics import mean_squared_error\n",
        "from sklearn.metrics import r2_score\n",
        "import pickle"
      ]
    },
    {
      "cell_type": "code",
      "source": [
        "!pip install azureml\n",
        "!pip install azureml-core\n",
        "!pip install azureml-train\n",
        "!pip install azureml-Dataset-runtime"
      ],
      "metadata": {
        "id": "Af7B5OOn3eaO"
      },
      "execution_count": null,
      "outputs": []
    },
    {
      "cell_type": "code",
      "source": [
        "df = pd.read_csv(\"/content/insurance.csv\")\n",
        "\n"
      ],
      "metadata": {
        "id": "xMdNKul-FURq"
      },
      "execution_count": 2,
      "outputs": []
    },
    {
      "cell_type": "code",
      "source": [
        "df"
      ],
      "metadata": {
        "colab": {
          "base_uri": "https://localhost:8080/",
          "height": 424
        },
        "id": "LEzs_LPFFpgx",
        "outputId": "4ba45cb1-24cd-47b6-b479-769b7197ed63"
      },
      "execution_count": null,
      "outputs": [
        {
          "output_type": "execute_result",
          "data": {
            "text/plain": [
              "      age     sex   bmi  children smoker     region  expenses\n",
              "0      19  female  27.9         0    yes  southwest  16884.92\n",
              "1      18    male  33.8         1     no  southeast   1725.55\n",
              "2      28    male  33.0         3     no  southeast   4449.46\n",
              "3      33    male  22.7         0     no  northwest  21984.47\n",
              "4      32    male  28.9         0     no  northwest   3866.86\n",
              "...   ...     ...   ...       ...    ...        ...       ...\n",
              "1333   50    male  31.0         3     no  northwest  10600.55\n",
              "1334   18  female  31.9         0     no  northeast   2205.98\n",
              "1335   18  female  36.9         0     no  southeast   1629.83\n",
              "1336   21  female  25.8         0     no  southwest   2007.95\n",
              "1337   61  female  29.1         0    yes  northwest  29141.36\n",
              "\n",
              "[1338 rows x 7 columns]"
            ],
            "text/html": [
              "\n",
              "  <div id=\"df-28fa2e68-b660-405a-8f2e-5fab0ef99b4f\" class=\"colab-df-container\">\n",
              "    <div>\n",
              "<style scoped>\n",
              "    .dataframe tbody tr th:only-of-type {\n",
              "        vertical-align: middle;\n",
              "    }\n",
              "\n",
              "    .dataframe tbody tr th {\n",
              "        vertical-align: top;\n",
              "    }\n",
              "\n",
              "    .dataframe thead th {\n",
              "        text-align: right;\n",
              "    }\n",
              "</style>\n",
              "<table border=\"1\" class=\"dataframe\">\n",
              "  <thead>\n",
              "    <tr style=\"text-align: right;\">\n",
              "      <th></th>\n",
              "      <th>age</th>\n",
              "      <th>sex</th>\n",
              "      <th>bmi</th>\n",
              "      <th>children</th>\n",
              "      <th>smoker</th>\n",
              "      <th>region</th>\n",
              "      <th>expenses</th>\n",
              "    </tr>\n",
              "  </thead>\n",
              "  <tbody>\n",
              "    <tr>\n",
              "      <th>0</th>\n",
              "      <td>19</td>\n",
              "      <td>female</td>\n",
              "      <td>27.9</td>\n",
              "      <td>0</td>\n",
              "      <td>yes</td>\n",
              "      <td>southwest</td>\n",
              "      <td>16884.92</td>\n",
              "    </tr>\n",
              "    <tr>\n",
              "      <th>1</th>\n",
              "      <td>18</td>\n",
              "      <td>male</td>\n",
              "      <td>33.8</td>\n",
              "      <td>1</td>\n",
              "      <td>no</td>\n",
              "      <td>southeast</td>\n",
              "      <td>1725.55</td>\n",
              "    </tr>\n",
              "    <tr>\n",
              "      <th>2</th>\n",
              "      <td>28</td>\n",
              "      <td>male</td>\n",
              "      <td>33.0</td>\n",
              "      <td>3</td>\n",
              "      <td>no</td>\n",
              "      <td>southeast</td>\n",
              "      <td>4449.46</td>\n",
              "    </tr>\n",
              "    <tr>\n",
              "      <th>3</th>\n",
              "      <td>33</td>\n",
              "      <td>male</td>\n",
              "      <td>22.7</td>\n",
              "      <td>0</td>\n",
              "      <td>no</td>\n",
              "      <td>northwest</td>\n",
              "      <td>21984.47</td>\n",
              "    </tr>\n",
              "    <tr>\n",
              "      <th>4</th>\n",
              "      <td>32</td>\n",
              "      <td>male</td>\n",
              "      <td>28.9</td>\n",
              "      <td>0</td>\n",
              "      <td>no</td>\n",
              "      <td>northwest</td>\n",
              "      <td>3866.86</td>\n",
              "    </tr>\n",
              "    <tr>\n",
              "      <th>...</th>\n",
              "      <td>...</td>\n",
              "      <td>...</td>\n",
              "      <td>...</td>\n",
              "      <td>...</td>\n",
              "      <td>...</td>\n",
              "      <td>...</td>\n",
              "      <td>...</td>\n",
              "    </tr>\n",
              "    <tr>\n",
              "      <th>1333</th>\n",
              "      <td>50</td>\n",
              "      <td>male</td>\n",
              "      <td>31.0</td>\n",
              "      <td>3</td>\n",
              "      <td>no</td>\n",
              "      <td>northwest</td>\n",
              "      <td>10600.55</td>\n",
              "    </tr>\n",
              "    <tr>\n",
              "      <th>1334</th>\n",
              "      <td>18</td>\n",
              "      <td>female</td>\n",
              "      <td>31.9</td>\n",
              "      <td>0</td>\n",
              "      <td>no</td>\n",
              "      <td>northeast</td>\n",
              "      <td>2205.98</td>\n",
              "    </tr>\n",
              "    <tr>\n",
              "      <th>1335</th>\n",
              "      <td>18</td>\n",
              "      <td>female</td>\n",
              "      <td>36.9</td>\n",
              "      <td>0</td>\n",
              "      <td>no</td>\n",
              "      <td>southeast</td>\n",
              "      <td>1629.83</td>\n",
              "    </tr>\n",
              "    <tr>\n",
              "      <th>1336</th>\n",
              "      <td>21</td>\n",
              "      <td>female</td>\n",
              "      <td>25.8</td>\n",
              "      <td>0</td>\n",
              "      <td>no</td>\n",
              "      <td>southwest</td>\n",
              "      <td>2007.95</td>\n",
              "    </tr>\n",
              "    <tr>\n",
              "      <th>1337</th>\n",
              "      <td>61</td>\n",
              "      <td>female</td>\n",
              "      <td>29.1</td>\n",
              "      <td>0</td>\n",
              "      <td>yes</td>\n",
              "      <td>northwest</td>\n",
              "      <td>29141.36</td>\n",
              "    </tr>\n",
              "  </tbody>\n",
              "</table>\n",
              "<p>1338 rows × 7 columns</p>\n",
              "</div>\n",
              "    <div class=\"colab-df-buttons\">\n",
              "\n",
              "  <div class=\"colab-df-container\">\n",
              "    <button class=\"colab-df-convert\" onclick=\"convertToInteractive('df-28fa2e68-b660-405a-8f2e-5fab0ef99b4f')\"\n",
              "            title=\"Convert this dataframe to an interactive table.\"\n",
              "            style=\"display:none;\">\n",
              "\n",
              "  <svg xmlns=\"http://www.w3.org/2000/svg\" height=\"24px\" viewBox=\"0 -960 960 960\">\n",
              "    <path d=\"M120-120v-720h720v720H120Zm60-500h600v-160H180v160Zm220 220h160v-160H400v160Zm0 220h160v-160H400v160ZM180-400h160v-160H180v160Zm440 0h160v-160H620v160ZM180-180h160v-160H180v160Zm440 0h160v-160H620v160Z\"/>\n",
              "  </svg>\n",
              "    </button>\n",
              "\n",
              "  <style>\n",
              "    .colab-df-container {\n",
              "      display:flex;\n",
              "      gap: 12px;\n",
              "    }\n",
              "\n",
              "    .colab-df-convert {\n",
              "      background-color: #E8F0FE;\n",
              "      border: none;\n",
              "      border-radius: 50%;\n",
              "      cursor: pointer;\n",
              "      display: none;\n",
              "      fill: #1967D2;\n",
              "      height: 32px;\n",
              "      padding: 0 0 0 0;\n",
              "      width: 32px;\n",
              "    }\n",
              "\n",
              "    .colab-df-convert:hover {\n",
              "      background-color: #E2EBFA;\n",
              "      box-shadow: 0px 1px 2px rgba(60, 64, 67, 0.3), 0px 1px 3px 1px rgba(60, 64, 67, 0.15);\n",
              "      fill: #174EA6;\n",
              "    }\n",
              "\n",
              "    .colab-df-buttons div {\n",
              "      margin-bottom: 4px;\n",
              "    }\n",
              "\n",
              "    [theme=dark] .colab-df-convert {\n",
              "      background-color: #3B4455;\n",
              "      fill: #D2E3FC;\n",
              "    }\n",
              "\n",
              "    [theme=dark] .colab-df-convert:hover {\n",
              "      background-color: #434B5C;\n",
              "      box-shadow: 0px 1px 3px 1px rgba(0, 0, 0, 0.15);\n",
              "      filter: drop-shadow(0px 1px 2px rgba(0, 0, 0, 0.3));\n",
              "      fill: #FFFFFF;\n",
              "    }\n",
              "  </style>\n",
              "\n",
              "    <script>\n",
              "      const buttonEl =\n",
              "        document.querySelector('#df-28fa2e68-b660-405a-8f2e-5fab0ef99b4f button.colab-df-convert');\n",
              "      buttonEl.style.display =\n",
              "        google.colab.kernel.accessAllowed ? 'block' : 'none';\n",
              "\n",
              "      async function convertToInteractive(key) {\n",
              "        const element = document.querySelector('#df-28fa2e68-b660-405a-8f2e-5fab0ef99b4f');\n",
              "        const dataTable =\n",
              "          await google.colab.kernel.invokeFunction('convertToInteractive',\n",
              "                                                    [key], {});\n",
              "        if (!dataTable) return;\n",
              "\n",
              "        const docLinkHtml = 'Like what you see? Visit the ' +\n",
              "          '<a target=\"_blank\" href=https://colab.research.google.com/notebooks/data_table.ipynb>data table notebook</a>'\n",
              "          + ' to learn more about interactive tables.';\n",
              "        element.innerHTML = '';\n",
              "        dataTable['output_type'] = 'display_data';\n",
              "        await google.colab.output.renderOutput(dataTable, element);\n",
              "        const docLink = document.createElement('div');\n",
              "        docLink.innerHTML = docLinkHtml;\n",
              "        element.appendChild(docLink);\n",
              "      }\n",
              "    </script>\n",
              "  </div>\n",
              "\n",
              "\n",
              "<div id=\"df-79eed551-156e-4b8d-a3b6-f891f0120c47\">\n",
              "  <button class=\"colab-df-quickchart\" onclick=\"quickchart('df-79eed551-156e-4b8d-a3b6-f891f0120c47')\"\n",
              "            title=\"Suggest charts.\"\n",
              "            style=\"display:none;\">\n",
              "\n",
              "<svg xmlns=\"http://www.w3.org/2000/svg\" height=\"24px\"viewBox=\"0 0 24 24\"\n",
              "     width=\"24px\">\n",
              "    <g>\n",
              "        <path d=\"M19 3H5c-1.1 0-2 .9-2 2v14c0 1.1.9 2 2 2h14c1.1 0 2-.9 2-2V5c0-1.1-.9-2-2-2zM9 17H7v-7h2v7zm4 0h-2V7h2v10zm4 0h-2v-4h2v4z\"/>\n",
              "    </g>\n",
              "</svg>\n",
              "  </button>\n",
              "\n",
              "<style>\n",
              "  .colab-df-quickchart {\n",
              "      --bg-color: #E8F0FE;\n",
              "      --fill-color: #1967D2;\n",
              "      --hover-bg-color: #E2EBFA;\n",
              "      --hover-fill-color: #174EA6;\n",
              "      --disabled-fill-color: #AAA;\n",
              "      --disabled-bg-color: #DDD;\n",
              "  }\n",
              "\n",
              "  [theme=dark] .colab-df-quickchart {\n",
              "      --bg-color: #3B4455;\n",
              "      --fill-color: #D2E3FC;\n",
              "      --hover-bg-color: #434B5C;\n",
              "      --hover-fill-color: #FFFFFF;\n",
              "      --disabled-bg-color: #3B4455;\n",
              "      --disabled-fill-color: #666;\n",
              "  }\n",
              "\n",
              "  .colab-df-quickchart {\n",
              "    background-color: var(--bg-color);\n",
              "    border: none;\n",
              "    border-radius: 50%;\n",
              "    cursor: pointer;\n",
              "    display: none;\n",
              "    fill: var(--fill-color);\n",
              "    height: 32px;\n",
              "    padding: 0;\n",
              "    width: 32px;\n",
              "  }\n",
              "\n",
              "  .colab-df-quickchart:hover {\n",
              "    background-color: var(--hover-bg-color);\n",
              "    box-shadow: 0 1px 2px rgba(60, 64, 67, 0.3), 0 1px 3px 1px rgba(60, 64, 67, 0.15);\n",
              "    fill: var(--button-hover-fill-color);\n",
              "  }\n",
              "\n",
              "  .colab-df-quickchart-complete:disabled,\n",
              "  .colab-df-quickchart-complete:disabled:hover {\n",
              "    background-color: var(--disabled-bg-color);\n",
              "    fill: var(--disabled-fill-color);\n",
              "    box-shadow: none;\n",
              "  }\n",
              "\n",
              "  .colab-df-spinner {\n",
              "    border: 2px solid var(--fill-color);\n",
              "    border-color: transparent;\n",
              "    border-bottom-color: var(--fill-color);\n",
              "    animation:\n",
              "      spin 1s steps(1) infinite;\n",
              "  }\n",
              "\n",
              "  @keyframes spin {\n",
              "    0% {\n",
              "      border-color: transparent;\n",
              "      border-bottom-color: var(--fill-color);\n",
              "      border-left-color: var(--fill-color);\n",
              "    }\n",
              "    20% {\n",
              "      border-color: transparent;\n",
              "      border-left-color: var(--fill-color);\n",
              "      border-top-color: var(--fill-color);\n",
              "    }\n",
              "    30% {\n",
              "      border-color: transparent;\n",
              "      border-left-color: var(--fill-color);\n",
              "      border-top-color: var(--fill-color);\n",
              "      border-right-color: var(--fill-color);\n",
              "    }\n",
              "    40% {\n",
              "      border-color: transparent;\n",
              "      border-right-color: var(--fill-color);\n",
              "      border-top-color: var(--fill-color);\n",
              "    }\n",
              "    60% {\n",
              "      border-color: transparent;\n",
              "      border-right-color: var(--fill-color);\n",
              "    }\n",
              "    80% {\n",
              "      border-color: transparent;\n",
              "      border-right-color: var(--fill-color);\n",
              "      border-bottom-color: var(--fill-color);\n",
              "    }\n",
              "    90% {\n",
              "      border-color: transparent;\n",
              "      border-bottom-color: var(--fill-color);\n",
              "    }\n",
              "  }\n",
              "</style>\n",
              "\n",
              "  <script>\n",
              "    async function quickchart(key) {\n",
              "      const quickchartButtonEl =\n",
              "        document.querySelector('#' + key + ' button');\n",
              "      quickchartButtonEl.disabled = true;  // To prevent multiple clicks.\n",
              "      quickchartButtonEl.classList.add('colab-df-spinner');\n",
              "      try {\n",
              "        const charts = await google.colab.kernel.invokeFunction(\n",
              "            'suggestCharts', [key], {});\n",
              "      } catch (error) {\n",
              "        console.error('Error during call to suggestCharts:', error);\n",
              "      }\n",
              "      quickchartButtonEl.classList.remove('colab-df-spinner');\n",
              "      quickchartButtonEl.classList.add('colab-df-quickchart-complete');\n",
              "    }\n",
              "    (() => {\n",
              "      let quickchartButtonEl =\n",
              "        document.querySelector('#df-79eed551-156e-4b8d-a3b6-f891f0120c47 button');\n",
              "      quickchartButtonEl.style.display =\n",
              "        google.colab.kernel.accessAllowed ? 'block' : 'none';\n",
              "    })();\n",
              "  </script>\n",
              "</div>\n",
              "    </div>\n",
              "  </div>\n"
            ]
          },
          "metadata": {},
          "execution_count": 16
        }
      ]
    },
    {
      "cell_type": "markdown",
      "source": [
        "\"We've got a dataset containing 1338 rows and 7 columns, each row providing details about individual customers. Our primary goal is to predict the 'expenses' column value based on the information contained in the other columns. Initially, we'll train our model on the historical data. Once it's trained, we can use it to estimate expenses for new customers by simply inputting their age, sex, BMI, number of children, smoking habits, and region.\n",
        "\n",
        "Now, let's take a look at the data types assigned to each column.\n"
      ],
      "metadata": {
        "id": "FUiuvCbnF8IU"
      }
    },
    {
      "cell_type": "code",
      "source": [
        "df.info()"
      ],
      "metadata": {
        "colab": {
          "base_uri": "https://localhost:8080/"
        },
        "id": "ibZudWLQF1C5",
        "outputId": "6dd800fe-6553-418f-8f08-4077c899cc06"
      },
      "execution_count": null,
      "outputs": [
        {
          "output_type": "stream",
          "name": "stdout",
          "text": [
            "<class 'pandas.core.frame.DataFrame'>\n",
            "RangeIndex: 1338 entries, 0 to 1337\n",
            "Data columns (total 7 columns):\n",
            " #   Column    Non-Null Count  Dtype  \n",
            "---  ------    --------------  -----  \n",
            " 0   age       1338 non-null   int64  \n",
            " 1   sex       1338 non-null   object \n",
            " 2   bmi       1338 non-null   float64\n",
            " 3   children  1338 non-null   int64  \n",
            " 4   smoker    1338 non-null   object \n",
            " 5   region    1338 non-null   object \n",
            " 6   expenses  1338 non-null   float64\n",
            "dtypes: float64(2), int64(2), object(3)\n",
            "memory usage: 73.3+ KB\n"
          ]
        }
      ]
    },
    {
      "cell_type": "code",
      "source": [
        "df.describe()"
      ],
      "metadata": {
        "colab": {
          "base_uri": "https://localhost:8080/",
          "height": 300
        },
        "id": "1iAYZOgnIFLF",
        "outputId": "e7e2b14f-d2b3-43c0-9e9c-e2578ff16e59"
      },
      "execution_count": null,
      "outputs": [
        {
          "output_type": "execute_result",
          "data": {
            "text/plain": [
              "               age          bmi     children      expenses\n",
              "count  1338.000000  1338.000000  1338.000000   1338.000000\n",
              "mean     39.207025    30.665471     1.094918  13270.422414\n",
              "std      14.049960     6.098382     1.205493  12110.011240\n",
              "min      18.000000    16.000000     0.000000   1121.870000\n",
              "25%      27.000000    26.300000     0.000000   4740.287500\n",
              "50%      39.000000    30.400000     1.000000   9382.030000\n",
              "75%      51.000000    34.700000     2.000000  16639.915000\n",
              "max      64.000000    53.100000     5.000000  63770.430000"
            ],
            "text/html": [
              "\n",
              "  <div id=\"df-471ac31e-d758-4d16-a2f6-4e576f1e2698\" class=\"colab-df-container\">\n",
              "    <div>\n",
              "<style scoped>\n",
              "    .dataframe tbody tr th:only-of-type {\n",
              "        vertical-align: middle;\n",
              "    }\n",
              "\n",
              "    .dataframe tbody tr th {\n",
              "        vertical-align: top;\n",
              "    }\n",
              "\n",
              "    .dataframe thead th {\n",
              "        text-align: right;\n",
              "    }\n",
              "</style>\n",
              "<table border=\"1\" class=\"dataframe\">\n",
              "  <thead>\n",
              "    <tr style=\"text-align: right;\">\n",
              "      <th></th>\n",
              "      <th>age</th>\n",
              "      <th>bmi</th>\n",
              "      <th>children</th>\n",
              "      <th>expenses</th>\n",
              "    </tr>\n",
              "  </thead>\n",
              "  <tbody>\n",
              "    <tr>\n",
              "      <th>count</th>\n",
              "      <td>1338.000000</td>\n",
              "      <td>1338.000000</td>\n",
              "      <td>1338.000000</td>\n",
              "      <td>1338.000000</td>\n",
              "    </tr>\n",
              "    <tr>\n",
              "      <th>mean</th>\n",
              "      <td>39.207025</td>\n",
              "      <td>30.665471</td>\n",
              "      <td>1.094918</td>\n",
              "      <td>13270.422414</td>\n",
              "    </tr>\n",
              "    <tr>\n",
              "      <th>std</th>\n",
              "      <td>14.049960</td>\n",
              "      <td>6.098382</td>\n",
              "      <td>1.205493</td>\n",
              "      <td>12110.011240</td>\n",
              "    </tr>\n",
              "    <tr>\n",
              "      <th>min</th>\n",
              "      <td>18.000000</td>\n",
              "      <td>16.000000</td>\n",
              "      <td>0.000000</td>\n",
              "      <td>1121.870000</td>\n",
              "    </tr>\n",
              "    <tr>\n",
              "      <th>25%</th>\n",
              "      <td>27.000000</td>\n",
              "      <td>26.300000</td>\n",
              "      <td>0.000000</td>\n",
              "      <td>4740.287500</td>\n",
              "    </tr>\n",
              "    <tr>\n",
              "      <th>50%</th>\n",
              "      <td>39.000000</td>\n",
              "      <td>30.400000</td>\n",
              "      <td>1.000000</td>\n",
              "      <td>9382.030000</td>\n",
              "    </tr>\n",
              "    <tr>\n",
              "      <th>75%</th>\n",
              "      <td>51.000000</td>\n",
              "      <td>34.700000</td>\n",
              "      <td>2.000000</td>\n",
              "      <td>16639.915000</td>\n",
              "    </tr>\n",
              "    <tr>\n",
              "      <th>max</th>\n",
              "      <td>64.000000</td>\n",
              "      <td>53.100000</td>\n",
              "      <td>5.000000</td>\n",
              "      <td>63770.430000</td>\n",
              "    </tr>\n",
              "  </tbody>\n",
              "</table>\n",
              "</div>\n",
              "    <div class=\"colab-df-buttons\">\n",
              "\n",
              "  <div class=\"colab-df-container\">\n",
              "    <button class=\"colab-df-convert\" onclick=\"convertToInteractive('df-471ac31e-d758-4d16-a2f6-4e576f1e2698')\"\n",
              "            title=\"Convert this dataframe to an interactive table.\"\n",
              "            style=\"display:none;\">\n",
              "\n",
              "  <svg xmlns=\"http://www.w3.org/2000/svg\" height=\"24px\" viewBox=\"0 -960 960 960\">\n",
              "    <path d=\"M120-120v-720h720v720H120Zm60-500h600v-160H180v160Zm220 220h160v-160H400v160Zm0 220h160v-160H400v160ZM180-400h160v-160H180v160Zm440 0h160v-160H620v160ZM180-180h160v-160H180v160Zm440 0h160v-160H620v160Z\"/>\n",
              "  </svg>\n",
              "    </button>\n",
              "\n",
              "  <style>\n",
              "    .colab-df-container {\n",
              "      display:flex;\n",
              "      gap: 12px;\n",
              "    }\n",
              "\n",
              "    .colab-df-convert {\n",
              "      background-color: #E8F0FE;\n",
              "      border: none;\n",
              "      border-radius: 50%;\n",
              "      cursor: pointer;\n",
              "      display: none;\n",
              "      fill: #1967D2;\n",
              "      height: 32px;\n",
              "      padding: 0 0 0 0;\n",
              "      width: 32px;\n",
              "    }\n",
              "\n",
              "    .colab-df-convert:hover {\n",
              "      background-color: #E2EBFA;\n",
              "      box-shadow: 0px 1px 2px rgba(60, 64, 67, 0.3), 0px 1px 3px 1px rgba(60, 64, 67, 0.15);\n",
              "      fill: #174EA6;\n",
              "    }\n",
              "\n",
              "    .colab-df-buttons div {\n",
              "      margin-bottom: 4px;\n",
              "    }\n",
              "\n",
              "    [theme=dark] .colab-df-convert {\n",
              "      background-color: #3B4455;\n",
              "      fill: #D2E3FC;\n",
              "    }\n",
              "\n",
              "    [theme=dark] .colab-df-convert:hover {\n",
              "      background-color: #434B5C;\n",
              "      box-shadow: 0px 1px 3px 1px rgba(0, 0, 0, 0.15);\n",
              "      filter: drop-shadow(0px 1px 2px rgba(0, 0, 0, 0.3));\n",
              "      fill: #FFFFFF;\n",
              "    }\n",
              "  </style>\n",
              "\n",
              "    <script>\n",
              "      const buttonEl =\n",
              "        document.querySelector('#df-471ac31e-d758-4d16-a2f6-4e576f1e2698 button.colab-df-convert');\n",
              "      buttonEl.style.display =\n",
              "        google.colab.kernel.accessAllowed ? 'block' : 'none';\n",
              "\n",
              "      async function convertToInteractive(key) {\n",
              "        const element = document.querySelector('#df-471ac31e-d758-4d16-a2f6-4e576f1e2698');\n",
              "        const dataTable =\n",
              "          await google.colab.kernel.invokeFunction('convertToInteractive',\n",
              "                                                    [key], {});\n",
              "        if (!dataTable) return;\n",
              "\n",
              "        const docLinkHtml = 'Like what you see? Visit the ' +\n",
              "          '<a target=\"_blank\" href=https://colab.research.google.com/notebooks/data_table.ipynb>data table notebook</a>'\n",
              "          + ' to learn more about interactive tables.';\n",
              "        element.innerHTML = '';\n",
              "        dataTable['output_type'] = 'display_data';\n",
              "        await google.colab.output.renderOutput(dataTable, element);\n",
              "        const docLink = document.createElement('div');\n",
              "        docLink.innerHTML = docLinkHtml;\n",
              "        element.appendChild(docLink);\n",
              "      }\n",
              "    </script>\n",
              "  </div>\n",
              "\n",
              "\n",
              "<div id=\"df-4cfa22e4-c675-4bfd-ba31-b81938a80b5e\">\n",
              "  <button class=\"colab-df-quickchart\" onclick=\"quickchart('df-4cfa22e4-c675-4bfd-ba31-b81938a80b5e')\"\n",
              "            title=\"Suggest charts.\"\n",
              "            style=\"display:none;\">\n",
              "\n",
              "<svg xmlns=\"http://www.w3.org/2000/svg\" height=\"24px\"viewBox=\"0 0 24 24\"\n",
              "     width=\"24px\">\n",
              "    <g>\n",
              "        <path d=\"M19 3H5c-1.1 0-2 .9-2 2v14c0 1.1.9 2 2 2h14c1.1 0 2-.9 2-2V5c0-1.1-.9-2-2-2zM9 17H7v-7h2v7zm4 0h-2V7h2v10zm4 0h-2v-4h2v4z\"/>\n",
              "    </g>\n",
              "</svg>\n",
              "  </button>\n",
              "\n",
              "<style>\n",
              "  .colab-df-quickchart {\n",
              "      --bg-color: #E8F0FE;\n",
              "      --fill-color: #1967D2;\n",
              "      --hover-bg-color: #E2EBFA;\n",
              "      --hover-fill-color: #174EA6;\n",
              "      --disabled-fill-color: #AAA;\n",
              "      --disabled-bg-color: #DDD;\n",
              "  }\n",
              "\n",
              "  [theme=dark] .colab-df-quickchart {\n",
              "      --bg-color: #3B4455;\n",
              "      --fill-color: #D2E3FC;\n",
              "      --hover-bg-color: #434B5C;\n",
              "      --hover-fill-color: #FFFFFF;\n",
              "      --disabled-bg-color: #3B4455;\n",
              "      --disabled-fill-color: #666;\n",
              "  }\n",
              "\n",
              "  .colab-df-quickchart {\n",
              "    background-color: var(--bg-color);\n",
              "    border: none;\n",
              "    border-radius: 50%;\n",
              "    cursor: pointer;\n",
              "    display: none;\n",
              "    fill: var(--fill-color);\n",
              "    height: 32px;\n",
              "    padding: 0;\n",
              "    width: 32px;\n",
              "  }\n",
              "\n",
              "  .colab-df-quickchart:hover {\n",
              "    background-color: var(--hover-bg-color);\n",
              "    box-shadow: 0 1px 2px rgba(60, 64, 67, 0.3), 0 1px 3px 1px rgba(60, 64, 67, 0.15);\n",
              "    fill: var(--button-hover-fill-color);\n",
              "  }\n",
              "\n",
              "  .colab-df-quickchart-complete:disabled,\n",
              "  .colab-df-quickchart-complete:disabled:hover {\n",
              "    background-color: var(--disabled-bg-color);\n",
              "    fill: var(--disabled-fill-color);\n",
              "    box-shadow: none;\n",
              "  }\n",
              "\n",
              "  .colab-df-spinner {\n",
              "    border: 2px solid var(--fill-color);\n",
              "    border-color: transparent;\n",
              "    border-bottom-color: var(--fill-color);\n",
              "    animation:\n",
              "      spin 1s steps(1) infinite;\n",
              "  }\n",
              "\n",
              "  @keyframes spin {\n",
              "    0% {\n",
              "      border-color: transparent;\n",
              "      border-bottom-color: var(--fill-color);\n",
              "      border-left-color: var(--fill-color);\n",
              "    }\n",
              "    20% {\n",
              "      border-color: transparent;\n",
              "      border-left-color: var(--fill-color);\n",
              "      border-top-color: var(--fill-color);\n",
              "    }\n",
              "    30% {\n",
              "      border-color: transparent;\n",
              "      border-left-color: var(--fill-color);\n",
              "      border-top-color: var(--fill-color);\n",
              "      border-right-color: var(--fill-color);\n",
              "    }\n",
              "    40% {\n",
              "      border-color: transparent;\n",
              "      border-right-color: var(--fill-color);\n",
              "      border-top-color: var(--fill-color);\n",
              "    }\n",
              "    60% {\n",
              "      border-color: transparent;\n",
              "      border-right-color: var(--fill-color);\n",
              "    }\n",
              "    80% {\n",
              "      border-color: transparent;\n",
              "      border-right-color: var(--fill-color);\n",
              "      border-bottom-color: var(--fill-color);\n",
              "    }\n",
              "    90% {\n",
              "      border-color: transparent;\n",
              "      border-bottom-color: var(--fill-color);\n",
              "    }\n",
              "  }\n",
              "</style>\n",
              "\n",
              "  <script>\n",
              "    async function quickchart(key) {\n",
              "      const quickchartButtonEl =\n",
              "        document.querySelector('#' + key + ' button');\n",
              "      quickchartButtonEl.disabled = true;  // To prevent multiple clicks.\n",
              "      quickchartButtonEl.classList.add('colab-df-spinner');\n",
              "      try {\n",
              "        const charts = await google.colab.kernel.invokeFunction(\n",
              "            'suggestCharts', [key], {});\n",
              "      } catch (error) {\n",
              "        console.error('Error during call to suggestCharts:', error);\n",
              "      }\n",
              "      quickchartButtonEl.classList.remove('colab-df-spinner');\n",
              "      quickchartButtonEl.classList.add('colab-df-quickchart-complete');\n",
              "    }\n",
              "    (() => {\n",
              "      let quickchartButtonEl =\n",
              "        document.querySelector('#df-4cfa22e4-c675-4bfd-ba31-b81938a80b5e button');\n",
              "      quickchartButtonEl.style.display =\n",
              "        google.colab.kernel.accessAllowed ? 'block' : 'none';\n",
              "    })();\n",
              "  </script>\n",
              "</div>\n",
              "    </div>\n",
              "  </div>\n"
            ]
          },
          "metadata": {},
          "execution_count": 18
        }
      ]
    },
    {
      "cell_type": "markdown",
      "source": [
        "The numerical columns have reasonable value ranges; fortunately, there are no negative ages, so extensive data cleaning or correction may not be necessary. However, it's worth noting that the \"expenses\" column appears to be significantly skewed, as evidenced by the fact that the median 50th percentile is considerably lower than the maximum value.\n",
        "\n",
        "Regarding the \"expenses\" column, there appears to be a significant difference between the 75th percentile and the maximum expense value, indicating the presence of outliers. These outliers will need to be addressed.\n",
        "\n",
        "As for the \"bmi\" column, the range of values between the 75th percentile and the maximum BMI value is relatively small, suggesting that there might be some outliers here as well.\n",
        "\n",
        "Interestingly, nearly 50 percent of the customers have only one child based on the available data."
      ],
      "metadata": {
        "id": "38s-YvouItQi"
      }
    },
    {
      "cell_type": "code",
      "source": [
        "plt.figure(figsize = (12,8))\n",
        "g = sns.countplot(x=\"age\",data=df,palette='hls')\n",
        "g.set_title(\"different age groups\", fontsize=15)\n",
        "g.set_xlabel(\"age\", fontsize=15)\n",
        "g.set_ylabel(\"count\", fontsize=15)"
      ],
      "metadata": {
        "colab": {
          "base_uri": "https://localhost:8080/",
          "height": 744
        },
        "id": "ljlnaqJdJpVc",
        "outputId": "9c9f08bd-9e2e-4ff7-ed1a-d8708e9cef0b"
      },
      "execution_count": 5,
      "outputs": [
        {
          "output_type": "execute_result",
          "data": {
            "text/plain": [
              "Text(0, 0.5, 'count')"
            ]
          },
          "metadata": {},
          "execution_count": 5
        },
        {
          "output_type": "display_data",
          "data": {
            "text/plain": [
              "<Figure size 1200x800 with 1 Axes>"
            ],
            "image/png": "[encoded data removed]"
          },
          "metadata": {}
        }
      ]
    },
    {
      "cell_type": "markdown",
      "source": [
        "The dataset shows a fairly uniform distribution of ages, with approximately 20-30 customers at each age, except for ages 18 and 19, which have significantly more than twice as many customers compared to other ages in the dataset."
      ],
      "metadata": {
        "id": "BafeLwiLNeUW"
      }
    },
    {
      "cell_type": "code",
      "source": [
        "import plotly.express as px\n",
        "\n",
        "fig = px.box(\n",
        "    df,          # DataFrame containing your data\n",
        "    x='bmi',     # Column to use as the x-axis (BMI in this case)\n",
        "    color_discrete_sequence=['blue'],  # Set the color of the boxes to blue\n",
        "    title='Box Plot of BMI (Body Mass Index)'  # Set the title of the plot\n",
        ")\n",
        "\n",
        "fig.show()  # Display the box plot\n"
      ],
      "metadata": {
        "colab": {
          "base_uri": "https://localhost:8080/",
          "height": 542
        },
        "id": "XIOoQyjhITPT",
        "outputId": "8dae6a31-cf0e-4e03-a8d0-60e8324b4a7c"
      },
      "execution_count": 25,
      "outputs": [
        {
          "output_type": "display_data",
          "data": {
            "text/html": [
              "<html>\n",
              "<head><meta charset=\"utf-8\" /></head>\n",
              "<body>\n",
              "    <div>            <script src=\"https://cdnjs.cloudflare.com/ajax/libs/mathjax/2.7.5/MathJax.js?config=TeX-AMS-MML_SVG\"></script><script type=\"text/javascript\">if (window.MathJax && window.MathJax.Hub && window.MathJax.Hub.Config) {window.MathJax.Hub.Config({SVG: {font: \"STIX-Web\"}});}</script>                <script type=\"text/javascript\">window.PlotlyConfig = {MathJaxConfig: 'local'};</script>\n",
              "        <script charset=\"utf-8\" src=\"https://cdn.plot.ly/plotly-2.24.1.min.js\"></script>                <div id=\"7733ca4a-f5ff-4604-aa92-699398cd02fd\" class=\"plotly-graph-div\" style=\"height:525px; width:100%;\"></div>            <script type=\"text/javascript\">                                    window.PLOTLYENV=window.PLOTLYENV || {};                                    if (document.getElementById(\"7733ca4a-f5ff-4604-aa92-699398cd02fd\")) {                    Plotly.newPlot(                        \"7733ca4a-f5ff-4604-aa92-699398cd02fd\",                        [{\"alignmentgroup\":\"True\",\"hovertemplate\":\"bmi=%{x}\\u003cextra\\u003e\\u003c\\u002fextra\\u003e\",\"legendgroup\":\"\",\"marker\":{\"color\":\"blue\"},\"name\":\"\",\"notched\":false,\"offsetgroup\":\"\",\"orientation\":\"h\",\"showlegend\":false,\"x\":[27.9,33.8,33.0,22.7,28.9,25.7,33.4,27.7,29.8,25.8,26.2,26.3,34.4,39.8,42.1,24.6,30.8,23.8,40.3,35.3,36.0,32.4,34.1,31.9,28.0,27.7,23.1,32.8,17.4,36.3,35.6,26.3,28.6,28.3,36.4,20.4,33.0,20.8,36.7,39.9,26.6,36.6,21.8,30.8,37.1,37.3,38.7,34.8,24.5,35.2,35.6,33.6,28.0,34.4,28.7,37.0,31.8,31.7,22.9,37.3,27.4,33.7,24.7,25.9,22.4,28.9,39.1,26.3,36.2,24.0,24.8,28.5,28.1,32.0,27.4,34.0,29.6,35.5,39.8,33.0,26.9,38.3,37.6,41.2,34.8,22.9,31.2,27.2,27.7,27.0,39.5,24.8,29.8,34.8,31.3,37.6,30.8,38.3,20.0,19.3,31.6,25.5,30.1,29.9,27.5,28.0,28.4,30.9,27.9,35.1,33.6,29.7,30.8,35.7,32.2,28.6,49.1,27.9,27.2,23.4,37.1,23.8,29.0,31.4,33.9,28.8,28.3,37.4,17.8,34.7,26.5,22.0,35.9,25.6,28.8,28.1,34.1,25.2,31.9,36.0,22.4,32.5,25.3,29.7,28.7,38.8,30.5,37.7,37.4,28.4,24.1,29.7,37.1,23.4,25.5,39.5,24.4,25.2,35.5,27.8,26.6,36.9,39.6,29.8,29.6,28.2,37.0,33.2,31.8,18.9,41.5,30.3,16.0,34.8,33.3,37.7,27.8,29.2,28.9,33.2,28.6,38.3,20.0,26.4,30.7,41.9,29.9,30.9,32.2,32.1,31.6,26.2,25.7,26.6,34.4,30.6,32.8,28.6,18.1,39.3,32.1,32.2,24.0,36.1,22.3,28.9,26.4,27.7,31.8,41.2,33.0,30.9,28.5,26.7,30.9,37.1,26.6,23.1,29.9,23.2,33.7,33.3,30.8,34.8,24.6,33.9,38.1,41.9,31.6,25.5,36.2,27.8,17.8,27.5,24.5,22.2,26.7,38.4,29.1,38.1,36.7,22.1,26.8,35.3,27.7,30.0,38.1,35.9,20.9,29.0,17.3,32.2,34.2,30.3,31.8,25.4,33.6,40.2,24.4,31.9,25.2,26.8,24.3,37.0,38.1,42.4,19.8,32.4,30.2,25.8,29.4,34.2,37.1,27.5,27.6,26.6,20.6,24.3,31.8,21.6,28.1,40.6,27.6,32.4,31.2,26.6,48.1,26.2,36.8,26.4,33.4,29.6,45.5,28.8,26.8,23.0,27.7,25.4,34.4,28.9,27.6,22.6,37.5,33.0,38.0,33.3,27.5,33.3,34.9,33.1,26.6,24.7,36.0,35.9,31.4,33.3,32.2,32.8,27.6,37.3,25.3,29.6,30.8,40.9,27.2,34.1,23.2,36.5,33.8,36.7,36.4,27.4,31.2,28.8,35.7,34.5,25.7,27.6,32.3,27.7,27.6,30.0,27.6,36.8,41.5,29.3,35.8,33.3,29.9,27.8,23.2,25.6,27.7,35.2,38.3,27.6,43.9,29.8,41.9,20.8,32.3,30.5,21.7,26.4,21.9,30.8,32.3,25.0,32.0,30.4,21.1,22.2,33.2,32.9,33.3,28.3,24.9,40.2,30.1,31.5,18.0,30.7,33.0,43.3,22.1,34.4,39.1,25.4,22.6,30.2,35.6,37.4,31.4,31.4,32.3,19.9,34.4,31.0,25.6,38.2,20.6,47.5,33.0,32.3,20.4,38.4,24.3,23.6,21.1,30.0,17.5,20.2,17.2,23.9,35.2,35.6,34.1,22.6,39.2,27.0,33.9,35.9,32.8,30.6,30.2,24.3,27.3,29.2,16.8,30.4,33.1,20.2,26.9,30.5,28.6,33.1,31.7,28.9,46.8,29.5,32.7,33.5,43.0,36.5,26.7,33.1,29.6,25.7,29.6,38.6,29.6,24.1,23.4,29.7,46.5,37.4,30.1,30.5,39.6,33.0,36.6,30.0,38.1,25.9,25.2,28.4,28.7,33.8,24.3,24.1,32.7,30.1,29.8,33.3,25.1,28.3,28.5,35.6,36.9,32.6,41.3,37.5,31.4,39.5,34.3,31.1,21.5,28.7,38.1,31.2,32.9,25.1,25.1,43.4,25.7,27.9,23.6,28.7,24.0,39.2,34.4,26.0,23.2,30.3,28.9,30.9,31.4,23.8,25.3,28.7,32.1,33.7,22.4,30.4,28.3,35.7,35.3,30.5,31.0,30.9,27.4,44.2,33.9,37.7,26.1,33.9,30.6,25.8,39.4,25.5,42.1,31.7,29.7,36.2,40.5,28.0,38.9,30.2,28.1,31.4,38.0,31.8,36.3,47.4,30.2,25.8,35.4,46.7,28.6,46.2,30.8,28.9,21.4,31.7,41.3,23.8,33.4,34.2,34.1,35.5,20.0,32.7,30.5,44.8,32.1,30.5,40.6,30.6,31.9,40.6,29.1,37.3,43.1,36.9,34.3,27.2,26.8,38.1,30.2,23.5,25.5,30.6,45.4,23.7,20.7,28.3,20.2,30.2,35.9,30.7,29.0,19.6,31.1,21.9,40.3,33.7,29.5,33.3,32.6,37.5,39.2,31.6,25.3,39.1,28.3,34.1,25.2,23.7,27.0,37.8,29.4,34.8,33.2,19.0,33.0,36.6,28.6,25.6,33.1,37.1,31.4,34.1,21.3,33.5,28.8,26.0,28.9,42.5,38.0,39.0,36.1,29.3,35.5,22.7,39.7,38.2,24.5,38.1,26.4,33.7,42.4,28.3,33.9,35.0,35.3,30.8,26.2,23.4,28.5,33.0,42.7,39.6,31.1,36.3,35.2,25.3,42.4,33.2,35.9,28.8,46.5,24.0,31.5,33.7,23.0,38.1,28.7,32.8,32.0,29.8,31.6,31.2,29.7,31.0,43.9,21.4,40.8,31.4,36.1,23.2,17.4,20.3,35.3,24.3,18.5,26.4,26.1,41.7,24.1,31.1,27.4,36.2,32.4,23.7,34.8,40.2,32.3,35.8,33.7,39.3,34.9,44.7,41.5,26.4,29.5,32.9,38.1,28.7,30.5,27.7,35.2,23.5,30.7,40.5,22.6,28.9,22.6,24.3,36.7,33.4,40.7,36.6,37.4,35.4,27.1,39.1,28.4,21.8,40.3,36.1,24.4,21.4,30.1,27.3,32.1,34.8,38.4,23.7,31.7,35.5,24.0,29.2,34.1,26.6,26.4,30.1,27.0,21.8,36.0,30.9,26.4,29.0,37.9,22.8,33.6,27.6,22.8,27.8,37.4,38.2,34.6,35.2,27.1,26.0,25.2,31.8,32.3,29.0,39.7,19.5,36.1,26.7,36.5,28.9,34.2,33.3,32.3,39.8,34.3,28.9,24.4,41.1,36.0,27.6,29.3,27.7,37.0,36.9,22.5,29.9,41.8,27.6,23.2,20.9,31.9,28.5,44.2,22.9,33.1,24.8,26.2,36.0,22.3,42.2,26.5,35.8,41.4,36.6,30.1,25.8,30.8,42.9,21.0,22.5,34.4,31.5,24.2,37.1,26.1,35.5,33.7,17.7,31.1,29.8,24.3,31.8,31.8,28.0,30.8,21.9,33.1,25.8,23.8,34.4,33.8,36.0,31.5,28.3,23.5,31.4,31.1,24.7,32.8,29.8,30.5,32.5,34.2,50.4,24.1,32.8,30.8,32.3,35.5,23.8,23.8,29.6,33.1,24.1,32.2,28.1,47.6,28.0,33.5,19.9,25.4,29.9,37.3,43.7,23.7,24.3,36.2,29.5,24.9,30.1,21.9,28.1,27.1,33.4,28.8,29.5,34.8,27.4,22.1,37.1,26.7,28.9,29.0,30.0,39.5,33.6,26.9,29.0,24.0,38.9,32.1,44.0,20.0,25.6,40.3,22.5,22.5,40.9,27.3,36.9,35.1,29.4,32.6,32.3,39.8,24.6,28.3,31.7,26.7,27.5,24.6,34.0,26.9,22.9,28.2,34.2,25.0,33.2,31.0,35.8,23.2,32.1,23.4,20.1,39.2,34.2,46.5,32.5,25.8,35.3,37.2,27.5,29.7,24.2,26.2,29.5,23.2,46.1,40.2,22.6,39.9,35.8,35.8,34.2,31.3,29.7,18.3,42.9,28.4,30.2,27.8,39.5,30.8,26.8,35.0,36.7,39.6,25.9,35.2,24.8,36.8,27.1,24.8,25.4,25.7,34.3,28.2,23.6,20.2,40.5,35.4,22.9,40.2,29.2,40.0,29.9,25.5,21.4,25.9,30.6,30.1,25.8,30.1,27.6,34.7,20.5,19.8,27.8,31.6,28.3,20.0,23.3,34.1,36.9,36.3,26.9,23.0,32.7,25.8,29.6,19.2,31.7,29.3,28.2,25.0,27.7,22.8,20.1,33.3,32.3,27.6,25.5,24.6,34.2,35.8,32.7,37.0,31.0,36.1,23.3,45.3,34.6,26.0,18.7,31.6,17.3,23.7,35.2,27.9,21.6,38.4,23.0,37.1,30.5,28.9,27.3,28.0,23.1,30.7,25.8,35.2,24.7,25.1,52.6,22.5,30.9,37.0,26.4,29.8,29.8,21.5,27.6,28.9,31.8,39.5,33.8,32.0,27.9,41.1,28.6,25.6,25.3,37.3,42.7,21.7,31.9,37.1,31.4,31.3,28.9,18.3,29.6,32.0,26.0,31.7,33.7,21.8,27.8,20.0,31.5,30.5,18.3,29.0,31.5,47.7,22.1,36.2,29.8,32.7,30.4,33.7,31.4,35.0,33.8,30.9,34.0,19.1,28.6,38.9,36.1,29.8,31.2,29.9,26.2,30.0,20.4,32.3,38.4,25.9,26.3,24.5,32.7,29.6,33.3,35.8,20.0,31.4,38.2,36.9,32.4,42.8,25.1,29.9,35.9,32.8,18.6,23.9,45.9,40.3,18.3,33.8,28.1,25.0,22.2,30.3,32.5,37.1,32.6,24.9,32.3,32.3,32.8,32.8,31.9,21.5,34.1,30.3,36.5,32.6,35.8,27.9,22.1,44.9,23.2,30.6,41.1,34.6,42.1,38.8,28.2,28.3,26.1,40.4,24.6,35.2,34.1,27.4,26.7,41.9,29.3,32.1,27.1,24.1,27.4,34.9,29.8,41.3,29.9,30.3,27.4,28.5,23.6,35.6,32.7,25.3,28.0,32.8,21.8,32.4,36.6,21.8,27.9,30.0,33.6,29.4,25.8,24.3,40.4,32.1,32.3,27.3,17.9,34.8,33.4,25.6,37.1,30.9,34.1,21.5,33.3,31.3,39.1,25.1,37.3,34.6,30.2,21.9,25.0,25.3,24.4,23.9,39.8,16.8,37.2,34.4,30.3,34.5,21.8,24.6,23.3,27.8,31.1,21.7,28.2,22.7,42.1,41.8,37.0,21.3,33.1,33.3,24.3,25.7,29.4,39.8,33.6,29.8,19.8,27.3,29.3,27.7,37.9,36.4,27.6,37.7,23.2,20.5,37.1,28.1,29.9,33.3,23.8,30.5,31.1,33.3,27.5,33.9,34.5,25.5,27.6,27.1,23.7,30.4,29.7,29.9,26.8,33.3,27.6,21.7,30.0,36.3,24.3,17.3,25.9,39.4,34.3,20.0,34.9,23.2,25.7,25.2,22.0,26.1,26.5,27.5,25.7,30.4,30.9,20.8,27.8,24.6,27.7,21.9,28.1,30.2,32.2,26.3,26.7,42.9,34.7,23.7,28.3,20.6,53.1,39.7,26.3,31.1,26.7,38.8,40.4,25.9,33.5,32.9,30.0,24.2,38.6,25.7,33.4,44.7,31.0,31.9,36.9,25.8,29.1],\"x0\":\" \",\"xaxis\":\"x\",\"y0\":\" \",\"yaxis\":\"y\",\"type\":\"box\"}],                        {\"template\":{\"data\":{\"histogram2dcontour\":[{\"type\":\"histogram2dcontour\",\"colorbar\":{\"outlinewidth\":0,\"ticks\":\"\"},\"colorscale\":[[0.0,\"#0d0887\"],[0.1111111111111111,\"#46039f\"],[0.2222222222222222,\"#7201a8\"],[0.3333333333333333,\"#9c179e\"],[0.4444444444444444,\"#bd3786\"],[0.5555555555555556,\"#d8576b\"],[0.6666666666666666,\"#ed7953\"],[0.7777777777777778,\"#fb9f3a\"],[0.8888888888888888,\"#fdca26\"],[1.0,\"#f0f921\"]]}],\"choropleth\":[{\"type\":\"choropleth\",\"colorbar\":{\"outlinewidth\":0,\"ticks\":\"\"}}],\"histogram2d\":[{\"type\":\"histogram2d\",\"colorbar\":{\"outlinewidth\":0,\"ticks\":\"\"},\"colorscale\":[[0.0,\"#0d0887\"],[0.1111111111111111,\"#46039f\"],[0.2222222222222222,\"#7201a8\"],[0.3333333333333333,\"#9c179e\"],[0.4444444444444444,\"#bd3786\"],[0.5555555555555556,\"#d8576b\"],[0.6666666666666666,\"#ed7953\"],[0.7777777777777778,\"#fb9f3a\"],[0.8888888888888888,\"#fdca26\"],[1.0,\"#f0f921\"]]}],\"heatmap\":[{\"type\":\"heatmap\",\"colorbar\":{\"outlinewidth\":0,\"ticks\":\"\"},\"colorscale\":[[0.0,\"#0d0887\"],[0.1111111111111111,\"#46039f\"],[0.2222222222222222,\"#7201a8\"],[0.3333333333333333,\"#9c179e\"],[0.4444444444444444,\"#bd3786\"],[0.5555555555555556,\"#d8576b\"],[0.6666666666666666,\"#ed7953\"],[0.7777777777777778,\"#fb9f3a\"],[0.8888888888888888,\"#fdca26\"],[1.0,\"#f0f921\"]]}],\"heatmapgl\":[{\"type\":\"heatmapgl\",\"colorbar\":{\"outlinewidth\":0,\"ticks\":\"\"},\"colorscale\":[[0.0,\"#0d0887\"],[0.1111111111111111,\"#46039f\"],[0.2222222222222222,\"#7201a8\"],[0.3333333333333333,\"#9c179e\"],[0.4444444444444444,\"#bd3786\"],[0.5555555555555556,\"#d8576b\"],[0.6666666666666666,\"#ed7953\"],[0.7777777777777778,\"#fb9f3a\"],[0.8888888888888888,\"#fdca26\"],[1.0,\"#f0f921\"]]}],\"contourcarpet\":[{\"type\":\"contourcarpet\",\"colorbar\":{\"outlinewidth\":0,\"ticks\":\"\"}}],\"contour\":[{\"type\":\"contour\",\"colorbar\":{\"outlinewidth\":0,\"ticks\":\"\"},\"colorscale\":[[0.0,\"#0d0887\"],[0.1111111111111111,\"#46039f\"],[0.2222222222222222,\"#7201a8\"],[0.3333333333333333,\"#9c179e\"],[0.4444444444444444,\"#bd3786\"],[0.5555555555555556,\"#d8576b\"],[0.6666666666666666,\"#ed7953\"],[0.7777777777777778,\"#fb9f3a\"],[0.8888888888888888,\"#fdca26\"],[1.0,\"#f0f921\"]]}],\"surface\":[{\"type\":\"surface\",\"colorbar\":{\"outlinewidth\":0,\"ticks\":\"\"},\"colorscale\":[[0.0,\"#0d0887\"],[0.1111111111111111,\"#46039f\"],[0.2222222222222222,\"#7201a8\"],[0.3333333333333333,\"#9c179e\"],[0.4444444444444444,\"#bd3786\"],[0.5555555555555556,\"#d8576b\"],[0.6666666666666666,\"#ed7953\"],[0.7777777777777778,\"#fb9f3a\"],[0.8888888888888888,\"#fdca26\"],[1.0,\"#f0f921\"]]}],\"mesh3d\":[{\"type\":\"mesh3d\",\"colorbar\":{\"outlinewidth\":0,\"ticks\":\"\"}}],\"scatter\":[{\"fillpattern\":{\"fillmode\":\"overlay\",\"size\":10,\"solidity\":0.2},\"type\":\"scatter\"}],\"parcoords\":[{\"type\":\"parcoords\",\"line\":{\"colorbar\":{\"outlinewidth\":0,\"ticks\":\"\"}}}],\"scatterpolargl\":[{\"type\":\"scatterpolargl\",\"marker\":{\"colorbar\":{\"outlinewidth\":0,\"ticks\":\"\"}}}],\"bar\":[{\"error_x\":{\"color\":\"#2a3f5f\"},\"error_y\":{\"color\":\"#2a3f5f\"},\"marker\":{\"line\":{\"color\":\"#E5ECF6\",\"width\":0.5},\"pattern\":{\"fillmode\":\"overlay\",\"size\":10,\"solidity\":0.2}},\"type\":\"bar\"}],\"scattergeo\":[{\"type\":\"scattergeo\",\"marker\":{\"colorbar\":{\"outlinewidth\":0,\"ticks\":\"\"}}}],\"scatterpolar\":[{\"type\":\"scatterpolar\",\"marker\":{\"colorbar\":{\"outlinewidth\":0,\"ticks\":\"\"}}}],\"histogram\":[{\"marker\":{\"pattern\":{\"fillmode\":\"overlay\",\"size\":10,\"solidity\":0.2}},\"type\":\"histogram\"}],\"scattergl\":[{\"type\":\"scattergl\",\"marker\":{\"colorbar\":{\"outlinewidth\":0,\"ticks\":\"\"}}}],\"scatter3d\":[{\"type\":\"scatter3d\",\"line\":{\"colorbar\":{\"outlinewidth\":0,\"ticks\":\"\"}},\"marker\":{\"colorbar\":{\"outlinewidth\":0,\"ticks\":\"\"}}}],\"scattermapbox\":[{\"type\":\"scattermapbox\",\"marker\":{\"colorbar\":{\"outlinewidth\":0,\"ticks\":\"\"}}}],\"scatterternary\":[{\"type\":\"scatterternary\",\"marker\":{\"colorbar\":{\"outlinewidth\":0,\"ticks\":\"\"}}}],\"scattercarpet\":[{\"type\":\"scattercarpet\",\"marker\":{\"colorbar\":{\"outlinewidth\":0,\"ticks\":\"\"}}}],\"carpet\":[{\"aaxis\":{\"endlinecolor\":\"#2a3f5f\",\"gridcolor\":\"white\",\"linecolor\":\"white\",\"minorgridcolor\":\"white\",\"startlinecolor\":\"#2a3f5f\"},\"baxis\":{\"endlinecolor\":\"#2a3f5f\",\"gridcolor\":\"white\",\"linecolor\":\"white\",\"minorgridcolor\":\"white\",\"startlinecolor\":\"#2a3f5f\"},\"type\":\"carpet\"}],\"table\":[{\"cells\":{\"fill\":{\"color\":\"#EBF0F8\"},\"line\":{\"color\":\"white\"}},\"header\":{\"fill\":{\"color\":\"#C8D4E3\"},\"line\":{\"color\":\"white\"}},\"type\":\"table\"}],\"barpolar\":[{\"marker\":{\"line\":{\"color\":\"#E5ECF6\",\"width\":0.5},\"pattern\":{\"fillmode\":\"overlay\",\"size\":10,\"solidity\":0.2}},\"type\":\"barpolar\"}],\"pie\":[{\"automargin\":true,\"type\":\"pie\"}]},\"layout\":{\"autotypenumbers\":\"strict\",\"colorway\":[\"#636efa\",\"#EF553B\",\"#00cc96\",\"#ab63fa\",\"#FFA15A\",\"#19d3f3\",\"#FF6692\",\"#B6E880\",\"#FF97FF\",\"#FECB52\"],\"font\":{\"color\":\"#2a3f5f\"},\"hovermode\":\"closest\",\"hoverlabel\":{\"align\":\"left\"},\"paper_bgcolor\":\"white\",\"plot_bgcolor\":\"#E5ECF6\",\"polar\":{\"bgcolor\":\"#E5ECF6\",\"angularaxis\":{\"gridcolor\":\"white\",\"linecolor\":\"white\",\"ticks\":\"\"},\"radialaxis\":{\"gridcolor\":\"white\",\"linecolor\":\"white\",\"ticks\":\"\"}},\"ternary\":{\"bgcolor\":\"#E5ECF6\",\"aaxis\":{\"gridcolor\":\"white\",\"linecolor\":\"white\",\"ticks\":\"\"},\"baxis\":{\"gridcolor\":\"white\",\"linecolor\":\"white\",\"ticks\":\"\"},\"caxis\":{\"gridcolor\":\"white\",\"linecolor\":\"white\",\"ticks\":\"\"}},\"coloraxis\":{\"colorbar\":{\"outlinewidth\":0,\"ticks\":\"\"}},\"colorscale\":{\"sequential\":[[0.0,\"#0d0887\"],[0.1111111111111111,\"#46039f\"],[0.2222222222222222,\"#7201a8\"],[0.3333333333333333,\"#9c179e\"],[0.4444444444444444,\"#bd3786\"],[0.5555555555555556,\"#d8576b\"],[0.6666666666666666,\"#ed7953\"],[0.7777777777777778,\"#fb9f3a\"],[0.8888888888888888,\"#fdca26\"],[1.0,\"#f0f921\"]],\"sequentialminus\":[[0.0,\"#0d0887\"],[0.1111111111111111,\"#46039f\"],[0.2222222222222222,\"#7201a8\"],[0.3333333333333333,\"#9c179e\"],[0.4444444444444444,\"#bd3786\"],[0.5555555555555556,\"#d8576b\"],[0.6666666666666666,\"#ed7953\"],[0.7777777777777778,\"#fb9f3a\"],[0.8888888888888888,\"#fdca26\"],[1.0,\"#f0f921\"]],\"diverging\":[[0,\"#8e0152\"],[0.1,\"#c51b7d\"],[0.2,\"#de77ae\"],[0.3,\"#f1b6da\"],[0.4,\"#fde0ef\"],[0.5,\"#f7f7f7\"],[0.6,\"#e6f5d0\"],[0.7,\"#b8e186\"],[0.8,\"#7fbc41\"],[0.9,\"#4d9221\"],[1,\"#276419\"]]},\"xaxis\":{\"gridcolor\":\"white\",\"linecolor\":\"white\",\"ticks\":\"\",\"title\":{\"standoff\":15},\"zerolinecolor\":\"white\",\"automargin\":true,\"zerolinewidth\":2},\"yaxis\":{\"gridcolor\":\"white\",\"linecolor\":\"white\",\"ticks\":\"\",\"title\":{\"standoff\":15},\"zerolinecolor\":\"white\",\"automargin\":true,\"zerolinewidth\":2},\"scene\":{\"xaxis\":{\"backgroundcolor\":\"#E5ECF6\",\"gridcolor\":\"white\",\"linecolor\":\"white\",\"showbackground\":true,\"ticks\":\"\",\"zerolinecolor\":\"white\",\"gridwidth\":2},\"yaxis\":{\"backgroundcolor\":\"#E5ECF6\",\"gridcolor\":\"white\",\"linecolor\":\"white\",\"showbackground\":true,\"ticks\":\"\",\"zerolinecolor\":\"white\",\"gridwidth\":2},\"zaxis\":{\"backgroundcolor\":\"#E5ECF6\",\"gridcolor\":\"white\",\"linecolor\":\"white\",\"showbackground\":true,\"ticks\":\"\",\"zerolinecolor\":\"white\",\"gridwidth\":2}},\"shapedefaults\":{\"line\":{\"color\":\"#2a3f5f\"}},\"annotationdefaults\":{\"arrowcolor\":\"#2a3f5f\",\"arrowhead\":0,\"arrowwidth\":1},\"geo\":{\"bgcolor\":\"white\",\"landcolor\":\"#E5ECF6\",\"subunitcolor\":\"white\",\"showland\":true,\"showlakes\":true,\"lakecolor\":\"white\"},\"title\":{\"x\":0.05},\"mapbox\":{\"style\":\"light\"}}},\"xaxis\":{\"anchor\":\"y\",\"domain\":[0.0,1.0],\"title\":{\"text\":\"bmi\"}},\"yaxis\":{\"anchor\":\"x\",\"domain\":[0.0,1.0]},\"legend\":{\"tracegroupgap\":0},\"title\":{\"text\":\"Box Plot of BMI (Body Mass Index)\"},\"boxmode\":\"group\"},                        {\"responsive\": true}                    ).then(function(){\n",
              "                            \n",
              "var gd = document.getElementById('7733ca4a-f5ff-4604-aa92-699398cd02fd');\n",
              "var x = new MutationObserver(function (mutations, observer) {{\n",
              "        var display = window.getComputedStyle(gd).display;\n",
              "        if (!display || display === 'none') {{\n",
              "            console.log([gd, 'removed!']);\n",
              "            Plotly.purge(gd);\n",
              "            observer.disconnect();\n",
              "        }}\n",
              "}});\n",
              "\n",
              "// Listen for the removal of the full notebook cells\n",
              "var notebookContainer = gd.closest('#notebook-container');\n",
              "if (notebookContainer) {{\n",
              "    x.observe(notebookContainer, {childList: true});\n",
              "}}\n",
              "\n",
              "// Listen for the clearing of the current output cell\n",
              "var outputEl = gd.closest('.output');\n",
              "if (outputEl) {{\n",
              "    x.observe(outputEl, {childList: true});\n",
              "}}\n",
              "\n",
              "                        })                };                            </script>        </div>\n",
              "</body>\n",
              "</html>"
            ]
          },
          "metadata": {}
        }
      ]
    },
    {
      "cell_type": "markdown",
      "source": [
        "The values are centered around 30"
      ],
      "metadata": {
        "id": "qEglC8dnOH6B"
      }
    },
    {
      "cell_type": "code",
      "source": [
        "import plotly.express as px\n",
        "\n",
        "fig = px.box(\n",
        "    df,          # DataFrame containing your data\n",
        "    x='expenses',     # Column to use as the x-axis (expenses in this case)\n",
        "    color='smoker',  # Differentiate data by the 'smoker' column\n",
        "    color_discrete_sequence=['red', 'blue'],  # Set colors for 'smoker' categories\n",
        "    title=\"Box Plot of Annual Medical Expenses\"  # Set the title of the plot\n",
        ")\n",
        "\n",
        "fig.show()  # Display the box plot\n"
      ],
      "metadata": {
        "colab": {
          "base_uri": "https://localhost:8080/",
          "height": 542
        },
        "id": "dCdn27pkJ7cq",
        "outputId": "2f0c7c91-20ee-43ea-fdb8-d2c2c415bc9c"
      },
      "execution_count": 26,
      "outputs": [
        {
          "output_type": "display_data",
          "data": {
            "text/html": [
              "<html>\n",
              "<head><meta charset=\"utf-8\" /></head>\n",
              "<body>\n",
              "    <div>            <script src=\"https://cdnjs.cloudflare.com/ajax/libs/mathjax/2.7.5/MathJax.js?config=TeX-AMS-MML_SVG\"></script><script type=\"text/javascript\">if (window.MathJax && window.MathJax.Hub && window.MathJax.Hub.Config) {window.MathJax.Hub.Config({SVG: {font: \"STIX-Web\"}});}</script>                <script type=\"text/javascript\">window.PlotlyConfig = {MathJaxConfig: 'local'};</script>\n",
              "        <script charset=\"utf-8\" src=\"https://cdn.plot.ly/plotly-2.24.1.min.js\"></script>                <div id=\"cec7c031-1db1-4b2f-b90a-1b4c6660dc3d\" class=\"plotly-graph-div\" style=\"height:525px; width:100%;\"></div>            <script type=\"text/javascript\">                                    window.PLOTLYENV=window.PLOTLYENV || {};                                    if (document.getElementById(\"cec7c031-1db1-4b2f-b90a-1b4c6660dc3d\")) {                    Plotly.newPlot(                        \"cec7c031-1db1-4b2f-b90a-1b4c6660dc3d\",                        [{\"alignmentgroup\":\"True\",\"hovertemplate\":\"smoker=yes\\u003cbr\\u003eexpenses=%{x}\\u003cextra\\u003e\\u003c\\u002fextra\\u003e\",\"legendgroup\":\"yes\",\"marker\":{\"color\":\"red\"},\"name\":\"yes\",\"notched\":false,\"offsetgroup\":\"yes\",\"orientation\":\"h\",\"showlegend\":true,\"x\":[16884.92,27808.73,39611.76,36837.47,37701.88,38711.0,35585.58,51194.56,39774.28,48173.36,38709.18,23568.27,37742.58,47496.49,34303.17,23244.79,14711.74,17663.14,16577.78,37165.16,39836.52,21098.55,43578.94,30184.94,47291.06,22412.65,15820.7,30942.19,17560.38,47055.53,19107.78,39556.49,17081.08,32734.19,18972.5,20745.99,40720.55,19964.75,21223.68,15518.18,36950.26,21348.71,36149.48,48824.45,43753.34,37133.9,20984.09,34779.62,19515.54,19444.27,17352.68,38511.63,29523.17,12829.46,47305.31,44260.75,41097.16,43921.18,33750.29,17085.27,24869.84,36219.41,46151.12,17179.52,42856.84,22331.57,48549.18,47896.79,42112.24,16297.85,21978.68,38746.36,24873.38,42124.52,34838.87,35491.64,42760.5,47928.03,48517.56,24393.62,41919.1,13844.51,36085.22,18033.97,21659.93,38126.25,15006.58,42303.69,19594.81,14455.64,18608.26,28950.47,46889.26,46599.11,39125.33,37079.37,26109.33,22144.03,19521.97,25382.3,28868.66,35147.53,48885.14,17942.11,36197.7,22218.11,32548.34,21082.16,38245.59,48675.52,63770.43,23807.24,45863.21,39983.43,45702.02,58571.07,43943.88,15359.1,17468.98,25678.78,39241.44,42969.85,23306.55,34439.86,40182.25,34617.84,42983.46,20149.32,32787.46,24667.42,27037.91,42560.43,40003.33,45710.21,46200.99,46130.53,40103.89,34806.47,40273.65,44400.41,40932.43,16657.72,19362.0,40419.02,36189.1,44585.46,18246.5,43254.42,19539.24,23065.42,36307.8,19040.88,17748.51,18259.22,24520.26,21195.82,18310.74,17904.53,38792.69,23401.31,55135.4,43813.87,20773.63,39597.41,36021.01,27533.91,45008.96,37270.15,42111.66,24106.91,40974.16,15817.99,46113.51,46255.11,19719.69,27218.44,29330.98,44202.65,19798.05,48673.56,17496.31,33732.69,21774.32,35069.37,39047.29,19933.46,47462.89,38998.55,20009.63,41999.52,41034.22,23967.38,16138.76,19199.94,14571.89,16420.49,17361.77,34472.84,24915.22,18767.74,35595.59,42211.14,16450.89,21677.28,44423.8,13747.87,37484.45,39725.52,20234.85,33475.82,21880.82,44501.4,39727.61,25309.49,48970.25,39871.7,34672.15,19023.26,41676.08,33907.55,44641.2,16776.3,41949.24,24180.93,36124.57,38282.75,34166.27,46661.44,40904.2,36898.73,52590.83,40941.29,39722.75,17178.68,22478.6,23887.66,19350.37,18328.24,37465.34,21771.34,33307.55,18223.45,38415.47,20296.86,41661.6,26125.67,60021.4,20167.34,47269.85,49577.66,37607.53,18648.42,16232.85,26926.51,34254.05,17043.34,22462.04,24535.7,14283.46,47403.88,38344.57,34828.65,62592.87,46718.16,37829.72,21259.38,16115.3,21472.48,33900.65,36397.58,18765.88,28101.33,43896.38,29141.36],\"x0\":\" \",\"xaxis\":\"x\",\"y0\":\" \",\"yaxis\":\"y\",\"type\":\"box\"},{\"alignmentgroup\":\"True\",\"hovertemplate\":\"smoker=no\\u003cbr\\u003eexpenses=%{x}\\u003cextra\\u003e\\u003c\\u002fextra\\u003e\",\"legendgroup\":\"no\",\"marker\":{\"color\":\"blue\"},\"name\":\"no\",\"notched\":false,\"offsetgroup\":\"no\",\"orientation\":\"h\",\"showlegend\":true,\"x\":[1725.55,4449.46,21984.47,3866.86,3756.62,8240.59,7281.51,6406.41,28923.14,2721.32,1826.84,11090.72,1837.24,10797.34,2395.17,10602.39,13228.85,4149.74,1137.01,6203.9,14001.13,14451.84,12268.63,2775.19,2198.19,4687.8,13770.1,1625.43,15612.19,2302.3,3046.06,4949.76,6272.48,6313.76,6079.67,20630.28,3393.36,3556.92,12629.9,2211.13,3579.83,8059.68,13607.37,5989.52,8606.22,4504.66,30166.62,4133.64,1743.21,14235.07,6389.38,5920.1,6799.46,11741.73,11946.63,7726.85,11356.66,3947.41,1532.47,2755.02,6571.02,4441.21,7935.29,11033.66,11073.18,8026.67,11082.58,2026.97,10942.13,5729.01,3766.88,12105.32,10226.28,6186.13,3645.09,21344.85,5003.85,2331.52,3877.3,2867.12,10825.25,11881.36,4646.76,2404.73,11488.32,30260.0,11381.33,8601.33,6686.43,7740.34,1705.62,2257.48,10115.01,3385.4,9634.54,6082.41,12815.44,13616.36,11163.57,1632.56,2457.21,2155.68,1261.44,2045.69,27322.73,2166.73,27375.9,3490.55,18157.88,5138.26,9877.61,10959.69,1842.52,5125.22,7789.64,6334.34,7077.19,6948.7,19749.38,10450.55,5152.13,5028.15,10407.09,4830.63,6128.8,2719.28,4827.9,13405.39,8116.68,1694.8,5246.05,2855.44,6455.86,10436.1,8823.28,8538.29,11735.88,1631.82,4005.42,7419.48,7731.43,3981.98,5325.65,6775.96,4922.92,12557.61,4883.87,2137.65,12044.34,1137.47,1639.56,5649.72,8516.83,9644.25,14901.52,2130.68,8871.15,13012.21,7147.11,4337.74,11743.3,13880.95,6610.11,1980.07,8162.72,3537.7,5002.78,8520.03,7371.77,10355.64,2483.74,3392.98,25081.77,5012.47,10564.88,5253.52,11987.17,2689.5,24227.34,7358.18,9225.26,7443.64,14001.29,1727.79,12333.83,6710.19,1615.77,4463.21,7152.67,5354.07,35160.13,7196.87,24476.48,12648.7,1986.93,1832.09,4040.56,4260.74,13047.33,5400.98,11520.1,11837.16,20463.0,14590.63,7441.05,9282.48,1719.44,7265.7,9617.66,2523.17,9715.84,2803.7,2150.47,12928.79,9855.13,4237.13,11879.1,9625.92,7742.11,9432.93,14256.19,25992.82,3172.02,20277.81,2156.75,3906.13,1704.57,9249.5,6746.74,12265.51,4349.46,12646.21,19442.35,20177.67,4151.03,11944.59,7749.16,8444.47,1737.38,8124.41,9722.77,8835.26,10435.07,7421.19,4667.61,4894.75,24671.66,11566.3,2866.09,6600.21,3561.89,9144.57,13429.04,11658.38,19144.58,13822.8,12142.58,13937.67,8232.64,18955.22,13352.1,13217.09,13981.85,10977.21,6184.3,4890.0,8334.46,5478.04,1635.73,11830.61,8932.08,3554.2,12404.88,14133.04,24603.05,8944.12,9620.33,1837.28,1607.51,10043.25,4751.07,2597.78,3180.51,9778.35,13430.27,8017.06,8116.27,3481.87,13415.04,12029.29,7639.42,1391.53,16455.71,27000.98,20781.49,5846.92,8302.54,1261.86,11856.41,30284.64,3176.82,4618.08,10736.87,2138.07,8964.06,9290.14,9411.01,7526.71,8522.0,16586.5,14988.43,1631.67,9264.8,8083.92,14692.67,10269.46,3260.2,11396.9,4185.1,8539.67,6652.53,4074.45,1621.34,5080.1,2134.9,7345.73,9140.95,14418.28,2727.4,8968.33,9788.87,6555.07,7323.73,3167.46,18804.75,23082.96,4906.41,5969.72,12638.2,4243.59,13919.82,2254.8,5926.85,12592.53,2897.32,4738.27,1149.4,28287.9,7345.08,12731.0,11454.02,5910.94,4762.33,7512.27,4032.24,1969.61,1769.53,4686.39,21797.0,11881.97,11840.78,10601.41,7682.67,10381.48,15230.32,11165.42,1632.04,13224.69,12643.38,23288.93,2201.1,2497.04,2203.47,1744.47,20878.78,2534.39,1534.3,1824.29,15555.19,9304.7,1622.19,9880.07,9563.03,4347.02,12475.35,1253.94,10461.98,1748.77,24513.09,2196.47,12574.05,1967.02,4931.65,8027.97,8211.1,13470.86,6837.37,5974.38,6796.86,2643.27,3077.1,3044.21,11455.28,11763.0,2498.41,9361.33,1256.3,11362.76,27724.29,8413.46,5240.77,3857.76,25656.58,3994.18,9866.3,5397.62,11482.63,24059.68,9861.03,8342.91,1708.0,14043.48,12925.89,19214.71,13831.12,6067.13,5972.38,8825.09,8233.1,27346.04,6196.45,3056.39,13887.2,10231.5,3268.85,11538.42,3213.62,13390.56,3972.92,12957.12,11187.66,17878.9,3847.67,8334.59,3935.18,1646.43,9193.84,10923.93,2494.02,9058.73,2801.26,2128.43,6373.56,7256.72,11552.9,3761.29,2219.45,4753.64,31620.0,13224.06,12222.9,1665.0,9724.53,3206.49,12913.99,1639.56,6356.27,17626.24,1242.82,4779.6,3861.21,13635.64,5976.83,11842.44,8428.07,2566.47,5709.16,8823.99,7640.31,5594.85,7441.5,33471.97,1633.04,9174.14,11070.54,16085.13,9283.56,3558.62,4435.09,8547.69,6571.54,2207.7,6753.04,1880.07,11658.12,10713.64,3659.35,9182.17,12129.61,3736.46,6748.59,11326.71,11365.95,10085.85,1977.82,3366.67,7173.36,9391.35,14410.93,2709.11,24915.05,12949.16,6666.24,13143.86,4466.62,18806.15,10141.14,6123.57,8252.28,1712.23,12430.95,9800.89,10579.71,8280.62,8527.53,12244.53,3410.32,4058.71,26392.26,14394.4,6435.62,22192.44,5148.55,1136.4,8703.46,6500.24,4837.58,3943.6,4399.73,6185.32,7222.79,12485.8,12363.55,10156.78,2585.27,1242.26,9863.47,4766.02,11244.38,7729.65,5438.75,26236.58,2104.11,8068.19,2362.23,2352.97,3578.0,3201.25,29186.48,10976.25,3500.61,2020.55,9541.7,9504.31,5385.34,8930.93,5375.04,10264.44,6113.23,5469.01,1727.54,10107.22,8310.84,1984.45,2457.5,12146.97,9566.99,13112.6,10848.13,12231.61,9875.68,11264.54,12979.36,1263.25,10106.13,6664.69,2217.6,6781.35,10065.41,4234.93,9447.25,14007.22,9583.89,3484.33,8604.48,3757.84,8827.21,9910.36,11737.85,1627.28,8556.91,3062.51,1906.36,14210.54,11833.78,17128.43,5031.27,7985.82,5428.73,3925.76,2416.96,3070.81,9095.07,11842.62,8062.76,7050.64,14319.03,6933.24,27941.29,11150.78,12797.21,7261.74,10560.49,6986.7,7448.4,5934.38,9869.81,1146.8,9386.16,4350.51,6414.18,12741.17,1917.32,5209.58,13457.96,5662.23,1252.41,2731.91,7209.49,4266.17,4719.52,11848.14,7046.72,14313.85,2103.08,1815.88,7731.86,28476.73,2136.88,1131.51,3309.79,9414.92,6360.99,11013.71,4428.89,5584.31,1877.93,2842.76,3597.6,7445.92,2680.95,1621.88,8219.2,12523.6,16069.08,6117.49,13393.76,5266.37,4719.74,11743.93,5377.46,7160.33,4402.23,11657.72,6402.29,12622.18,1526.31,12323.94,10072.06,9872.7,2438.06,2974.13,10601.63,14119.62,11729.68,1875.34,18218.16,10965.45,7151.09,12269.69,5458.05,8782.47,6600.36,1141.45,11576.13,13129.6,4391.65,8457.82,3392.37,5966.89,6849.03,8891.14,2690.11,26140.36,6653.79,6282.24,6311.95,3443.06,2789.06,2585.85,4877.98,5272.18,1682.6,11945.13,7243.81,10422.92,13555.0,13063.88,2221.56,1634.57,2117.34,8688.86,4661.29,8125.78,12644.59,4564.19,4846.92,7633.72,15170.07,2639.04,14382.71,7626.99,5257.51,2473.33,13041.92,5245.23,13451.12,13462.52,5488.26,4320.41,6250.44,25333.33,2913.57,12032.33,13470.8,6289.75,2927.06,6238.3,10096.97,7348.14,4673.39,12233.83,32108.66,8965.8,2304.0,9487.64,1121.87,9549.57,2217.47,1628.47,12982.87,11674.13,7160.09,6358.78,11534.87,4527.18,3875.73,12609.89,28468.92,2730.11,3353.28,14474.68,9500.57,26467.1,4746.34,7518.03,3279.87,8596.83,10702.64,4992.38,2527.82,1759.34,2322.62,7804.16,2902.91,9704.67,4889.04,25517.11,4500.34,16796.41,4915.06,7624.63,8410.05,28340.19,4518.83,3378.91,7144.86,10118.42,5484.47,7986.48,7418.52,13887.97,6551.75,5267.82,1972.95,21232.18,8627.54,4433.39,4438.26,23241.47,9957.72,8269.04,36580.28,8765.25,5383.54,12124.99,2709.24,3987.93,12495.29,26018.95,8798.59,1711.03,8569.86,2020.18,21595.38,9850.43,6877.98,4137.52,12950.07,12094.48,2250.84,22493.66,1704.7,3161.45,11394.07,7325.05,3594.17,8023.14,14394.56,9288.03,3353.47,10594.5,8277.52,17929.3,2480.98,4462.72,1981.58,11554.22,6548.2,5708.87,7045.5,8978.19,5757.41,14349.85,10928.85,13974.46,1909.53,12096.65,13204.29,4562.84,8551.35,2102.26,15161.53,11884.05,4454.4,5855.9,4076.5,15019.76,10796.35,11353.23,9748.91,10577.09,11286.54,3591.48,11299.34,4561.19,1674.63,23045.57,3227.12,11253.42,3471.41,11363.28,20420.6,10338.93,8988.16,10493.95,2904.09,8605.36,11512.41,5312.17,2396.1,10807.49,9222.4,5693.43,8347.16,18903.49,14254.61,10214.64,5836.52,14358.36,1728.9,8582.3,3693.43,20709.02,9991.04,19673.34,11085.59,7623.52,3176.29,3704.35,9048.03,7954.52,27117.99,6338.08,9630.4,11289.11,2261.57,10791.96,5979.73,2203.74,12235.84,5630.46,11015.17,7228.22,14426.07,2459.72,3989.84,7727.25,5124.19,18963.17,2200.83,7153.55,5227.99,10982.5,4529.48,4670.64,6112.35,11093.62,6457.84,4433.92,2154.36,6496.89,2899.49,7650.77,2850.68,2632.99,9447.38,8603.82,13844.8,13126.68,5327.4,13725.47,13019.16,8671.19,4134.08,18838.7,5699.84,6393.6,4934.71,6198.75,8733.23,2055.32,9964.06,5116.5,36910.61,12347.17,5373.36,23563.02,1702.46,10806.84,3956.07,12890.06,5415.66,4058.12,7537.16,4718.2,6593.51,8442.67,6858.48,4795.66,6640.54,7162.01,10594.23,11938.26,12479.71,11345.52,8515.76,2699.57,14449.85,12224.35,6985.51,3238.44,4296.27,3171.61,1135.94,5615.37,9101.8,6059.17,1633.96,1241.57,15828.82,4415.16,6474.01,11436.74,11305.93,30063.58,10197.77,4544.23,3277.16,6770.19,7337.75,10370.91,10704.47,1880.49,8615.3,3292.53,3021.81,14478.33,4747.05,10959.33,2741.95,4357.04,4189.11,8283.68,1720.35,8534.67,3732.63,5472.45,7147.47,7133.9,1515.34,9301.89,11931.13,1964.78,1708.93,4340.44,5261.47,2710.83,3208.79,2464.62,6875.96,6940.91,4571.41,4536.26,11272.33,1731.68,1163.46,19496.72,7201.7,5425.02,12981.35,4239.89,13143.34,7050.02,9377.9,22395.74,10325.21,12629.17,10795.94,11411.69,10600.55,2205.98,1629.83,2007.95],\"x0\":\" \",\"xaxis\":\"x\",\"y0\":\" \",\"yaxis\":\"y\",\"type\":\"box\"}],                        {\"template\":{\"data\":{\"histogram2dcontour\":[{\"type\":\"histogram2dcontour\",\"colorbar\":{\"outlinewidth\":0,\"ticks\":\"\"},\"colorscale\":[[0.0,\"#0d0887\"],[0.1111111111111111,\"#46039f\"],[0.2222222222222222,\"#7201a8\"],[0.3333333333333333,\"#9c179e\"],[0.4444444444444444,\"#bd3786\"],[0.5555555555555556,\"#d8576b\"],[0.6666666666666666,\"#ed7953\"],[0.7777777777777778,\"#fb9f3a\"],[0.8888888888888888,\"#fdca26\"],[1.0,\"#f0f921\"]]}],\"choropleth\":[{\"type\":\"choropleth\",\"colorbar\":{\"outlinewidth\":0,\"ticks\":\"\"}}],\"histogram2d\":[{\"type\":\"histogram2d\",\"colorbar\":{\"outlinewidth\":0,\"ticks\":\"\"},\"colorscale\":[[0.0,\"#0d0887\"],[0.1111111111111111,\"#46039f\"],[0.2222222222222222,\"#7201a8\"],[0.3333333333333333,\"#9c179e\"],[0.4444444444444444,\"#bd3786\"],[0.5555555555555556,\"#d8576b\"],[0.6666666666666666,\"#ed7953\"],[0.7777777777777778,\"#fb9f3a\"],[0.8888888888888888,\"#fdca26\"],[1.0,\"#f0f921\"]]}],\"heatmap\":[{\"type\":\"heatmap\",\"colorbar\":{\"outlinewidth\":0,\"ticks\":\"\"},\"colorscale\":[[0.0,\"#0d0887\"],[0.1111111111111111,\"#46039f\"],[0.2222222222222222,\"#7201a8\"],[0.3333333333333333,\"#9c179e\"],[0.4444444444444444,\"#bd3786\"],[0.5555555555555556,\"#d8576b\"],[0.6666666666666666,\"#ed7953\"],[0.7777777777777778,\"#fb9f3a\"],[0.8888888888888888,\"#fdca26\"],[1.0,\"#f0f921\"]]}],\"heatmapgl\":[{\"type\":\"heatmapgl\",\"colorbar\":{\"outlinewidth\":0,\"ticks\":\"\"},\"colorscale\":[[0.0,\"#0d0887\"],[0.1111111111111111,\"#46039f\"],[0.2222222222222222,\"#7201a8\"],[0.3333333333333333,\"#9c179e\"],[0.4444444444444444,\"#bd3786\"],[0.5555555555555556,\"#d8576b\"],[0.6666666666666666,\"#ed7953\"],[0.7777777777777778,\"#fb9f3a\"],[0.8888888888888888,\"#fdca26\"],[1.0,\"#f0f921\"]]}],\"contourcarpet\":[{\"type\":\"contourcarpet\",\"colorbar\":{\"outlinewidth\":0,\"ticks\":\"\"}}],\"contour\":[{\"type\":\"contour\",\"colorbar\":{\"outlinewidth\":0,\"ticks\":\"\"},\"colorscale\":[[0.0,\"#0d0887\"],[0.1111111111111111,\"#46039f\"],[0.2222222222222222,\"#7201a8\"],[0.3333333333333333,\"#9c179e\"],[0.4444444444444444,\"#bd3786\"],[0.5555555555555556,\"#d8576b\"],[0.6666666666666666,\"#ed7953\"],[0.7777777777777778,\"#fb9f3a\"],[0.8888888888888888,\"#fdca26\"],[1.0,\"#f0f921\"]]}],\"surface\":[{\"type\":\"surface\",\"colorbar\":{\"outlinewidth\":0,\"ticks\":\"\"},\"colorscale\":[[0.0,\"#0d0887\"],[0.1111111111111111,\"#46039f\"],[0.2222222222222222,\"#7201a8\"],[0.3333333333333333,\"#9c179e\"],[0.4444444444444444,\"#bd3786\"],[0.5555555555555556,\"#d8576b\"],[0.6666666666666666,\"#ed7953\"],[0.7777777777777778,\"#fb9f3a\"],[0.8888888888888888,\"#fdca26\"],[1.0,\"#f0f921\"]]}],\"mesh3d\":[{\"type\":\"mesh3d\",\"colorbar\":{\"outlinewidth\":0,\"ticks\":\"\"}}],\"scatter\":[{\"fillpattern\":{\"fillmode\":\"overlay\",\"size\":10,\"solidity\":0.2},\"type\":\"scatter\"}],\"parcoords\":[{\"type\":\"parcoords\",\"line\":{\"colorbar\":{\"outlinewidth\":0,\"ticks\":\"\"}}}],\"scatterpolargl\":[{\"type\":\"scatterpolargl\",\"marker\":{\"colorbar\":{\"outlinewidth\":0,\"ticks\":\"\"}}}],\"bar\":[{\"error_x\":{\"color\":\"#2a3f5f\"},\"error_y\":{\"color\":\"#2a3f5f\"},\"marker\":{\"line\":{\"color\":\"#E5ECF6\",\"width\":0.5},\"pattern\":{\"fillmode\":\"overlay\",\"size\":10,\"solidity\":0.2}},\"type\":\"bar\"}],\"scattergeo\":[{\"type\":\"scattergeo\",\"marker\":{\"colorbar\":{\"outlinewidth\":0,\"ticks\":\"\"}}}],\"scatterpolar\":[{\"type\":\"scatterpolar\",\"marker\":{\"colorbar\":{\"outlinewidth\":0,\"ticks\":\"\"}}}],\"histogram\":[{\"marker\":{\"pattern\":{\"fillmode\":\"overlay\",\"size\":10,\"solidity\":0.2}},\"type\":\"histogram\"}],\"scattergl\":[{\"type\":\"scattergl\",\"marker\":{\"colorbar\":{\"outlinewidth\":0,\"ticks\":\"\"}}}],\"scatter3d\":[{\"type\":\"scatter3d\",\"line\":{\"colorbar\":{\"outlinewidth\":0,\"ticks\":\"\"}},\"marker\":{\"colorbar\":{\"outlinewidth\":0,\"ticks\":\"\"}}}],\"scattermapbox\":[{\"type\":\"scattermapbox\",\"marker\":{\"colorbar\":{\"outlinewidth\":0,\"ticks\":\"\"}}}],\"scatterternary\":[{\"type\":\"scatterternary\",\"marker\":{\"colorbar\":{\"outlinewidth\":0,\"ticks\":\"\"}}}],\"scattercarpet\":[{\"type\":\"scattercarpet\",\"marker\":{\"colorbar\":{\"outlinewidth\":0,\"ticks\":\"\"}}}],\"carpet\":[{\"aaxis\":{\"endlinecolor\":\"#2a3f5f\",\"gridcolor\":\"white\",\"linecolor\":\"white\",\"minorgridcolor\":\"white\",\"startlinecolor\":\"#2a3f5f\"},\"baxis\":{\"endlinecolor\":\"#2a3f5f\",\"gridcolor\":\"white\",\"linecolor\":\"white\",\"minorgridcolor\":\"white\",\"startlinecolor\":\"#2a3f5f\"},\"type\":\"carpet\"}],\"table\":[{\"cells\":{\"fill\":{\"color\":\"#EBF0F8\"},\"line\":{\"color\":\"white\"}},\"header\":{\"fill\":{\"color\":\"#C8D4E3\"},\"line\":{\"color\":\"white\"}},\"type\":\"table\"}],\"barpolar\":[{\"marker\":{\"line\":{\"color\":\"#E5ECF6\",\"width\":0.5},\"pattern\":{\"fillmode\":\"overlay\",\"size\":10,\"solidity\":0.2}},\"type\":\"barpolar\"}],\"pie\":[{\"automargin\":true,\"type\":\"pie\"}]},\"layout\":{\"autotypenumbers\":\"strict\",\"colorway\":[\"#636efa\",\"#EF553B\",\"#00cc96\",\"#ab63fa\",\"#FFA15A\",\"#19d3f3\",\"#FF6692\",\"#B6E880\",\"#FF97FF\",\"#FECB52\"],\"font\":{\"color\":\"#2a3f5f\"},\"hovermode\":\"closest\",\"hoverlabel\":{\"align\":\"left\"},\"paper_bgcolor\":\"white\",\"plot_bgcolor\":\"#E5ECF6\",\"polar\":{\"bgcolor\":\"#E5ECF6\",\"angularaxis\":{\"gridcolor\":\"white\",\"linecolor\":\"white\",\"ticks\":\"\"},\"radialaxis\":{\"gridcolor\":\"white\",\"linecolor\":\"white\",\"ticks\":\"\"}},\"ternary\":{\"bgcolor\":\"#E5ECF6\",\"aaxis\":{\"gridcolor\":\"white\",\"linecolor\":\"white\",\"ticks\":\"\"},\"baxis\":{\"gridcolor\":\"white\",\"linecolor\":\"white\",\"ticks\":\"\"},\"caxis\":{\"gridcolor\":\"white\",\"linecolor\":\"white\",\"ticks\":\"\"}},\"coloraxis\":{\"colorbar\":{\"outlinewidth\":0,\"ticks\":\"\"}},\"colorscale\":{\"sequential\":[[0.0,\"#0d0887\"],[0.1111111111111111,\"#46039f\"],[0.2222222222222222,\"#7201a8\"],[0.3333333333333333,\"#9c179e\"],[0.4444444444444444,\"#bd3786\"],[0.5555555555555556,\"#d8576b\"],[0.6666666666666666,\"#ed7953\"],[0.7777777777777778,\"#fb9f3a\"],[0.8888888888888888,\"#fdca26\"],[1.0,\"#f0f921\"]],\"sequentialminus\":[[0.0,\"#0d0887\"],[0.1111111111111111,\"#46039f\"],[0.2222222222222222,\"#7201a8\"],[0.3333333333333333,\"#9c179e\"],[0.4444444444444444,\"#bd3786\"],[0.5555555555555556,\"#d8576b\"],[0.6666666666666666,\"#ed7953\"],[0.7777777777777778,\"#fb9f3a\"],[0.8888888888888888,\"#fdca26\"],[1.0,\"#f0f921\"]],\"diverging\":[[0,\"#8e0152\"],[0.1,\"#c51b7d\"],[0.2,\"#de77ae\"],[0.3,\"#f1b6da\"],[0.4,\"#fde0ef\"],[0.5,\"#f7f7f7\"],[0.6,\"#e6f5d0\"],[0.7,\"#b8e186\"],[0.8,\"#7fbc41\"],[0.9,\"#4d9221\"],[1,\"#276419\"]]},\"xaxis\":{\"gridcolor\":\"white\",\"linecolor\":\"white\",\"ticks\":\"\",\"title\":{\"standoff\":15},\"zerolinecolor\":\"white\",\"automargin\":true,\"zerolinewidth\":2},\"yaxis\":{\"gridcolor\":\"white\",\"linecolor\":\"white\",\"ticks\":\"\",\"title\":{\"standoff\":15},\"zerolinecolor\":\"white\",\"automargin\":true,\"zerolinewidth\":2},\"scene\":{\"xaxis\":{\"backgroundcolor\":\"#E5ECF6\",\"gridcolor\":\"white\",\"linecolor\":\"white\",\"showbackground\":true,\"ticks\":\"\",\"zerolinecolor\":\"white\",\"gridwidth\":2},\"yaxis\":{\"backgroundcolor\":\"#E5ECF6\",\"gridcolor\":\"white\",\"linecolor\":\"white\",\"showbackground\":true,\"ticks\":\"\",\"zerolinecolor\":\"white\",\"gridwidth\":2},\"zaxis\":{\"backgroundcolor\":\"#E5ECF6\",\"gridcolor\":\"white\",\"linecolor\":\"white\",\"showbackground\":true,\"ticks\":\"\",\"zerolinecolor\":\"white\",\"gridwidth\":2}},\"shapedefaults\":{\"line\":{\"color\":\"#2a3f5f\"}},\"annotationdefaults\":{\"arrowcolor\":\"#2a3f5f\",\"arrowhead\":0,\"arrowwidth\":1},\"geo\":{\"bgcolor\":\"white\",\"landcolor\":\"#E5ECF6\",\"subunitcolor\":\"white\",\"showland\":true,\"showlakes\":true,\"lakecolor\":\"white\"},\"title\":{\"x\":0.05},\"mapbox\":{\"style\":\"light\"}}},\"xaxis\":{\"anchor\":\"y\",\"domain\":[0.0,1.0],\"title\":{\"text\":\"expenses\"}},\"yaxis\":{\"anchor\":\"x\",\"domain\":[0.0,1.0]},\"legend\":{\"title\":{\"text\":\"smoker\"},\"tracegroupgap\":0},\"title\":{\"text\":\"Box Plot of Annual Medical Expenses\"},\"boxmode\":\"group\"},                        {\"responsive\": true}                    ).then(function(){\n",
              "                            \n",
              "var gd = document.getElementById('cec7c031-1db1-4b2f-b90a-1b4c6660dc3d');\n",
              "var x = new MutationObserver(function (mutations, observer) {{\n",
              "        var display = window.getComputedStyle(gd).display;\n",
              "        if (!display || display === 'none') {{\n",
              "            console.log([gd, 'removed!']);\n",
              "            Plotly.purge(gd);\n",
              "            observer.disconnect();\n",
              "        }}\n",
              "}});\n",
              "\n",
              "// Listen for the removal of the full notebook cells\n",
              "var notebookContainer = gd.closest('#notebook-container');\n",
              "if (notebookContainer) {{\n",
              "    x.observe(notebookContainer, {childList: true});\n",
              "}}\n",
              "\n",
              "// Listen for the clearing of the current output cell\n",
              "var outputEl = gd.closest('.output');\n",
              "if (outputEl) {{\n",
              "    x.observe(outputEl, {childList: true});\n",
              "}}\n",
              "\n",
              "                        })                };                            </script>        </div>\n",
              "</body>\n",
              "</html>"
            ]
          },
          "metadata": {}
        }
      ]
    },
    {
      "cell_type": "markdown",
      "source": [
        "The majority of customers have annual medical expenses under 10,000 dollars. However, a small fraction of customers have considerably higher medical expenses, potentially attributed to accidents, major illnesses, and genetic diseases. This distribution pattern follows a \"power law.\"\n",
        "\n",
        "There is a substantial disparity in medical expenses between smokers and non-smokers. The median medical expense for non-smokers is around 7,300 dollars, whereas for smokers, the median is close to 35,000 dollars. This suggests that smoking habits significantly impact medical costs."
      ],
      "metadata": {
        "id": "Yp29dB_HOKM9"
      }
    },
    {
      "cell_type": "code",
      "source": [
        "\n",
        "\n",
        "fig = px.box(\n",
        "              df,\n",
        "              x=\"expenses\",\n",
        "              color=\"sex\",\n",
        "              color_discrete_sequence=[\"blue\", \"purple\"],\n",
        "              title=\"Box Plot of Annual Medical Expenses by Sex\"\n",
        ")\n",
        "\n",
        "fig.show()"
      ],
      "metadata": {
        "colab": {
          "base_uri": "https://localhost:8080/",
          "height": 542
        },
        "id": "oggBFZ0jKxD2",
        "outputId": "71d07276-6d9b-4acb-d3a6-9097559860a8"
      },
      "execution_count": 27,
      "outputs": [
        {
          "output_type": "display_data",
          "data": {
            "text/html": [
              "<html>\n",
              "<head><meta charset=\"utf-8\" /></head>\n",
              "<body>\n",
              "    <div>            <script src=\"https://cdnjs.cloudflare.com/ajax/libs/mathjax/2.7.5/MathJax.js?config=TeX-AMS-MML_SVG\"></script><script type=\"text/javascript\">if (window.MathJax && window.MathJax.Hub && window.MathJax.Hub.Config) {window.MathJax.Hub.Config({SVG: {font: \"STIX-Web\"}});}</script>                <script type=\"text/javascript\">window.PlotlyConfig = {MathJaxConfig: 'local'};</script>\n",
              "        <script charset=\"utf-8\" src=\"https://cdn.plot.ly/plotly-2.24.1.min.js\"></script>                <div id=\"4d4d0017-cfe2-4239-9bb2-d9e51d998053\" class=\"plotly-graph-div\" style=\"height:525px; width:100%;\"></div>            <script type=\"text/javascript\">                                    window.PLOTLYENV=window.PLOTLYENV || {};                                    if (document.getElementById(\"4d4d0017-cfe2-4239-9bb2-d9e51d998053\")) {                    Plotly.newPlot(                        \"4d4d0017-cfe2-4239-9bb2-d9e51d998053\",                        [{\"alignmentgroup\":\"True\",\"hovertemplate\":\"sex=female\\u003cbr\\u003eexpenses=%{x}\\u003cextra\\u003e\\u003c\\u002fextra\\u003e\",\"legendgroup\":\"female\",\"marker\":{\"color\":\"blue\"},\"name\":\"female\",\"notched\":false,\"offsetgroup\":\"female\",\"orientation\":\"h\",\"showlegend\":true,\"x\":[16884.92,3756.62,8240.59,7281.51,28923.14,27808.73,11090.72,10797.34,13228.85,4149.74,37701.88,14001.13,14451.84,12268.63,2198.19,4687.8,15612.19,3046.06,4949.76,6313.76,3393.36,3556.92,12629.9,2211.13,3579.83,8059.68,13607.37,23244.79,5989.52,4133.64,14711.74,1743.21,14235.07,5920.1,16577.78,11741.73,3947.41,2755.02,6571.02,7935.29,11033.66,39836.52,43578.94,11073.18,8026.67,11082.58,2026.97,10942.13,47291.06,3766.88,12105.32,6186.13,21344.85,30942.19,5003.85,2331.52,11881.36,2404.73,19107.78,8601.33,6686.43,2257.48,10115.01,3385.4,17081.08,9634.54,32734.19,12815.44,13616.36,11163.57,2457.21,2155.68,27322.73,2166.73,5138.26,9877.61,10959.69,6334.34,19964.75,7077.19,19749.38,21348.71,36149.48,5152.13,4830.63,6128.8,2719.28,5246.05,2855.44,48824.45,8823.28,8538.29,1631.82,7419.48,3981.98,5325.65,6775.96,4922.92,4883.87,12044.34,5649.72,8516.83,9644.25,14901.52,2130.68,8871.15,13012.21,37133.9,4337.74,13880.95,5002.78,8520.03,7371.77,10355.64,3392.98,25081.77,5012.47,10564.88,24227.34,7358.18,7443.64,14001.29,1727.79,19444.27,1615.77,38511.63,5354.07,35160.13,29523.17,12648.7,47305.31,13047.33,5400.98,11837.16,17085.27,20463.0,14590.63,9715.84,2150.47,9855.13,22331.57,11879.1,9625.92,9432.93,14256.19,47896.79,3172.02,2156.75,9249.5,24873.38,12265.51,4349.46,12646.21,20177.67,4151.03,7749.16,1737.38,34838.87,7421.19,24671.66,3561.89,47928.03,48517.56,13429.04,11658.38,19144.58,8232.64,18955.22,13217.09,10977.21,6184.3,5478.04,11830.61,8932.08,3554.2,14133.04,1607.51,10043.25,13844.51,2597.78,3180.51,9778.35,13430.27,8017.06,13415.04,12029.29,7639.42,18033.97,21659.93,16455.71,15006.58,5846.92,11856.41,3176.82,4618.08,2138.07,9411.01,8522.0,1631.67,9264.8,14692.67,11396.9,4185.1,8539.67,19594.81,14455.64,2134.9,7345.73,18608.26,28950.47,6555.07,7323.73,3167.46,18804.75,4906.41,12638.2,12592.53,4738.27,37079.37,28287.9,7345.08,11454.02,5910.94,11881.97,11840.78,7682.67,10381.48,15230.32,19521.97,13224.69,12643.38,23288.93,2201.1,2203.47,1744.47,20878.78,1622.19,9880.07,4347.02,12475.35,48885.14,1748.77,24513.09,2196.47,4931.65,8211.1,13470.86,5974.38,3044.21,11455.28,5240.77,25656.58,3994.18,9866.3,5397.62,11482.63,24059.68,9861.03,14043.48,5972.38,8825.09,8233.1,6196.45,3056.39,13887.2,63770.43,11538.42,3213.62,45863.21,3972.92,11187.66,17878.9,39983.43,9193.84,10923.93,2801.26,2128.43,6373.56,11552.9,3761.29,2219.45,4753.64,31620.0,13224.06,12222.9,58571.07,3206.49,17626.24,4779.6,43943.88,13635.64,5976.83,11842.44,15359.1,8823.99,7640.31,5594.85,33471.97,1633.04,11070.54,16085.13,17468.98,9283.56,3558.62,25678.78,8547.69,6571.54,2207.7,6753.04,1880.07,42969.85,11658.12,34439.86,10713.64,9182.17,3736.46,42983.46,3366.67,2709.11,24915.05,4466.62,8252.28,12430.95,9800.89,10579.71,8280.62,8527.53,12244.53,24667.42,3410.32,26392.26,14394.4,22192.44,5148.55,27037.91,40003.33,6500.24,3943.6,6185.32,46200.99,12485.8,10156.78,2585.27,4766.02,26236.58,3578.0,3201.25,29186.48,3500.61,2020.55,9541.7,5385.34,8930.93,5375.04,44400.41,6113.23,5469.01,10107.22,8310.84,2457.5,9566.99,10848.13,12231.61,9875.68,10106.13,40932.43,16657.72,2217.6,6781.35,4234.93,9447.25,14007.22,9583.89,40419.02,3757.84,9910.36,8556.91,19539.24,11833.78,7985.82,23065.42,3925.76,9095.07,11842.62,7050.64,14319.03,6933.24,11150.78,12797.21,17748.51,24520.26,4350.51,6414.18,13457.96,5662.23,2731.91,7209.49,4719.52,11848.14,7046.72,14313.85,38792.69,7731.86,28476.73,2136.88,9414.92,6360.99,1877.93,2842.76,23401.31,55135.4,1621.88,8219.2,16069.08,5266.37,4719.74,11657.72,6402.29,12622.18,36021.01,27533.91,45008.96,9872.7,2974.13,37270.15,42111.66,11729.68,24106.91,1875.34,40974.16,18218.16,46113.51,7151.09,12269.69,5458.05,4391.65,3392.37,2690.11,26140.36,6311.95,2585.85,46255.11,5272.18,29330.98,7243.81,13063.88,19798.05,1634.57,2117.34,12644.59,4564.19,7633.72,17496.31,14382.71,7626.99,2473.33,21774.32,13041.92,5245.23,13451.12,13462.52,2913.57,12032.33,13470.8,6238.3,7348.14,12233.83,8965.8,9549.57,2217.47,11674.13,4527.18,2730.11,3353.28,14474.68,8596.83,10702.64,4992.38,2527.82,1759.34,9704.67,4889.04,16796.41,7624.63,28340.19,14571.89,3378.91,7144.86,10118.42,16420.49,7986.48,7418.52,13887.97,6551.75,5267.82,8269.04,36580.28,5383.54,2709.24,3987.93,12495.29,26018.95,35595.59,8569.86,2020.18,6877.98,21677.28,44423.8,4137.52,12094.48,39725.52,20234.85,3161.45,21880.82,7325.05,3594.17,8023.14,3353.47,8277.52,17929.3,2480.98,5708.87,7045.5,10928.85,12096.65,13204.29,4562.84,8551.35,15019.76,19023.26,11286.54,33907.55,11299.34,4561.19,44641.2,23045.57,3227.12,16776.3,10338.93,8988.16,10493.95,11512.41,24180.93,5312.17,5693.43,34166.27,46661.44,18903.49,40904.2,14254.61,5836.52,1728.9,8582.3,9991.04,11085.59,7623.52,3176.29,36898.73,7954.52,27117.99,2261.57,2203.74,12235.84,40941.29,5630.46,11015.17,7228.22,14426.07,2459.72,3989.84,7727.25,2200.83,7153.55,5227.99,4529.48,6112.35,22478.6,11093.62,2154.36,23887.66,6496.89,2899.49,7650.77,2850.68,2632.99,9447.38,18328.24,13844.8,21771.34,13126.68,5327.4,13725.47,13019.16,8671.19,4134.08,18838.7,33307.55,4934.71,18223.45,36910.61,20296.86,10806.84,3956.07,41661.6,7537.16,4718.2,26125.67,4795.66,20167.34,12479.71,8515.76,14449.85,12224.35,3238.44,4296.27,3171.61,9101.8,1633.96,15828.82,4415.16,6474.01,11436.74,11305.93,10197.77,4544.23,6770.19,7337.75,10370.91,10704.47,1880.49,3021.81,2741.95,4357.04,4189.11,8283.68,24535.7,14283.46,8534.67,3732.63,5472.45,7133.9,4340.44,2710.83,3208.79,2464.62,16115.3,33900.65,4571.41,36397.58,18765.88,1731.68,7201.7,43896.38,7050.02,22395.74,12629.17,10795.94,11411.69,2205.98,1629.83,2007.95,29141.36],\"x0\":\" \",\"xaxis\":\"x\",\"y0\":\" \",\"yaxis\":\"y\",\"type\":\"box\"},{\"alignmentgroup\":\"True\",\"hovertemplate\":\"sex=male\\u003cbr\\u003eexpenses=%{x}\\u003cextra\\u003e\\u003c\\u002fextra\\u003e\",\"legendgroup\":\"male\",\"marker\":{\"color\":\"purple\"},\"name\":\"male\",\"notched\":false,\"offsetgroup\":\"male\",\"orientation\":\"h\",\"showlegend\":true,\"x\":[1725.55,4449.46,21984.47,3866.86,6406.41,2721.32,1826.84,39611.76,1837.24,2395.17,10602.39,36837.47,1137.01,6203.9,2775.19,38711.0,35585.58,13770.1,51194.56,1625.43,2302.3,39774.28,48173.36,6272.48,6079.67,20630.28,38709.18,23568.27,37742.58,47496.49,34303.17,8606.22,4504.66,30166.62,6389.38,17663.14,6799.46,11946.63,7726.85,11356.66,1532.47,4441.21,37165.16,21098.55,30184.94,5729.01,10226.28,22412.65,15820.7,3645.09,17560.38,3877.3,2867.12,47055.53,10825.25,4646.76,11488.32,30260.0,11381.33,7740.34,1705.62,39556.49,6082.41,1632.56,1261.44,2045.69,27375.9,3490.55,18972.5,18157.88,20745.99,40720.55,1842.52,5125.22,7789.64,6948.7,21223.68,15518.18,36950.26,10450.55,5028.15,10407.09,4827.9,13405.39,8116.68,1694.8,6455.86,10436.1,11735.88,4005.42,7731.43,43753.34,12557.61,2137.65,1137.47,1639.56,7147.11,11743.3,20984.09,6610.11,1980.07,8162.72,3537.7,2483.74,5253.52,34779.62,19515.54,11987.17,2689.5,9225.26,12333.83,6710.19,4463.21,17352.68,7152.67,7196.87,24476.48,1986.93,1832.09,4040.56,12829.46,44260.75,4260.74,41097.16,43921.18,11520.1,33750.29,24869.84,36219.41,46151.12,17179.52,7441.05,9282.48,1719.44,42856.84,7265.7,9617.66,2523.17,2803.7,12928.79,48549.18,4237.13,7742.11,25992.82,20277.81,42112.24,3906.13,1704.57,16297.85,21978.68,38746.36,6746.74,19442.35,11944.59,8444.47,42124.52,8124.41,9722.77,8835.26,10435.07,4667.61,4894.75,35491.64,11566.3,2866.09,6600.21,42760.5,9144.57,24393.62,13822.8,12142.58,13937.67,41919.1,13352.1,13981.85,4890.0,8334.46,1635.73,12404.88,24603.05,8944.12,9620.33,1837.28,4751.07,8116.27,3481.87,36085.22,1391.53,38126.25,27000.98,42303.69,20781.49,8302.54,1261.86,30284.64,10736.87,8964.06,9290.14,7526.71,16586.5,14988.43,8083.92,10269.46,3260.2,6652.53,4074.45,1621.34,5080.1,9140.95,14418.28,46889.26,46599.11,39125.33,2727.4,8968.33,9788.87,23082.96,5969.72,4243.59,13919.82,2254.8,5926.85,2897.32,1149.4,26109.33,12731.0,4762.33,7512.27,4032.24,1969.61,1769.53,4686.39,21797.0,10601.41,22144.03,11165.42,1632.04,2497.04,25382.3,28868.66,35147.53,2534.39,1534.3,1824.29,15555.19,9304.7,9563.03,1253.94,10461.98,12574.05,17942.11,1967.02,8027.97,36197.7,6837.37,22218.11,32548.34,6796.86,2643.27,3077.1,11763.0,2498.41,9361.33,1256.3,21082.16,11362.76,27724.29,8413.46,3857.76,38245.59,8342.91,1708.0,48675.52,12925.89,19214.71,13831.12,6067.13,27346.04,10231.5,23807.24,3268.85,13390.56,12957.12,3847.67,8334.59,3935.18,1646.43,2494.02,9058.73,7256.72,45702.02,1665.0,9724.53,12913.99,1639.56,6356.27,1242.82,3861.21,8428.07,2566.47,5709.16,7441.5,9174.14,4435.09,39241.44,23306.55,3659.35,40182.25,34617.84,12129.61,6748.59,11326.71,11365.95,10085.85,1977.82,7173.36,9391.35,14410.93,20149.32,12949.16,6666.24,32787.46,13143.86,18806.15,10141.14,6123.57,1712.23,4058.71,6435.62,1136.4,42560.43,8703.46,45710.21,4837.58,4399.73,7222.79,46130.53,12363.55,1242.26,40103.89,9863.47,11244.38,7729.65,5438.75,34806.47,2104.11,8068.19,2362.23,2352.97,40273.65,10976.25,9504.31,10264.44,1727.54,1984.45,12146.97,13112.6,11264.54,12979.36,1263.25,6664.69,19362.0,10065.41,3484.33,36189.1,44585.46,8604.48,18246.5,43254.42,8827.21,11737.85,1627.28,3062.51,1906.36,14210.54,17128.43,5031.27,5428.73,36307.8,2416.96,19040.88,3070.81,8062.76,27941.29,7261.74,10560.49,6986.7,7448.4,5934.38,9869.81,18259.22,1146.8,9386.16,12741.17,1917.32,5209.58,1252.41,21195.82,18310.74,4266.17,17904.53,2103.08,1815.88,1131.51,3309.79,11013.71,4428.89,5584.31,3597.6,7445.92,2680.95,12523.6,43813.87,20773.63,39597.41,6117.49,13393.76,11743.93,5377.46,7160.33,4402.23,1526.31,12323.94,10072.06,2438.06,10601.63,14119.62,15817.99,10965.45,8782.47,6600.36,1141.45,11576.13,13129.6,8457.82,5966.89,6849.03,8891.14,6653.79,6282.24,3443.06,2789.06,4877.98,19719.69,27218.44,1682.6,11945.13,10422.92,44202.65,13555.0,2221.56,8688.86,48673.56,4661.29,8125.78,4846.92,15170.07,2639.04,33732.69,5257.51,35069.37,5488.26,4320.41,6250.44,25333.33,6289.75,2927.06,10096.97,4673.39,32108.66,2304.0,9487.64,1121.87,1628.47,12982.87,7160.09,39047.29,6358.78,19933.46,11534.87,47462.89,38998.55,20009.63,3875.73,41999.52,12609.89,41034.22,28468.92,9500.57,26467.1,4746.34,23967.38,7518.03,3279.87,2322.62,16138.76,7804.16,2902.91,25517.11,4500.34,19199.94,4915.06,8410.05,4518.83,5484.47,17361.77,34472.84,1972.95,21232.18,8627.54,4433.39,4438.26,24915.22,23241.47,9957.72,18767.74,8765.25,12124.99,8798.59,42211.14,1711.03,16450.89,21595.38,9850.43,13747.87,12950.07,37484.45,2250.84,22493.66,1704.7,33475.82,11394.07,44501.4,39727.61,14394.56,9288.03,25309.49,10594.5,4462.72,1981.58,11554.22,48970.25,6548.2,8978.19,5757.41,14349.85,39871.7,13974.46,1909.53,2102.26,34672.15,15161.53,11884.05,4454.4,5855.9,4076.5,10796.35,11353.23,9748.91,10577.09,41676.08,3591.48,1674.63,11253.42,3471.41,11363.28,20420.6,2904.09,8605.36,41949.24,2396.1,10807.49,9222.4,36124.57,38282.75,8347.16,10214.64,14358.36,3693.43,20709.02,19673.34,3704.35,9048.03,6338.08,9630.4,11289.11,52590.83,10791.96,5979.73,39722.75,5124.19,18963.17,10982.5,4670.64,17178.68,6457.84,4433.92,19350.37,8603.82,37465.34,5699.84,6393.6,6198.75,8733.23,2055.32,9964.06,5116.5,38415.47,12347.17,5373.36,23563.02,1702.46,12890.06,5415.66,4058.12,6593.51,8442.67,6858.48,6640.54,7162.01,10594.23,11938.26,60021.4,11345.52,2699.57,6985.51,47269.85,49577.66,1135.94,5615.37,6059.17,37607.53,18648.42,1241.57,16232.85,30063.58,3277.16,26926.51,34254.05,8615.3,3292.53,14478.33,4747.05,17043.34,10959.33,22462.04,1720.35,47403.88,38344.57,7147.47,34828.65,1515.34,9301.89,11931.13,1964.78,1708.93,5261.47,62592.87,46718.16,37829.72,21259.38,21472.48,6875.96,6940.91,4536.26,11272.33,1163.46,19496.72,5425.02,28101.33,12981.35,4239.89,13143.34,9377.9,10325.21,10600.55],\"x0\":\" \",\"xaxis\":\"x\",\"y0\":\" \",\"yaxis\":\"y\",\"type\":\"box\"}],                        {\"template\":{\"data\":{\"histogram2dcontour\":[{\"type\":\"histogram2dcontour\",\"colorbar\":{\"outlinewidth\":0,\"ticks\":\"\"},\"colorscale\":[[0.0,\"#0d0887\"],[0.1111111111111111,\"#46039f\"],[0.2222222222222222,\"#7201a8\"],[0.3333333333333333,\"#9c179e\"],[0.4444444444444444,\"#bd3786\"],[0.5555555555555556,\"#d8576b\"],[0.6666666666666666,\"#ed7953\"],[0.7777777777777778,\"#fb9f3a\"],[0.8888888888888888,\"#fdca26\"],[1.0,\"#f0f921\"]]}],\"choropleth\":[{\"type\":\"choropleth\",\"colorbar\":{\"outlinewidth\":0,\"ticks\":\"\"}}],\"histogram2d\":[{\"type\":\"histogram2d\",\"colorbar\":{\"outlinewidth\":0,\"ticks\":\"\"},\"colorscale\":[[0.0,\"#0d0887\"],[0.1111111111111111,\"#46039f\"],[0.2222222222222222,\"#7201a8\"],[0.3333333333333333,\"#9c179e\"],[0.4444444444444444,\"#bd3786\"],[0.5555555555555556,\"#d8576b\"],[0.6666666666666666,\"#ed7953\"],[0.7777777777777778,\"#fb9f3a\"],[0.8888888888888888,\"#fdca26\"],[1.0,\"#f0f921\"]]}],\"heatmap\":[{\"type\":\"heatmap\",\"colorbar\":{\"outlinewidth\":0,\"ticks\":\"\"},\"colorscale\":[[0.0,\"#0d0887\"],[0.1111111111111111,\"#46039f\"],[0.2222222222222222,\"#7201a8\"],[0.3333333333333333,\"#9c179e\"],[0.4444444444444444,\"#bd3786\"],[0.5555555555555556,\"#d8576b\"],[0.6666666666666666,\"#ed7953\"],[0.7777777777777778,\"#fb9f3a\"],[0.8888888888888888,\"#fdca26\"],[1.0,\"#f0f921\"]]}],\"heatmapgl\":[{\"type\":\"heatmapgl\",\"colorbar\":{\"outlinewidth\":0,\"ticks\":\"\"},\"colorscale\":[[0.0,\"#0d0887\"],[0.1111111111111111,\"#46039f\"],[0.2222222222222222,\"#7201a8\"],[0.3333333333333333,\"#9c179e\"],[0.4444444444444444,\"#bd3786\"],[0.5555555555555556,\"#d8576b\"],[0.6666666666666666,\"#ed7953\"],[0.7777777777777778,\"#fb9f3a\"],[0.8888888888888888,\"#fdca26\"],[1.0,\"#f0f921\"]]}],\"contourcarpet\":[{\"type\":\"contourcarpet\",\"colorbar\":{\"outlinewidth\":0,\"ticks\":\"\"}}],\"contour\":[{\"type\":\"contour\",\"colorbar\":{\"outlinewidth\":0,\"ticks\":\"\"},\"colorscale\":[[0.0,\"#0d0887\"],[0.1111111111111111,\"#46039f\"],[0.2222222222222222,\"#7201a8\"],[0.3333333333333333,\"#9c179e\"],[0.4444444444444444,\"#bd3786\"],[0.5555555555555556,\"#d8576b\"],[0.6666666666666666,\"#ed7953\"],[0.7777777777777778,\"#fb9f3a\"],[0.8888888888888888,\"#fdca26\"],[1.0,\"#f0f921\"]]}],\"surface\":[{\"type\":\"surface\",\"colorbar\":{\"outlinewidth\":0,\"ticks\":\"\"},\"colorscale\":[[0.0,\"#0d0887\"],[0.1111111111111111,\"#46039f\"],[0.2222222222222222,\"#7201a8\"],[0.3333333333333333,\"#9c179e\"],[0.4444444444444444,\"#bd3786\"],[0.5555555555555556,\"#d8576b\"],[0.6666666666666666,\"#ed7953\"],[0.7777777777777778,\"#fb9f3a\"],[0.8888888888888888,\"#fdca26\"],[1.0,\"#f0f921\"]]}],\"mesh3d\":[{\"type\":\"mesh3d\",\"colorbar\":{\"outlinewidth\":0,\"ticks\":\"\"}}],\"scatter\":[{\"fillpattern\":{\"fillmode\":\"overlay\",\"size\":10,\"solidity\":0.2},\"type\":\"scatter\"}],\"parcoords\":[{\"type\":\"parcoords\",\"line\":{\"colorbar\":{\"outlinewidth\":0,\"ticks\":\"\"}}}],\"scatterpolargl\":[{\"type\":\"scatterpolargl\",\"marker\":{\"colorbar\":{\"outlinewidth\":0,\"ticks\":\"\"}}}],\"bar\":[{\"error_x\":{\"color\":\"#2a3f5f\"},\"error_y\":{\"color\":\"#2a3f5f\"},\"marker\":{\"line\":{\"color\":\"#E5ECF6\",\"width\":0.5},\"pattern\":{\"fillmode\":\"overlay\",\"size\":10,\"solidity\":0.2}},\"type\":\"bar\"}],\"scattergeo\":[{\"type\":\"scattergeo\",\"marker\":{\"colorbar\":{\"outlinewidth\":0,\"ticks\":\"\"}}}],\"scatterpolar\":[{\"type\":\"scatterpolar\",\"marker\":{\"colorbar\":{\"outlinewidth\":0,\"ticks\":\"\"}}}],\"histogram\":[{\"marker\":{\"pattern\":{\"fillmode\":\"overlay\",\"size\":10,\"solidity\":0.2}},\"type\":\"histogram\"}],\"scattergl\":[{\"type\":\"scattergl\",\"marker\":{\"colorbar\":{\"outlinewidth\":0,\"ticks\":\"\"}}}],\"scatter3d\":[{\"type\":\"scatter3d\",\"line\":{\"colorbar\":{\"outlinewidth\":0,\"ticks\":\"\"}},\"marker\":{\"colorbar\":{\"outlinewidth\":0,\"ticks\":\"\"}}}],\"scattermapbox\":[{\"type\":\"scattermapbox\",\"marker\":{\"colorbar\":{\"outlinewidth\":0,\"ticks\":\"\"}}}],\"scatterternary\":[{\"type\":\"scatterternary\",\"marker\":{\"colorbar\":{\"outlinewidth\":0,\"ticks\":\"\"}}}],\"scattercarpet\":[{\"type\":\"scattercarpet\",\"marker\":{\"colorbar\":{\"outlinewidth\":0,\"ticks\":\"\"}}}],\"carpet\":[{\"aaxis\":{\"endlinecolor\":\"#2a3f5f\",\"gridcolor\":\"white\",\"linecolor\":\"white\",\"minorgridcolor\":\"white\",\"startlinecolor\":\"#2a3f5f\"},\"baxis\":{\"endlinecolor\":\"#2a3f5f\",\"gridcolor\":\"white\",\"linecolor\":\"white\",\"minorgridcolor\":\"white\",\"startlinecolor\":\"#2a3f5f\"},\"type\":\"carpet\"}],\"table\":[{\"cells\":{\"fill\":{\"color\":\"#EBF0F8\"},\"line\":{\"color\":\"white\"}},\"header\":{\"fill\":{\"color\":\"#C8D4E3\"},\"line\":{\"color\":\"white\"}},\"type\":\"table\"}],\"barpolar\":[{\"marker\":{\"line\":{\"color\":\"#E5ECF6\",\"width\":0.5},\"pattern\":{\"fillmode\":\"overlay\",\"size\":10,\"solidity\":0.2}},\"type\":\"barpolar\"}],\"pie\":[{\"automargin\":true,\"type\":\"pie\"}]},\"layout\":{\"autotypenumbers\":\"strict\",\"colorway\":[\"#636efa\",\"#EF553B\",\"#00cc96\",\"#ab63fa\",\"#FFA15A\",\"#19d3f3\",\"#FF6692\",\"#B6E880\",\"#FF97FF\",\"#FECB52\"],\"font\":{\"color\":\"#2a3f5f\"},\"hovermode\":\"closest\",\"hoverlabel\":{\"align\":\"left\"},\"paper_bgcolor\":\"white\",\"plot_bgcolor\":\"#E5ECF6\",\"polar\":{\"bgcolor\":\"#E5ECF6\",\"angularaxis\":{\"gridcolor\":\"white\",\"linecolor\":\"white\",\"ticks\":\"\"},\"radialaxis\":{\"gridcolor\":\"white\",\"linecolor\":\"white\",\"ticks\":\"\"}},\"ternary\":{\"bgcolor\":\"#E5ECF6\",\"aaxis\":{\"gridcolor\":\"white\",\"linecolor\":\"white\",\"ticks\":\"\"},\"baxis\":{\"gridcolor\":\"white\",\"linecolor\":\"white\",\"ticks\":\"\"},\"caxis\":{\"gridcolor\":\"white\",\"linecolor\":\"white\",\"ticks\":\"\"}},\"coloraxis\":{\"colorbar\":{\"outlinewidth\":0,\"ticks\":\"\"}},\"colorscale\":{\"sequential\":[[0.0,\"#0d0887\"],[0.1111111111111111,\"#46039f\"],[0.2222222222222222,\"#7201a8\"],[0.3333333333333333,\"#9c179e\"],[0.4444444444444444,\"#bd3786\"],[0.5555555555555556,\"#d8576b\"],[0.6666666666666666,\"#ed7953\"],[0.7777777777777778,\"#fb9f3a\"],[0.8888888888888888,\"#fdca26\"],[1.0,\"#f0f921\"]],\"sequentialminus\":[[0.0,\"#0d0887\"],[0.1111111111111111,\"#46039f\"],[0.2222222222222222,\"#7201a8\"],[0.3333333333333333,\"#9c179e\"],[0.4444444444444444,\"#bd3786\"],[0.5555555555555556,\"#d8576b\"],[0.6666666666666666,\"#ed7953\"],[0.7777777777777778,\"#fb9f3a\"],[0.8888888888888888,\"#fdca26\"],[1.0,\"#f0f921\"]],\"diverging\":[[0,\"#8e0152\"],[0.1,\"#c51b7d\"],[0.2,\"#de77ae\"],[0.3,\"#f1b6da\"],[0.4,\"#fde0ef\"],[0.5,\"#f7f7f7\"],[0.6,\"#e6f5d0\"],[0.7,\"#b8e186\"],[0.8,\"#7fbc41\"],[0.9,\"#4d9221\"],[1,\"#276419\"]]},\"xaxis\":{\"gridcolor\":\"white\",\"linecolor\":\"white\",\"ticks\":\"\",\"title\":{\"standoff\":15},\"zerolinecolor\":\"white\",\"automargin\":true,\"zerolinewidth\":2},\"yaxis\":{\"gridcolor\":\"white\",\"linecolor\":\"white\",\"ticks\":\"\",\"title\":{\"standoff\":15},\"zerolinecolor\":\"white\",\"automargin\":true,\"zerolinewidth\":2},\"scene\":{\"xaxis\":{\"backgroundcolor\":\"#E5ECF6\",\"gridcolor\":\"white\",\"linecolor\":\"white\",\"showbackground\":true,\"ticks\":\"\",\"zerolinecolor\":\"white\",\"gridwidth\":2},\"yaxis\":{\"backgroundcolor\":\"#E5ECF6\",\"gridcolor\":\"white\",\"linecolor\":\"white\",\"showbackground\":true,\"ticks\":\"\",\"zerolinecolor\":\"white\",\"gridwidth\":2},\"zaxis\":{\"backgroundcolor\":\"#E5ECF6\",\"gridcolor\":\"white\",\"linecolor\":\"white\",\"showbackground\":true,\"ticks\":\"\",\"zerolinecolor\":\"white\",\"gridwidth\":2}},\"shapedefaults\":{\"line\":{\"color\":\"#2a3f5f\"}},\"annotationdefaults\":{\"arrowcolor\":\"#2a3f5f\",\"arrowhead\":0,\"arrowwidth\":1},\"geo\":{\"bgcolor\":\"white\",\"landcolor\":\"#E5ECF6\",\"subunitcolor\":\"white\",\"showland\":true,\"showlakes\":true,\"lakecolor\":\"white\"},\"title\":{\"x\":0.05},\"mapbox\":{\"style\":\"light\"}}},\"xaxis\":{\"anchor\":\"y\",\"domain\":[0.0,1.0],\"title\":{\"text\":\"expenses\"}},\"yaxis\":{\"anchor\":\"x\",\"domain\":[0.0,1.0]},\"legend\":{\"title\":{\"text\":\"sex\"},\"tracegroupgap\":0},\"title\":{\"text\":\"Box Plot of Annual Medical Expenses by Sex\"},\"boxmode\":\"group\"},                        {\"responsive\": true}                    ).then(function(){\n",
              "                            \n",
              "var gd = document.getElementById('4d4d0017-cfe2-4239-9bb2-d9e51d998053');\n",
              "var x = new MutationObserver(function (mutations, observer) {{\n",
              "        var display = window.getComputedStyle(gd).display;\n",
              "        if (!display || display === 'none') {{\n",
              "            console.log([gd, 'removed!']);\n",
              "            Plotly.purge(gd);\n",
              "            observer.disconnect();\n",
              "        }}\n",
              "}});\n",
              "\n",
              "// Listen for the removal of the full notebook cells\n",
              "var notebookContainer = gd.closest('#notebook-container');\n",
              "if (notebookContainer) {{\n",
              "    x.observe(notebookContainer, {childList: true});\n",
              "}}\n",
              "\n",
              "// Listen for the clearing of the current output cell\n",
              "var outputEl = gd.closest('.output');\n",
              "if (outputEl) {{\n",
              "    x.observe(outputEl, {childList: true});\n",
              "}}\n",
              "\n",
              "                        })                };                            </script>        </div>\n",
              "</body>\n",
              "</html>"
            ]
          },
          "metadata": {}
        }
      ]
    },
    {
      "cell_type": "markdown",
      "source": [
        "There is a significant difference in expenses between male and female. While the median for male and female is almost same but upper fence for male is 40k, the upper fence for female is close to 28k."
      ],
      "metadata": {
        "id": "wsqPlA8iOWbQ"
      }
    },
    {
      "cell_type": "code",
      "source": [
        "\n",
        "\n",
        "fig = px.box(\n",
        "              df,\n",
        "              x=\"expenses\",\n",
        "              color=\"region\",\n",
        "              color_discrete_sequence=[\"grey\", \"orange\", \"green\", \"violet\"],\n",
        "              title=\"Box Plot of Annual Medical Expenses by Region\"\n",
        ")\n",
        "\n",
        "fig.show()"
      ],
      "metadata": {
        "colab": {
          "base_uri": "https://localhost:8080/",
          "height": 542
        },
        "id": "v7SeuU_PK3DA",
        "outputId": "b81d86c3-7f4f-42ad-9a3b-1f4c06234aad"
      },
      "execution_count": 29,
      "outputs": [
        {
          "output_type": "display_data",
          "data": {
            "text/html": [
              "<html>\n",
              "<head><meta charset=\"utf-8\" /></head>\n",
              "<body>\n",
              "    <div>            <script src=\"https://cdnjs.cloudflare.com/ajax/libs/mathjax/2.7.5/MathJax.js?config=TeX-AMS-MML_SVG\"></script><script type=\"text/javascript\">if (window.MathJax && window.MathJax.Hub && window.MathJax.Hub.Config) {window.MathJax.Hub.Config({SVG: {font: \"STIX-Web\"}});}</script>                <script type=\"text/javascript\">window.PlotlyConfig = {MathJaxConfig: 'local'};</script>\n",
              "        <script charset=\"utf-8\" src=\"https://cdn.plot.ly/plotly-2.24.1.min.js\"></script>                <div id=\"d0eff955-41ae-455b-ab04-163c5ef0a8d5\" class=\"plotly-graph-div\" style=\"height:525px; width:100%;\"></div>            <script type=\"text/javascript\">                                    window.PLOTLYENV=window.PLOTLYENV || {};                                    if (document.getElementById(\"d0eff955-41ae-455b-ab04-163c5ef0a8d5\")) {                    Plotly.newPlot(                        \"d0eff955-41ae-455b-ab04-163c5ef0a8d5\",                        [{\"alignmentgroup\":\"True\",\"hovertemplate\":\"region=southwest\\u003cbr\\u003eexpenses=%{x}\\u003cextra\\u003e\\u003c\\u002fextra\\u003e\",\"legendgroup\":\"southwest\",\"marker\":{\"color\":\"grey\"},\"name\":\"southwest\",\"notched\":false,\"offsetgroup\":\"southwest\",\"orientation\":\"h\",\"showlegend\":true,\"x\":[16884.92,1826.84,1837.24,10602.39,36837.47,4149.74,38711.0,35585.58,4687.8,51194.56,2302.3,48173.36,20630.28,23568.27,1743.21,14235.07,11741.73,7726.85,39836.52,11073.18,47291.06,12105.32,15820.7,6186.13,5003.85,2331.52,11881.36,4646.76,7740.34,17081.08,9634.54,6082.41,11163.57,1261.44,2166.73,1842.52,10450.55,5152.13,4830.63,8116.68,5246.05,48824.45,10436.1,8823.28,5325.65,6775.96,4883.87,5649.72,7147.11,13880.95,1980.07,8520.03,7371.77,5012.47,5253.52,34779.62,1727.79,12333.83,35160.13,7196.87,1832.09,47305.31,4260.74,11837.16,7441.05,42856.84,2150.47,9625.92,3172.02,3906.13,16297.85,12646.21,20177.67,8444.47,1737.38,34838.87,35491.64,2866.09,47928.03,9144.57,13822.8,18955.22,8932.08,3554.2,24603.05,4751.07,13844.51,2597.78,36085.22,1261.86,8522.0,14988.43,9264.8,3260.2,8539.67,5080.1,18608.26,8968.33,23082.96,5969.72,12638.2,5926.85,37079.37,7345.08,5910.94,4762.33,7512.27,1969.61,21797.0,10601.41,22144.03,13224.69,1744.47,25382.3,9880.07,9563.03,1253.94,1748.77,12574.05,17942.11,4931.65,8027.97,13470.86,36197.7,11455.28,1256.3,21082.16,11362.76,5240.77,9861.03,5972.38,8825.09,6196.45,11538.42,13390.56,12957.12,3847.67,2494.02,11552.9,3761.29,9724.53,1242.82,11842.44,7441.5,11070.54,39241.44,6571.54,23306.55,10713.64,3659.35,40182.25,9182.17,11365.95,10085.85,1977.82,9391.35,6666.24,3410.32,8703.46,12363.55,2585.27,1242.26,40103.89,4766.02,26236.58,8068.19,3578.0,5375.04,2457.5,12146.97,11264.54,12979.36,1263.25,10065.41,4234.93,14007.22,3484.33,44585.46,11737.85,8556.91,2416.96,19040.88,8062.76,7050.64,14319.03,27941.29,11150.78,18259.22,24520.26,6414.18,1252.41,11848.14,2103.08,9414.92,3597.6,7445.92,13393.76,4402.23,1526.31,9872.7,2974.13,1875.34,10965.45,46113.51,7151.09,8782.47,6600.36,11576.13,4391.65,8457.82,6849.03,26140.36,6282.24,6311.95,3443.06,1682.6,13063.88,12644.59,15170.07,17496.31,7626.99,13041.92,13451.12,13462.52,5488.26,6250.44,2913.57,12032.33,6238.3,10096.97,7348.14,12233.83,11674.13,7160.09,19933.46,38998.55,3353.28,4746.34,1759.34,19199.94,7624.63,3378.91,10118.42,7418.52,34472.84,1972.95,21232.18,8269.04,5383.54,3987.93,8798.59,2020.18,9850.43,12094.48,3161.45,39727.61,25309.49,8277.52,5708.87,7045.5,8551.35,4076.5,19023.26,10577.09,3591.48,11299.34,11253.42,20420.6,2904.09,34166.27,10214.64,14358.36,1728.9,3693.43,7623.52,7954.52,9630.4,52590.83,10791.96,5979.73,3989.84,4529.48,4670.64,22478.6,2154.36,6496.89,2632.99,13126.68,4934.71,36910.61,38415.47,12347.17,10806.84,41661.6,20167.34,11345.52,5615.37,9101.8,6059.17,1241.57,16232.85,15828.82,6474.01,3277.16,7337.75,10704.47,1880.49,8615.3,10959.33,47403.88,5472.45,38344.57,34828.65,1964.78,3208.79,37829.72,33900.65,6875.96,4536.26,36397.58,1731.68,10325.21,10795.94,11411.69,2007.95],\"x0\":\" \",\"xaxis\":\"x\",\"y0\":\" \",\"yaxis\":\"y\",\"type\":\"box\"},{\"alignmentgroup\":\"True\",\"hovertemplate\":\"region=southeast\\u003cbr\\u003eexpenses=%{x}\\u003cextra\\u003e\\u003c\\u002fextra\\u003e\",\"legendgroup\":\"southeast\",\"marker\":{\"color\":\"orange\"},\"name\":\"southeast\",\"notched\":false,\"offsetgroup\":\"southeast\",\"orientation\":\"h\",\"showlegend\":true,\"x\":[1725.55,4449.46,3756.62,8240.59,27808.73,11090.72,39611.76,1137.01,14001.13,4949.76,6272.48,6313.76,12629.9,38709.18,37742.58,34303.17,23244.79,4504.66,5920.1,17663.14,16577.78,11946.63,3947.41,1532.47,37165.16,2026.97,3766.88,10226.28,30942.19,2867.12,47055.53,11381.33,19107.78,8601.33,2155.68,27322.73,18972.5,5138.26,9877.61,7789.64,21223.68,36950.26,19749.38,36149.48,13405.39,1631.82,7731.43,3981.98,12557.61,2137.65,1137.47,8516.83,8871.15,37133.9,11743.3,5002.78,2483.74,3392.98,25081.77,19515.54,11987.17,2689.5,24227.34,14001.29,19444.27,1615.77,4463.21,7152.67,12648.7,1986.93,44260.75,5400.98,17085.27,20463.0,46151.12,17179.52,1719.44,12928.79,9855.13,7742.11,25992.82,42112.24,2156.75,21978.68,12265.51,4349.46,4151.03,42124.52,8124.41,3561.89,12142.58,8232.64,10977.21,6184.3,4890.0,5478.04,14133.04,8944.12,1837.28,1607.51,3180.51,1391.53,38126.25,27000.98,20781.49,5846.92,11856.41,16586.5,1631.67,8083.92,4185.1,6652.53,4074.45,7345.73,9140.95,14418.28,46889.26,46599.11,9788.87,13919.82,12592.53,1149.4,28287.9,4686.39,11881.97,7682.67,10381.48,19521.97,2201.1,2497.04,1534.3,1824.29,9304.7,1622.19,48885.14,24513.09,8211.1,22218.11,32548.34,5974.38,2498.41,27724.29,3994.18,5397.62,38245.59,11482.63,48675.52,12925.89,19214.71,13831.12,8233.1,27346.04,3056.39,13887.2,63770.43,45863.21,3972.92,3935.18,9058.73,2801.26,2219.45,4753.64,1665.0,6356.27,17626.24,4779.6,5976.83,2566.47,5709.16,7640.31,1633.04,16085.13,9283.56,8547.69,1880.07,42969.85,34439.86,11326.71,3366.67,12949.16,18806.15,9800.89,10579.71,8280.62,8527.53,12244.53,24667.42,6435.62,22192.44,1136.4,27037.91,42560.43,6500.24,4837.58,4399.73,6185.32,46200.99,12485.8,5438.75,34806.47,40273.65,3500.61,2020.55,9504.31,44400.41,1727.54,10107.22,40932.43,6781.35,19362.0,40419.02,18246.5,3757.84,19539.24,11833.78,23065.42,36307.8,10560.49,5934.38,1146.8,9386.16,4350.51,13457.96,5662.23,21195.82,4266.17,7046.72,14313.85,38792.69,1815.88,1131.51,11013.71,5584.31,1877.93,1621.88,8219.2,43813.87,7160.33,36021.01,27533.91,45008.96,2438.06,40974.16,18218.16,1141.45,3392.37,5966.89,6653.79,19719.69,7243.81,44202.65,1634.57,48673.56,8125.78,7633.72,2473.33,5245.23,13470.8,6289.75,2927.06,4673.39,2304.0,9487.64,1121.87,9549.57,12982.87,47462.89,3875.73,41999.52,14474.68,8596.83,10702.64,2322.62,7804.16,2902.91,4889.04,5484.47,13887.97,18767.74,36580.28,35595.59,42211.14,1711.03,8569.86,44423.8,37484.45,44501.4,17929.3,2480.98,1981.58,11554.22,48970.25,8978.19,10928.85,39871.7,4562.84,34672.15,15161.53,11884.05,9748.91,41676.08,1674.63,3227.12,3471.41,11363.28,10338.93,8605.36,41949.24,24180.93,10807.49,36124.57,38282.75,8347.16,5836.52,8582.3,3704.35,9048.03,27117.99,6338.08,40941.29,39722.75,5124.19,18963.17,10982.5,11093.62,19350.37,18328.24,5699.84,18223.45,23563.02,5415.66,4058.12,6593.51,8442.67,26125.67,4795.66,7162.01,10594.23,8515.76,3238.44,47269.85,49577.66,3171.61,1135.94,1633.96,4415.16,6770.19,26926.51,14478.33,4747.05,17043.34,8283.68,1720.35,7147.47,1515.34,4340.44,62592.87,2464.62,1163.46,12981.35,43896.38,9377.9,12629.17,1629.83],\"x0\":\" \",\"xaxis\":\"x\",\"y0\":\" \",\"yaxis\":\"y\",\"type\":\"box\"},{\"alignmentgroup\":\"True\",\"hovertemplate\":\"region=northwest\\u003cbr\\u003eexpenses=%{x}\\u003cextra\\u003e\\u003c\\u002fextra\\u003e\",\"legendgroup\":\"northwest\",\"marker\":{\"color\":\"green\"},\"name\":\"northwest\",\"notched\":false,\"offsetgroup\":\"northwest\",\"orientation\":\"h\",\"showlegend\":true,\"x\":[21984.47,3866.86,7281.51,28923.14,6203.9,12268.63,2775.19,13770.1,1625.43,15612.19,3556.92,3579.83,8059.68,47496.49,5989.52,30166.62,4133.64,14711.74,6389.38,11356.66,6571.02,11033.66,21098.55,43578.94,8026.67,11082.58,10942.13,5729.01,17560.38,3877.3,10825.25,2404.73,6686.43,2257.48,10115.01,32734.19,1632.56,2045.69,18157.88,20745.99,40720.55,10959.69,5125.22,6948.7,21348.71,5028.15,6128.8,2719.28,2855.44,6455.86,11735.88,7419.48,4922.92,12044.34,1639.56,9644.25,2130.68,13012.21,8162.72,3537.7,10355.64,7443.64,6710.19,17352.68,24476.48,43921.18,11520.1,33750.29,36219.41,7265.7,2523.17,2803.7,14256.19,38746.36,9249.5,19442.35,7749.16,8835.26,7421.19,4894.75,42760.5,24393.62,13429.04,13937.67,13352.1,1635.73,11830.61,9620.33,8017.06,8116.27,13415.04,18033.97,16455.71,30284.64,3176.82,4618.08,2138.07,7526.71,14692.67,10269.46,1621.34,2134.9,28950.47,18804.75,4906.41,4243.59,4738.27,26109.33,11454.02,4032.24,1769.53,11840.78,1632.04,12643.38,28868.66,2534.39,15555.19,12475.35,10461.98,6796.86,2643.27,3077.1,8413.46,24059.68,10231.5,23807.24,11187.66,39983.43,1646.43,9193.84,2128.43,6373.56,7256.72,45702.02,12222.9,1639.56,43943.88,8428.07,33471.97,9174.14,17468.98,25678.78,12129.61,3736.46,42983.46,2709.11,32787.46,4466.62,6123.57,4058.71,40003.33,7222.79,46130.53,10156.78,9863.47,2362.23,2352.97,3201.25,10976.25,5385.34,8930.93,10264.44,8310.84,9566.99,13112.6,10848.13,12231.61,6664.69,9583.89,8827.21,9910.36,1627.28,3062.51,1906.36,14210.54,11842.62,6933.24,17748.51,7261.74,6986.7,9869.81,1917.32,7209.49,18310.74,7731.86,28476.73,2136.88,6360.99,2842.76,55135.4,2680.95,12523.6,6117.49,5266.37,4719.74,11743.93,5377.46,12622.18,10601.63,14119.62,15817.99,12269.69,2690.11,2789.06,4877.98,5272.18,11945.13,29330.98,2221.56,2117.34,2639.04,14382.71,5257.51,21774.32,4320.41,8965.8,1628.47,6358.78,4527.18,20009.63,12609.89,28468.92,2730.11,26467.1,23967.38,7518.03,2527.82,8410.05,28340.19,16420.49,5267.82,17361.77,4433.39,24915.22,8765.25,12124.99,2709.24,12495.29,26018.95,16450.89,21595.38,21677.28,12950.07,39725.52,22493.66,20234.85,21880.82,3594.17,8023.14,3353.47,10594.5,4462.72,6548.2,14349.85,1909.53,4454.4,5855.9,15019.76,11353.23,33907.55,8988.16,10493.95,5312.17,5693.43,46661.44,14254.61,9991.04,19673.34,11085.59,3176.29,36898.73,11289.11,2261.57,12235.84,5630.46,11015.17,14426.07,7727.25,7153.55,6112.35,6457.84,4433.92,23887.66,2850.68,37465.34,13844.8,5327.4,8671.19,4134.08,18838.7,33307.55,6393.6,6198.75,8733.23,2055.32,5116.5,5373.36,3956.07,7537.16,60021.4,12479.71,2699.57,12224.35,4296.27,11436.74,11305.93,30063.58,3292.53,3021.81,4357.04,4189.11,24535.7,9301.89,5261.47,2710.83,46718.16,21472.48,6940.91,4571.41,18765.88,7201.7,5425.02,4239.89,10600.55,29141.36],\"x0\":\" \",\"xaxis\":\"x\",\"y0\":\" \",\"yaxis\":\"y\",\"type\":\"box\"},{\"alignmentgroup\":\"True\",\"hovertemplate\":\"region=northeast\\u003cbr\\u003eexpenses=%{x}\\u003cextra\\u003e\\u003c\\u002fextra\\u003e\",\"legendgroup\":\"northeast\",\"marker\":{\"color\":\"violet\"},\"name\":\"northeast\",\"notched\":false,\"offsetgroup\":\"northeast\",\"orientation\":\"h\",\"showlegend\":true,\"x\":[6406.41,2721.32,10797.34,2395.17,13228.85,37701.88,14451.84,2198.19,39774.28,3046.06,6079.67,3393.36,2211.13,13607.37,8606.22,6799.46,2755.02,4441.21,7935.29,30184.94,22412.65,3645.09,21344.85,11488.32,30260.0,1705.62,39556.49,3385.4,12815.44,13616.36,2457.21,27375.9,3490.55,6334.34,19964.75,7077.19,15518.18,10407.09,4827.9,1694.8,8538.29,4005.42,43753.34,14901.52,4337.74,20984.09,6610.11,10564.88,7358.18,9225.26,38511.63,5354.07,29523.17,4040.56,12829.46,41097.16,13047.33,24869.84,14590.63,9282.48,9617.66,9715.84,22331.57,48549.18,4237.13,11879.1,9432.93,47896.79,20277.81,1704.57,6746.74,24873.38,11944.59,9722.77,10435.07,4667.61,24671.66,11566.3,6600.21,48517.56,11658.38,19144.58,41919.1,13217.09,13981.85,8334.46,12404.88,10043.25,9778.35,13430.27,3481.87,12029.29,7639.42,21659.93,15006.58,42303.69,8302.54,10736.87,8964.06,9290.14,9411.01,11396.9,19594.81,14455.64,39125.33,2727.4,6555.07,7323.73,3167.46,2254.8,2897.32,12731.0,15230.32,11165.42,23288.93,2203.47,20878.78,35147.53,4347.02,2196.47,1967.02,6837.37,3044.21,11763.0,9361.33,3857.76,25656.58,9866.3,8342.91,1708.0,14043.48,6067.13,3268.85,3213.62,17878.9,8334.59,10923.93,31620.0,13224.06,58571.07,3206.49,12913.99,3861.21,13635.64,15359.1,8823.99,5594.85,3558.62,4435.09,2207.7,6753.04,11658.12,34617.84,6748.59,7173.36,14410.93,24915.05,20149.32,13143.86,10141.14,8252.28,1712.23,12430.95,26392.26,14394.4,5148.55,45710.21,3943.6,11244.38,7729.65,2104.11,29186.48,9541.7,6113.23,5469.01,1984.45,9875.68,10106.13,16657.72,2217.6,9447.25,36189.1,8604.48,43254.42,17128.43,5031.27,7985.82,5428.73,3925.76,3070.81,9095.07,12797.21,7448.4,12741.17,5209.58,2731.91,4719.52,17904.53,3309.79,4428.89,23401.31,16069.08,20773.63,39597.41,11657.72,6402.29,12323.94,10072.06,37270.15,42111.66,11729.68,24106.91,5458.05,13129.6,8891.14,2585.85,46255.11,27218.44,10422.92,13555.0,19798.05,8688.86,4661.29,4564.19,4846.92,33732.69,35069.37,25333.33,32108.66,2217.47,39047.29,11534.87,41034.22,9500.57,3279.87,4992.38,16138.76,9704.67,25517.11,4500.34,16796.41,4915.06,4518.83,14571.89,7144.86,7986.48,6551.75,8627.54,4438.26,23241.47,9957.72,6877.98,4137.52,13747.87,2250.84,1704.7,33475.82,11394.07,7325.05,14394.56,9288.03,5757.41,13974.46,12096.65,13204.29,2102.26,10796.35,11286.54,4561.19,44641.2,23045.57,16776.3,11512.41,2396.1,9222.4,18903.49,40904.2,20709.02,2203.74,7228.22,2459.72,2200.83,5227.99,17178.68,2899.49,7650.77,9447.38,8603.82,21771.34,13725.47,13019.16,9964.06,20296.86,1702.46,12890.06,4718.2,6858.48,6640.54,11938.26,14449.85,6985.51,37607.53,18648.42,10197.77,4544.23,10370.91,34254.05,2741.95,22462.04,14283.46,8534.67,3732.63,7133.9,11931.13,1708.93,21259.38,16115.3,11272.33,19496.72,28101.33,13143.34,7050.02,22395.74,2205.98],\"x0\":\" \",\"xaxis\":\"x\",\"y0\":\" \",\"yaxis\":\"y\",\"type\":\"box\"}],                        {\"template\":{\"data\":{\"histogram2dcontour\":[{\"type\":\"histogram2dcontour\",\"colorbar\":{\"outlinewidth\":0,\"ticks\":\"\"},\"colorscale\":[[0.0,\"#0d0887\"],[0.1111111111111111,\"#46039f\"],[0.2222222222222222,\"#7201a8\"],[0.3333333333333333,\"#9c179e\"],[0.4444444444444444,\"#bd3786\"],[0.5555555555555556,\"#d8576b\"],[0.6666666666666666,\"#ed7953\"],[0.7777777777777778,\"#fb9f3a\"],[0.8888888888888888,\"#fdca26\"],[1.0,\"#f0f921\"]]}],\"choropleth\":[{\"type\":\"choropleth\",\"colorbar\":{\"outlinewidth\":0,\"ticks\":\"\"}}],\"histogram2d\":[{\"type\":\"histogram2d\",\"colorbar\":{\"outlinewidth\":0,\"ticks\":\"\"},\"colorscale\":[[0.0,\"#0d0887\"],[0.1111111111111111,\"#46039f\"],[0.2222222222222222,\"#7201a8\"],[0.3333333333333333,\"#9c179e\"],[0.4444444444444444,\"#bd3786\"],[0.5555555555555556,\"#d8576b\"],[0.6666666666666666,\"#ed7953\"],[0.7777777777777778,\"#fb9f3a\"],[0.8888888888888888,\"#fdca26\"],[1.0,\"#f0f921\"]]}],\"heatmap\":[{\"type\":\"heatmap\",\"colorbar\":{\"outlinewidth\":0,\"ticks\":\"\"},\"colorscale\":[[0.0,\"#0d0887\"],[0.1111111111111111,\"#46039f\"],[0.2222222222222222,\"#7201a8\"],[0.3333333333333333,\"#9c179e\"],[0.4444444444444444,\"#bd3786\"],[0.5555555555555556,\"#d8576b\"],[0.6666666666666666,\"#ed7953\"],[0.7777777777777778,\"#fb9f3a\"],[0.8888888888888888,\"#fdca26\"],[1.0,\"#f0f921\"]]}],\"heatmapgl\":[{\"type\":\"heatmapgl\",\"colorbar\":{\"outlinewidth\":0,\"ticks\":\"\"},\"colorscale\":[[0.0,\"#0d0887\"],[0.1111111111111111,\"#46039f\"],[0.2222222222222222,\"#7201a8\"],[0.3333333333333333,\"#9c179e\"],[0.4444444444444444,\"#bd3786\"],[0.5555555555555556,\"#d8576b\"],[0.6666666666666666,\"#ed7953\"],[0.7777777777777778,\"#fb9f3a\"],[0.8888888888888888,\"#fdca26\"],[1.0,\"#f0f921\"]]}],\"contourcarpet\":[{\"type\":\"contourcarpet\",\"colorbar\":{\"outlinewidth\":0,\"ticks\":\"\"}}],\"contour\":[{\"type\":\"contour\",\"colorbar\":{\"outlinewidth\":0,\"ticks\":\"\"},\"colorscale\":[[0.0,\"#0d0887\"],[0.1111111111111111,\"#46039f\"],[0.2222222222222222,\"#7201a8\"],[0.3333333333333333,\"#9c179e\"],[0.4444444444444444,\"#bd3786\"],[0.5555555555555556,\"#d8576b\"],[0.6666666666666666,\"#ed7953\"],[0.7777777777777778,\"#fb9f3a\"],[0.8888888888888888,\"#fdca26\"],[1.0,\"#f0f921\"]]}],\"surface\":[{\"type\":\"surface\",\"colorbar\":{\"outlinewidth\":0,\"ticks\":\"\"},\"colorscale\":[[0.0,\"#0d0887\"],[0.1111111111111111,\"#46039f\"],[0.2222222222222222,\"#7201a8\"],[0.3333333333333333,\"#9c179e\"],[0.4444444444444444,\"#bd3786\"],[0.5555555555555556,\"#d8576b\"],[0.6666666666666666,\"#ed7953\"],[0.7777777777777778,\"#fb9f3a\"],[0.8888888888888888,\"#fdca26\"],[1.0,\"#f0f921\"]]}],\"mesh3d\":[{\"type\":\"mesh3d\",\"colorbar\":{\"outlinewidth\":0,\"ticks\":\"\"}}],\"scatter\":[{\"fillpattern\":{\"fillmode\":\"overlay\",\"size\":10,\"solidity\":0.2},\"type\":\"scatter\"}],\"parcoords\":[{\"type\":\"parcoords\",\"line\":{\"colorbar\":{\"outlinewidth\":0,\"ticks\":\"\"}}}],\"scatterpolargl\":[{\"type\":\"scatterpolargl\",\"marker\":{\"colorbar\":{\"outlinewidth\":0,\"ticks\":\"\"}}}],\"bar\":[{\"error_x\":{\"color\":\"#2a3f5f\"},\"error_y\":{\"color\":\"#2a3f5f\"},\"marker\":{\"line\":{\"color\":\"#E5ECF6\",\"width\":0.5},\"pattern\":{\"fillmode\":\"overlay\",\"size\":10,\"solidity\":0.2}},\"type\":\"bar\"}],\"scattergeo\":[{\"type\":\"scattergeo\",\"marker\":{\"colorbar\":{\"outlinewidth\":0,\"ticks\":\"\"}}}],\"scatterpolar\":[{\"type\":\"scatterpolar\",\"marker\":{\"colorbar\":{\"outlinewidth\":0,\"ticks\":\"\"}}}],\"histogram\":[{\"marker\":{\"pattern\":{\"fillmode\":\"overlay\",\"size\":10,\"solidity\":0.2}},\"type\":\"histogram\"}],\"scattergl\":[{\"type\":\"scattergl\",\"marker\":{\"colorbar\":{\"outlinewidth\":0,\"ticks\":\"\"}}}],\"scatter3d\":[{\"type\":\"scatter3d\",\"line\":{\"colorbar\":{\"outlinewidth\":0,\"ticks\":\"\"}},\"marker\":{\"colorbar\":{\"outlinewidth\":0,\"ticks\":\"\"}}}],\"scattermapbox\":[{\"type\":\"scattermapbox\",\"marker\":{\"colorbar\":{\"outlinewidth\":0,\"ticks\":\"\"}}}],\"scatterternary\":[{\"type\":\"scatterternary\",\"marker\":{\"colorbar\":{\"outlinewidth\":0,\"ticks\":\"\"}}}],\"scattercarpet\":[{\"type\":\"scattercarpet\",\"marker\":{\"colorbar\":{\"outlinewidth\":0,\"ticks\":\"\"}}}],\"carpet\":[{\"aaxis\":{\"endlinecolor\":\"#2a3f5f\",\"gridcolor\":\"white\",\"linecolor\":\"white\",\"minorgridcolor\":\"white\",\"startlinecolor\":\"#2a3f5f\"},\"baxis\":{\"endlinecolor\":\"#2a3f5f\",\"gridcolor\":\"white\",\"linecolor\":\"white\",\"minorgridcolor\":\"white\",\"startlinecolor\":\"#2a3f5f\"},\"type\":\"carpet\"}],\"table\":[{\"cells\":{\"fill\":{\"color\":\"#EBF0F8\"},\"line\":{\"color\":\"white\"}},\"header\":{\"fill\":{\"color\":\"#C8D4E3\"},\"line\":{\"color\":\"white\"}},\"type\":\"table\"}],\"barpolar\":[{\"marker\":{\"line\":{\"color\":\"#E5ECF6\",\"width\":0.5},\"pattern\":{\"fillmode\":\"overlay\",\"size\":10,\"solidity\":0.2}},\"type\":\"barpolar\"}],\"pie\":[{\"automargin\":true,\"type\":\"pie\"}]},\"layout\":{\"autotypenumbers\":\"strict\",\"colorway\":[\"#636efa\",\"#EF553B\",\"#00cc96\",\"#ab63fa\",\"#FFA15A\",\"#19d3f3\",\"#FF6692\",\"#B6E880\",\"#FF97FF\",\"#FECB52\"],\"font\":{\"color\":\"#2a3f5f\"},\"hovermode\":\"closest\",\"hoverlabel\":{\"align\":\"left\"},\"paper_bgcolor\":\"white\",\"plot_bgcolor\":\"#E5ECF6\",\"polar\":{\"bgcolor\":\"#E5ECF6\",\"angularaxis\":{\"gridcolor\":\"white\",\"linecolor\":\"white\",\"ticks\":\"\"},\"radialaxis\":{\"gridcolor\":\"white\",\"linecolor\":\"white\",\"ticks\":\"\"}},\"ternary\":{\"bgcolor\":\"#E5ECF6\",\"aaxis\":{\"gridcolor\":\"white\",\"linecolor\":\"white\",\"ticks\":\"\"},\"baxis\":{\"gridcolor\":\"white\",\"linecolor\":\"white\",\"ticks\":\"\"},\"caxis\":{\"gridcolor\":\"white\",\"linecolor\":\"white\",\"ticks\":\"\"}},\"coloraxis\":{\"colorbar\":{\"outlinewidth\":0,\"ticks\":\"\"}},\"colorscale\":{\"sequential\":[[0.0,\"#0d0887\"],[0.1111111111111111,\"#46039f\"],[0.2222222222222222,\"#7201a8\"],[0.3333333333333333,\"#9c179e\"],[0.4444444444444444,\"#bd3786\"],[0.5555555555555556,\"#d8576b\"],[0.6666666666666666,\"#ed7953\"],[0.7777777777777778,\"#fb9f3a\"],[0.8888888888888888,\"#fdca26\"],[1.0,\"#f0f921\"]],\"sequentialminus\":[[0.0,\"#0d0887\"],[0.1111111111111111,\"#46039f\"],[0.2222222222222222,\"#7201a8\"],[0.3333333333333333,\"#9c179e\"],[0.4444444444444444,\"#bd3786\"],[0.5555555555555556,\"#d8576b\"],[0.6666666666666666,\"#ed7953\"],[0.7777777777777778,\"#fb9f3a\"],[0.8888888888888888,\"#fdca26\"],[1.0,\"#f0f921\"]],\"diverging\":[[0,\"#8e0152\"],[0.1,\"#c51b7d\"],[0.2,\"#de77ae\"],[0.3,\"#f1b6da\"],[0.4,\"#fde0ef\"],[0.5,\"#f7f7f7\"],[0.6,\"#e6f5d0\"],[0.7,\"#b8e186\"],[0.8,\"#7fbc41\"],[0.9,\"#4d9221\"],[1,\"#276419\"]]},\"xaxis\":{\"gridcolor\":\"white\",\"linecolor\":\"white\",\"ticks\":\"\",\"title\":{\"standoff\":15},\"zerolinecolor\":\"white\",\"automargin\":true,\"zerolinewidth\":2},\"yaxis\":{\"gridcolor\":\"white\",\"linecolor\":\"white\",\"ticks\":\"\",\"title\":{\"standoff\":15},\"zerolinecolor\":\"white\",\"automargin\":true,\"zerolinewidth\":2},\"scene\":{\"xaxis\":{\"backgroundcolor\":\"#E5ECF6\",\"gridcolor\":\"white\",\"linecolor\":\"white\",\"showbackground\":true,\"ticks\":\"\",\"zerolinecolor\":\"white\",\"gridwidth\":2},\"yaxis\":{\"backgroundcolor\":\"#E5ECF6\",\"gridcolor\":\"white\",\"linecolor\":\"white\",\"showbackground\":true,\"ticks\":\"\",\"zerolinecolor\":\"white\",\"gridwidth\":2},\"zaxis\":{\"backgroundcolor\":\"#E5ECF6\",\"gridcolor\":\"white\",\"linecolor\":\"white\",\"showbackground\":true,\"ticks\":\"\",\"zerolinecolor\":\"white\",\"gridwidth\":2}},\"shapedefaults\":{\"line\":{\"color\":\"#2a3f5f\"}},\"annotationdefaults\":{\"arrowcolor\":\"#2a3f5f\",\"arrowhead\":0,\"arrowwidth\":1},\"geo\":{\"bgcolor\":\"white\",\"landcolor\":\"#E5ECF6\",\"subunitcolor\":\"white\",\"showland\":true,\"showlakes\":true,\"lakecolor\":\"white\"},\"title\":{\"x\":0.05},\"mapbox\":{\"style\":\"light\"}}},\"xaxis\":{\"anchor\":\"y\",\"domain\":[0.0,1.0],\"title\":{\"text\":\"expenses\"}},\"yaxis\":{\"anchor\":\"x\",\"domain\":[0.0,1.0]},\"legend\":{\"title\":{\"text\":\"region\"},\"tracegroupgap\":0},\"title\":{\"text\":\"Box Plot of Annual Medical Expenses by Region\"},\"boxmode\":\"group\"},                        {\"responsive\": true}                    ).then(function(){\n",
              "                            \n",
              "var gd = document.getElementById('d0eff955-41ae-455b-ab04-163c5ef0a8d5');\n",
              "var x = new MutationObserver(function (mutations, observer) {{\n",
              "        var display = window.getComputedStyle(gd).display;\n",
              "        if (!display || display === 'none') {{\n",
              "            console.log([gd, 'removed!']);\n",
              "            Plotly.purge(gd);\n",
              "            observer.disconnect();\n",
              "        }}\n",
              "}});\n",
              "\n",
              "// Listen for the removal of the full notebook cells\n",
              "var notebookContainer = gd.closest('#notebook-container');\n",
              "if (notebookContainer) {{\n",
              "    x.observe(notebookContainer, {childList: true});\n",
              "}}\n",
              "\n",
              "// Listen for the clearing of the current output cell\n",
              "var outputEl = gd.closest('.output');\n",
              "if (outputEl) {{\n",
              "    x.observe(outputEl, {childList: true});\n",
              "}}\n",
              "\n",
              "                        })                };                            </script>        </div>\n",
              "</body>\n",
              "</html>"
            ]
          },
          "metadata": {}
        }
      ]
    },
    {
      "cell_type": "markdown",
      "source": [
        "We make some obervation from the above graph\n",
        "\n",
        "There is significant difference in expenses for southeast, southwest, northeast and northwest. While the median for southwest is 8798 , the median for southeast is close to 9294, the median for northwest is 8965 and median for northeast is 10.05k.\n",
        "And the upper fence for southwest is close to 26k, upper fence for southeast is close to 42k, upper fence for northwest is close to 4230kk and the upper fence for northeast is close to 34k."
      ],
      "metadata": {
        "id": "CaKCVz7XOsem"
      }
    },
    {
      "cell_type": "code",
      "source": [
        "px.histogram(df, x=\"smoker\", color=\"sex\", title=\"Smoker\")"
      ],
      "metadata": {
        "colab": {
          "base_uri": "https://localhost:8080/",
          "height": 542
        },
        "id": "Rc1TUScZMFkA",
        "outputId": "86ae5b2d-ae71-4bb6-f6c3-05de2f60c751"
      },
      "execution_count": null,
      "outputs": [
        {
          "output_type": "display_data",
          "data": {
            "text/html": [
              "<html>\n",
              "<head><meta charset=\"utf-8\" /></head>\n",
              "<body>\n",
              "    <div>            <script src=\"https://cdnjs.cloudflare.com/ajax/libs/mathjax/2.7.5/MathJax.js?config=TeX-AMS-MML_SVG\"></script><script type=\"text/javascript\">if (window.MathJax && window.MathJax.Hub && window.MathJax.Hub.Config) {window.MathJax.Hub.Config({SVG: {font: \"STIX-Web\"}});}</script>                <script type=\"text/javascript\">window.PlotlyConfig = {MathJaxConfig: 'local'};</script>\n",
              "        <script charset=\"utf-8\" src=\"https://cdn.plot.ly/plotly-2.24.1.min.js\"></script>                <div id=\"cdb4c1aa-0a5e-400b-bd72-020b64aa53b3\" class=\"plotly-graph-div\" style=\"height:525px; width:100%;\"></div>            <script type=\"text/javascript\">                                    window.PLOTLYENV=window.PLOTLYENV || {};                                    if (document.getElementById(\"cdb4c1aa-0a5e-400b-bd72-020b64aa53b3\")) {                    Plotly.newPlot(                        \"cdb4c1aa-0a5e-400b-bd72-020b64aa53b3\",                        [{\"alignmentgroup\":\"True\",\"bingroup\":\"x\",\"hovertemplate\":\"sex=female\\u003cbr\\u003esmoker=%{x}\\u003cbr\\u003ecount=%{y}\\u003cextra\\u003e\\u003c\\u002fextra\\u003e\",\"legendgroup\":\"female\",\"marker\":{\"color\":\"#636efa\",\"pattern\":{\"shape\":\"\"}},\"name\":\"female\",\"offsetgroup\":\"female\",\"orientation\":\"v\",\"showlegend\":true,\"x\":[\"yes\",\"no\",\"no\",\"no\",\"no\",\"yes\",\"no\",\"no\",\"no\",\"no\",\"yes\",\"no\",\"no\",\"no\",\"no\",\"no\",\"no\",\"no\",\"no\",\"no\",\"no\",\"no\",\"no\",\"no\",\"no\",\"no\",\"no\",\"yes\",\"no\",\"no\",\"yes\",\"no\",\"no\",\"no\",\"yes\",\"no\",\"no\",\"no\",\"no\",\"no\",\"no\",\"yes\",\"yes\",\"no\",\"no\",\"no\",\"no\",\"no\",\"yes\",\"no\",\"no\",\"no\",\"no\",\"yes\",\"no\",\"no\",\"no\",\"no\",\"yes\",\"no\",\"no\",\"no\",\"no\",\"no\",\"yes\",\"no\",\"yes\",\"no\",\"no\",\"no\",\"no\",\"no\",\"no\",\"no\",\"no\",\"no\",\"no\",\"no\",\"yes\",\"no\",\"no\",\"yes\",\"yes\",\"no\",\"no\",\"no\",\"no\",\"no\",\"no\",\"yes\",\"no\",\"no\",\"no\",\"no\",\"no\",\"no\",\"no\",\"no\",\"no\",\"no\",\"no\",\"no\",\"no\",\"no\",\"no\",\"no\",\"no\",\"yes\",\"no\",\"no\",\"no\",\"no\",\"no\",\"no\",\"no\",\"no\",\"no\",\"no\",\"no\",\"no\",\"no\",\"no\",\"no\",\"yes\",\"no\",\"yes\",\"no\",\"no\",\"yes\",\"no\",\"yes\",\"no\",\"no\",\"no\",\"yes\",\"no\",\"no\",\"no\",\"no\",\"no\",\"yes\",\"no\",\"no\",\"no\",\"no\",\"yes\",\"no\",\"no\",\"no\",\"yes\",\"no\",\"no\",\"no\",\"no\",\"no\",\"no\",\"no\",\"yes\",\"no\",\"no\",\"no\",\"yes\",\"yes\",\"no\",\"no\",\"no\",\"no\",\"no\",\"no\",\"no\",\"no\",\"no\",\"no\",\"no\",\"no\",\"no\",\"no\",\"no\",\"yes\",\"no\",\"no\",\"no\",\"no\",\"no\",\"no\",\"no\",\"no\",\"yes\",\"yes\",\"no\",\"yes\",\"no\",\"no\",\"no\",\"no\",\"no\",\"no\",\"no\",\"no\",\"no\",\"no\",\"no\",\"no\",\"no\",\"yes\",\"yes\",\"no\",\"no\",\"yes\",\"yes\",\"no\",\"no\",\"no\",\"no\",\"no\",\"no\",\"no\",\"no\",\"yes\",\"no\",\"no\",\"no\",\"no\",\"no\",\"no\",\"no\",\"no\",\"no\",\"yes\",\"no\",\"no\",\"no\",\"no\",\"no\",\"no\",\"no\",\"no\",\"no\",\"no\",\"no\",\"yes\",\"no\",\"no\",\"no\",\"no\",\"no\",\"no\",\"no\",\"no\",\"no\",\"no\",\"no\",\"no\",\"no\",\"no\",\"no\",\"no\",\"no\",\"no\",\"no\",\"no\",\"no\",\"no\",\"no\",\"no\",\"yes\",\"no\",\"no\",\"yes\",\"no\",\"no\",\"no\",\"yes\",\"no\",\"no\",\"no\",\"no\",\"no\",\"no\",\"no\",\"no\",\"no\",\"no\",\"no\",\"no\",\"yes\",\"no\",\"no\",\"no\",\"yes\",\"no\",\"no\",\"no\",\"yes\",\"no\",\"no\",\"no\",\"no\",\"no\",\"no\",\"no\",\"yes\",\"no\",\"no\",\"yes\",\"no\",\"no\",\"no\",\"no\",\"no\",\"yes\",\"no\",\"yes\",\"no\",\"no\",\"no\",\"yes\",\"no\",\"no\",\"no\",\"no\",\"no\",\"no\",\"no\",\"no\",\"no\",\"no\",\"no\",\"yes\",\"no\",\"no\",\"no\",\"no\",\"no\",\"yes\",\"yes\",\"no\",\"no\",\"no\",\"yes\",\"no\",\"no\",\"no\",\"no\",\"no\",\"no\",\"no\",\"no\",\"no\",\"no\",\"no\",\"no\",\"no\",\"no\",\"yes\",\"no\",\"no\",\"no\",\"no\",\"no\",\"no\",\"no\",\"no\",\"no\",\"no\",\"yes\",\"yes\",\"no\",\"no\",\"no\",\"no\",\"no\",\"no\",\"yes\",\"no\",\"no\",\"no\",\"yes\",\"no\",\"no\",\"yes\",\"no\",\"no\",\"no\",\"no\",\"no\",\"no\",\"no\",\"no\",\"yes\",\"yes\",\"no\",\"no\",\"no\",\"no\",\"no\",\"no\",\"no\",\"no\",\"no\",\"no\",\"yes\",\"no\",\"no\",\"no\",\"no\",\"no\",\"no\",\"no\",\"yes\",\"yes\",\"no\",\"no\",\"no\",\"no\",\"no\",\"no\",\"no\",\"no\",\"yes\",\"yes\",\"yes\",\"no\",\"no\",\"yes\",\"yes\",\"no\",\"yes\",\"no\",\"yes\",\"no\",\"yes\",\"no\",\"no\",\"no\",\"no\",\"no\",\"no\",\"no\",\"no\",\"no\",\"yes\",\"no\",\"yes\",\"no\",\"no\",\"yes\",\"no\",\"no\",\"no\",\"no\",\"no\",\"yes\",\"no\",\"no\",\"no\",\"yes\",\"no\",\"no\",\"no\",\"no\",\"no\",\"no\",\"no\",\"no\",\"no\",\"no\",\"no\",\"no\",\"no\",\"no\",\"no\",\"no\",\"no\",\"no\",\"no\",\"no\",\"no\",\"no\",\"no\",\"no\",\"no\",\"no\",\"no\",\"no\",\"yes\",\"no\",\"no\",\"no\",\"yes\",\"no\",\"no\",\"no\",\"no\",\"no\",\"no\",\"no\",\"no\",\"no\",\"no\",\"no\",\"no\",\"yes\",\"no\",\"no\",\"no\",\"yes\",\"yes\",\"no\",\"no\",\"yes\",\"yes\",\"no\",\"yes\",\"no\",\"no\",\"no\",\"no\",\"no\",\"no\",\"no\",\"no\",\"no\",\"no\",\"no\",\"no\",\"no\",\"no\",\"no\",\"yes\",\"no\",\"yes\",\"no\",\"no\",\"yes\",\"no\",\"no\",\"yes\",\"no\",\"no\",\"no\",\"no\",\"yes\",\"no\",\"no\",\"yes\",\"yes\",\"no\",\"yes\",\"no\",\"no\",\"no\",\"no\",\"no\",\"no\",\"no\",\"no\",\"yes\",\"no\",\"no\",\"no\",\"no\",\"no\",\"yes\",\"no\",\"no\",\"no\",\"no\",\"no\",\"no\",\"no\",\"no\",\"no\",\"no\",\"no\",\"no\",\"yes\",\"no\",\"no\",\"yes\",\"no\",\"no\",\"no\",\"no\",\"no\",\"no\",\"yes\",\"no\",\"yes\",\"no\",\"no\",\"no\",\"no\",\"no\",\"no\",\"no\",\"yes\",\"no\",\"yes\",\"no\",\"yes\",\"no\",\"no\",\"yes\",\"no\",\"no\",\"yes\",\"no\",\"yes\",\"no\",\"no\",\"no\",\"no\",\"no\",\"no\",\"no\",\"no\",\"no\",\"no\",\"no\",\"no\",\"no\",\"no\",\"no\",\"no\",\"no\",\"no\",\"no\",\"no\",\"no\",\"no\",\"no\",\"no\",\"no\",\"no\",\"yes\",\"yes\",\"no\",\"no\",\"no\",\"no\",\"no\",\"no\",\"no\",\"no\",\"yes\",\"yes\",\"no\",\"yes\",\"yes\",\"no\",\"no\",\"yes\",\"no\",\"no\",\"no\",\"no\",\"no\",\"no\",\"no\",\"no\",\"yes\"],\"xaxis\":\"x\",\"yaxis\":\"y\",\"type\":\"histogram\"},{\"alignmentgroup\":\"True\",\"bingroup\":\"x\",\"hovertemplate\":\"sex=male\\u003cbr\\u003esmoker=%{x}\\u003cbr\\u003ecount=%{y}\\u003cextra\\u003e\\u003c\\u002fextra\\u003e\",\"legendgroup\":\"male\",\"marker\":{\"color\":\"#EF553B\",\"pattern\":{\"shape\":\"\"}},\"name\":\"male\",\"offsetgroup\":\"male\",\"orientation\":\"v\",\"showlegend\":true,\"x\":[\"no\",\"no\",\"no\",\"no\",\"no\",\"no\",\"no\",\"yes\",\"no\",\"no\",\"no\",\"yes\",\"no\",\"no\",\"no\",\"yes\",\"yes\",\"no\",\"yes\",\"no\",\"no\",\"yes\",\"yes\",\"no\",\"no\",\"no\",\"yes\",\"yes\",\"yes\",\"yes\",\"yes\",\"no\",\"no\",\"no\",\"no\",\"yes\",\"no\",\"no\",\"no\",\"no\",\"no\",\"no\",\"yes\",\"yes\",\"yes\",\"no\",\"no\",\"yes\",\"yes\",\"no\",\"yes\",\"no\",\"no\",\"yes\",\"no\",\"no\",\"no\",\"no\",\"no\",\"no\",\"no\",\"yes\",\"no\",\"no\",\"no\",\"no\",\"no\",\"no\",\"yes\",\"no\",\"yes\",\"yes\",\"no\",\"no\",\"no\",\"no\",\"yes\",\"yes\",\"yes\",\"no\",\"no\",\"no\",\"no\",\"no\",\"no\",\"no\",\"no\",\"no\",\"no\",\"no\",\"no\",\"yes\",\"no\",\"no\",\"no\",\"no\",\"no\",\"no\",\"yes\",\"no\",\"no\",\"no\",\"no\",\"no\",\"no\",\"yes\",\"yes\",\"no\",\"no\",\"no\",\"no\",\"no\",\"no\",\"yes\",\"no\",\"no\",\"no\",\"no\",\"no\",\"no\",\"yes\",\"yes\",\"no\",\"yes\",\"yes\",\"no\",\"yes\",\"yes\",\"yes\",\"yes\",\"yes\",\"no\",\"no\",\"no\",\"yes\",\"no\",\"no\",\"no\",\"no\",\"no\",\"yes\",\"no\",\"no\",\"no\",\"no\",\"yes\",\"no\",\"no\",\"yes\",\"yes\",\"yes\",\"no\",\"no\",\"no\",\"no\",\"yes\",\"no\",\"no\",\"no\",\"no\",\"no\",\"no\",\"yes\",\"no\",\"no\",\"no\",\"yes\",\"no\",\"yes\",\"no\",\"no\",\"no\",\"yes\",\"no\",\"no\",\"no\",\"no\",\"no\",\"no\",\"no\",\"no\",\"no\",\"no\",\"no\",\"no\",\"no\",\"yes\",\"no\",\"yes\",\"no\",\"yes\",\"no\",\"no\",\"no\",\"no\",\"no\",\"no\",\"no\",\"no\",\"no\",\"no\",\"no\",\"no\",\"no\",\"no\",\"no\",\"no\",\"no\",\"no\",\"no\",\"yes\",\"yes\",\"yes\",\"no\",\"no\",\"no\",\"no\",\"no\",\"no\",\"no\",\"no\",\"no\",\"no\",\"no\",\"yes\",\"no\",\"no\",\"no\",\"no\",\"no\",\"no\",\"no\",\"no\",\"no\",\"yes\",\"no\",\"no\",\"no\",\"yes\",\"yes\",\"yes\",\"no\",\"no\",\"no\",\"no\",\"no\",\"no\",\"no\",\"no\",\"no\",\"yes\",\"no\",\"no\",\"yes\",\"no\",\"yes\",\"yes\",\"no\",\"no\",\"no\",\"no\",\"no\",\"no\",\"no\",\"yes\",\"no\",\"no\",\"no\",\"no\",\"yes\",\"no\",\"no\",\"yes\",\"no\",\"no\",\"no\",\"no\",\"no\",\"no\",\"yes\",\"no\",\"no\",\"no\",\"no\",\"no\",\"no\",\"no\",\"no\",\"no\",\"no\",\"yes\",\"no\",\"no\",\"no\",\"no\",\"no\",\"no\",\"no\",\"no\",\"no\",\"no\",\"no\",\"no\",\"no\",\"yes\",\"yes\",\"no\",\"yes\",\"yes\",\"no\",\"no\",\"no\",\"no\",\"no\",\"no\",\"no\",\"no\",\"no\",\"yes\",\"no\",\"no\",\"yes\",\"no\",\"no\",\"no\",\"no\",\"no\",\"no\",\"no\",\"no\",\"yes\",\"no\",\"yes\",\"no\",\"no\",\"no\",\"yes\",\"no\",\"no\",\"yes\",\"no\",\"no\",\"no\",\"no\",\"yes\",\"no\",\"no\",\"no\",\"no\",\"yes\",\"no\",\"no\",\"no\",\"no\",\"no\",\"no\",\"no\",\"no\",\"no\",\"no\",\"no\",\"yes\",\"no\",\"no\",\"yes\",\"yes\",\"no\",\"yes\",\"yes\",\"no\",\"no\",\"no\",\"no\",\"no\",\"no\",\"no\",\"no\",\"no\",\"yes\",\"no\",\"yes\",\"no\",\"no\",\"no\",\"no\",\"no\",\"no\",\"no\",\"no\",\"no\",\"yes\",\"no\",\"no\",\"no\",\"no\",\"no\",\"no\",\"yes\",\"yes\",\"no\",\"yes\",\"no\",\"no\",\"no\",\"no\",\"no\",\"no\",\"no\",\"no\",\"no\",\"no\",\"no\",\"yes\",\"yes\",\"yes\",\"no\",\"no\",\"no\",\"no\",\"no\",\"no\",\"no\",\"no\",\"no\",\"no\",\"no\",\"no\",\"yes\",\"no\",\"no\",\"no\",\"no\",\"no\",\"no\",\"no\",\"no\",\"no\",\"no\",\"no\",\"no\",\"no\",\"no\",\"no\",\"yes\",\"yes\",\"no\",\"no\",\"no\",\"yes\",\"no\",\"no\",\"no\",\"yes\",\"no\",\"no\",\"no\",\"no\",\"no\",\"yes\",\"no\",\"yes\",\"no\",\"no\",\"no\",\"no\",\"no\",\"no\",\"no\",\"no\",\"no\",\"no\",\"no\",\"no\",\"no\",\"no\",\"no\",\"yes\",\"no\",\"yes\",\"no\",\"yes\",\"yes\",\"yes\",\"no\",\"yes\",\"no\",\"yes\",\"no\",\"no\",\"no\",\"no\",\"yes\",\"no\",\"no\",\"no\",\"yes\",\"no\",\"no\",\"no\",\"no\",\"yes\",\"no\",\"no\",\"no\",\"no\",\"yes\",\"yes\",\"no\",\"no\",\"no\",\"no\",\"no\",\"yes\",\"no\",\"no\",\"yes\",\"no\",\"no\",\"no\",\"yes\",\"no\",\"yes\",\"no\",\"no\",\"yes\",\"no\",\"yes\",\"no\",\"no\",\"no\",\"yes\",\"no\",\"yes\",\"yes\",\"no\",\"no\",\"yes\",\"no\",\"no\",\"no\",\"no\",\"yes\",\"no\",\"no\",\"no\",\"no\",\"yes\",\"no\",\"no\",\"no\",\"yes\",\"no\",\"no\",\"no\",\"no\",\"no\",\"no\",\"no\",\"no\",\"no\",\"yes\",\"no\",\"no\",\"no\",\"no\",\"no\",\"no\",\"no\",\"no\",\"yes\",\"no\",\"no\",\"no\",\"yes\",\"yes\",\"no\",\"no\",\"no\",\"no\",\"no\",\"no\",\"no\",\"no\",\"no\",\"no\",\"no\",\"yes\",\"no\",\"no\",\"yes\",\"no\",\"no\",\"no\",\"no\",\"yes\",\"no\",\"no\",\"yes\",\"no\",\"yes\",\"no\",\"no\",\"no\",\"no\",\"no\",\"no\",\"no\",\"yes\",\"no\",\"no\",\"no\",\"no\",\"no\",\"no\",\"no\",\"no\",\"no\",\"no\",\"no\",\"no\",\"no\",\"no\",\"yes\",\"no\",\"no\",\"no\",\"yes\",\"yes\",\"no\",\"no\",\"no\",\"yes\",\"yes\",\"no\",\"yes\",\"no\",\"no\",\"yes\",\"yes\",\"no\",\"no\",\"no\",\"no\",\"yes\",\"no\",\"yes\",\"no\",\"yes\",\"yes\",\"no\",\"yes\",\"no\",\"no\",\"no\",\"no\",\"no\",\"no\",\"yes\",\"yes\",\"yes\",\"yes\",\"yes\",\"no\",\"no\",\"no\",\"no\",\"no\",\"no\",\"no\",\"yes\",\"no\",\"no\",\"no\",\"no\",\"no\",\"no\"],\"xaxis\":\"x\",\"yaxis\":\"y\",\"type\":\"histogram\"}],                        {\"template\":{\"data\":{\"histogram2dcontour\":[{\"type\":\"histogram2dcontour\",\"colorbar\":{\"outlinewidth\":0,\"ticks\":\"\"},\"colorscale\":[[0.0,\"#0d0887\"],[0.1111111111111111,\"#46039f\"],[0.2222222222222222,\"#7201a8\"],[0.3333333333333333,\"#9c179e\"],[0.4444444444444444,\"#bd3786\"],[0.5555555555555556,\"#d8576b\"],[0.6666666666666666,\"#ed7953\"],[0.7777777777777778,\"#fb9f3a\"],[0.8888888888888888,\"#fdca26\"],[1.0,\"#f0f921\"]]}],\"choropleth\":[{\"type\":\"choropleth\",\"colorbar\":{\"outlinewidth\":0,\"ticks\":\"\"}}],\"histogram2d\":[{\"type\":\"histogram2d\",\"colorbar\":{\"outlinewidth\":0,\"ticks\":\"\"},\"colorscale\":[[0.0,\"#0d0887\"],[0.1111111111111111,\"#46039f\"],[0.2222222222222222,\"#7201a8\"],[0.3333333333333333,\"#9c179e\"],[0.4444444444444444,\"#bd3786\"],[0.5555555555555556,\"#d8576b\"],[0.6666666666666666,\"#ed7953\"],[0.7777777777777778,\"#fb9f3a\"],[0.8888888888888888,\"#fdca26\"],[1.0,\"#f0f921\"]]}],\"heatmap\":[{\"type\":\"heatmap\",\"colorbar\":{\"outlinewidth\":0,\"ticks\":\"\"},\"colorscale\":[[0.0,\"#0d0887\"],[0.1111111111111111,\"#46039f\"],[0.2222222222222222,\"#7201a8\"],[0.3333333333333333,\"#9c179e\"],[0.4444444444444444,\"#bd3786\"],[0.5555555555555556,\"#d8576b\"],[0.6666666666666666,\"#ed7953\"],[0.7777777777777778,\"#fb9f3a\"],[0.8888888888888888,\"#fdca26\"],[1.0,\"#f0f921\"]]}],\"heatmapgl\":[{\"type\":\"heatmapgl\",\"colorbar\":{\"outlinewidth\":0,\"ticks\":\"\"},\"colorscale\":[[0.0,\"#0d0887\"],[0.1111111111111111,\"#46039f\"],[0.2222222222222222,\"#7201a8\"],[0.3333333333333333,\"#9c179e\"],[0.4444444444444444,\"#bd3786\"],[0.5555555555555556,\"#d8576b\"],[0.6666666666666666,\"#ed7953\"],[0.7777777777777778,\"#fb9f3a\"],[0.8888888888888888,\"#fdca26\"],[1.0,\"#f0f921\"]]}],\"contourcarpet\":[{\"type\":\"contourcarpet\",\"colorbar\":{\"outlinewidth\":0,\"ticks\":\"\"}}],\"contour\":[{\"type\":\"contour\",\"colorbar\":{\"outlinewidth\":0,\"ticks\":\"\"},\"colorscale\":[[0.0,\"#0d0887\"],[0.1111111111111111,\"#46039f\"],[0.2222222222222222,\"#7201a8\"],[0.3333333333333333,\"#9c179e\"],[0.4444444444444444,\"#bd3786\"],[0.5555555555555556,\"#d8576b\"],[0.6666666666666666,\"#ed7953\"],[0.7777777777777778,\"#fb9f3a\"],[0.8888888888888888,\"#fdca26\"],[1.0,\"#f0f921\"]]}],\"surface\":[{\"type\":\"surface\",\"colorbar\":{\"outlinewidth\":0,\"ticks\":\"\"},\"colorscale\":[[0.0,\"#0d0887\"],[0.1111111111111111,\"#46039f\"],[0.2222222222222222,\"#7201a8\"],[0.3333333333333333,\"#9c179e\"],[0.4444444444444444,\"#bd3786\"],[0.5555555555555556,\"#d8576b\"],[0.6666666666666666,\"#ed7953\"],[0.7777777777777778,\"#fb9f3a\"],[0.8888888888888888,\"#fdca26\"],[1.0,\"#f0f921\"]]}],\"mesh3d\":[{\"type\":\"mesh3d\",\"colorbar\":{\"outlinewidth\":0,\"ticks\":\"\"}}],\"scatter\":[{\"fillpattern\":{\"fillmode\":\"overlay\",\"size\":10,\"solidity\":0.2},\"type\":\"scatter\"}],\"parcoords\":[{\"type\":\"parcoords\",\"line\":{\"colorbar\":{\"outlinewidth\":0,\"ticks\":\"\"}}}],\"scatterpolargl\":[{\"type\":\"scatterpolargl\",\"marker\":{\"colorbar\":{\"outlinewidth\":0,\"ticks\":\"\"}}}],\"bar\":[{\"error_x\":{\"color\":\"#2a3f5f\"},\"error_y\":{\"color\":\"#2a3f5f\"},\"marker\":{\"line\":{\"color\":\"#E5ECF6\",\"width\":0.5},\"pattern\":{\"fillmode\":\"overlay\",\"size\":10,\"solidity\":0.2}},\"type\":\"bar\"}],\"scattergeo\":[{\"type\":\"scattergeo\",\"marker\":{\"colorbar\":{\"outlinewidth\":0,\"ticks\":\"\"}}}],\"scatterpolar\":[{\"type\":\"scatterpolar\",\"marker\":{\"colorbar\":{\"outlinewidth\":0,\"ticks\":\"\"}}}],\"histogram\":[{\"marker\":{\"pattern\":{\"fillmode\":\"overlay\",\"size\":10,\"solidity\":0.2}},\"type\":\"histogram\"}],\"scattergl\":[{\"type\":\"scattergl\",\"marker\":{\"colorbar\":{\"outlinewidth\":0,\"ticks\":\"\"}}}],\"scatter3d\":[{\"type\":\"scatter3d\",\"line\":{\"colorbar\":{\"outlinewidth\":0,\"ticks\":\"\"}},\"marker\":{\"colorbar\":{\"outlinewidth\":0,\"ticks\":\"\"}}}],\"scattermapbox\":[{\"type\":\"scattermapbox\",\"marker\":{\"colorbar\":{\"outlinewidth\":0,\"ticks\":\"\"}}}],\"scatterternary\":[{\"type\":\"scatterternary\",\"marker\":{\"colorbar\":{\"outlinewidth\":0,\"ticks\":\"\"}}}],\"scattercarpet\":[{\"type\":\"scattercarpet\",\"marker\":{\"colorbar\":{\"outlinewidth\":0,\"ticks\":\"\"}}}],\"carpet\":[{\"aaxis\":{\"endlinecolor\":\"#2a3f5f\",\"gridcolor\":\"white\",\"linecolor\":\"white\",\"minorgridcolor\":\"white\",\"startlinecolor\":\"#2a3f5f\"},\"baxis\":{\"endlinecolor\":\"#2a3f5f\",\"gridcolor\":\"white\",\"linecolor\":\"white\",\"minorgridcolor\":\"white\",\"startlinecolor\":\"#2a3f5f\"},\"type\":\"carpet\"}],\"table\":[{\"cells\":{\"fill\":{\"color\":\"#EBF0F8\"},\"line\":{\"color\":\"white\"}},\"header\":{\"fill\":{\"color\":\"#C8D4E3\"},\"line\":{\"color\":\"white\"}},\"type\":\"table\"}],\"barpolar\":[{\"marker\":{\"line\":{\"color\":\"#E5ECF6\",\"width\":0.5},\"pattern\":{\"fillmode\":\"overlay\",\"size\":10,\"solidity\":0.2}},\"type\":\"barpolar\"}],\"pie\":[{\"automargin\":true,\"type\":\"pie\"}]},\"layout\":{\"autotypenumbers\":\"strict\",\"colorway\":[\"#636efa\",\"#EF553B\",\"#00cc96\",\"#ab63fa\",\"#FFA15A\",\"#19d3f3\",\"#FF6692\",\"#B6E880\",\"#FF97FF\",\"#FECB52\"],\"font\":{\"color\":\"#2a3f5f\"},\"hovermode\":\"closest\",\"hoverlabel\":{\"align\":\"left\"},\"paper_bgcolor\":\"white\",\"plot_bgcolor\":\"#E5ECF6\",\"polar\":{\"bgcolor\":\"#E5ECF6\",\"angularaxis\":{\"gridcolor\":\"white\",\"linecolor\":\"white\",\"ticks\":\"\"},\"radialaxis\":{\"gridcolor\":\"white\",\"linecolor\":\"white\",\"ticks\":\"\"}},\"ternary\":{\"bgcolor\":\"#E5ECF6\",\"aaxis\":{\"gridcolor\":\"white\",\"linecolor\":\"white\",\"ticks\":\"\"},\"baxis\":{\"gridcolor\":\"white\",\"linecolor\":\"white\",\"ticks\":\"\"},\"caxis\":{\"gridcolor\":\"white\",\"linecolor\":\"white\",\"ticks\":\"\"}},\"coloraxis\":{\"colorbar\":{\"outlinewidth\":0,\"ticks\":\"\"}},\"colorscale\":{\"sequential\":[[0.0,\"#0d0887\"],[0.1111111111111111,\"#46039f\"],[0.2222222222222222,\"#7201a8\"],[0.3333333333333333,\"#9c179e\"],[0.4444444444444444,\"#bd3786\"],[0.5555555555555556,\"#d8576b\"],[0.6666666666666666,\"#ed7953\"],[0.7777777777777778,\"#fb9f3a\"],[0.8888888888888888,\"#fdca26\"],[1.0,\"#f0f921\"]],\"sequentialminus\":[[0.0,\"#0d0887\"],[0.1111111111111111,\"#46039f\"],[0.2222222222222222,\"#7201a8\"],[0.3333333333333333,\"#9c179e\"],[0.4444444444444444,\"#bd3786\"],[0.5555555555555556,\"#d8576b\"],[0.6666666666666666,\"#ed7953\"],[0.7777777777777778,\"#fb9f3a\"],[0.8888888888888888,\"#fdca26\"],[1.0,\"#f0f921\"]],\"diverging\":[[0,\"#8e0152\"],[0.1,\"#c51b7d\"],[0.2,\"#de77ae\"],[0.3,\"#f1b6da\"],[0.4,\"#fde0ef\"],[0.5,\"#f7f7f7\"],[0.6,\"#e6f5d0\"],[0.7,\"#b8e186\"],[0.8,\"#7fbc41\"],[0.9,\"#4d9221\"],[1,\"#276419\"]]},\"xaxis\":{\"gridcolor\":\"white\",\"linecolor\":\"white\",\"ticks\":\"\",\"title\":{\"standoff\":15},\"zerolinecolor\":\"white\",\"automargin\":true,\"zerolinewidth\":2},\"yaxis\":{\"gridcolor\":\"white\",\"linecolor\":\"white\",\"ticks\":\"\",\"title\":{\"standoff\":15},\"zerolinecolor\":\"white\",\"automargin\":true,\"zerolinewidth\":2},\"scene\":{\"xaxis\":{\"backgroundcolor\":\"#E5ECF6\",\"gridcolor\":\"white\",\"linecolor\":\"white\",\"showbackground\":true,\"ticks\":\"\",\"zerolinecolor\":\"white\",\"gridwidth\":2},\"yaxis\":{\"backgroundcolor\":\"#E5ECF6\",\"gridcolor\":\"white\",\"linecolor\":\"white\",\"showbackground\":true,\"ticks\":\"\",\"zerolinecolor\":\"white\",\"gridwidth\":2},\"zaxis\":{\"backgroundcolor\":\"#E5ECF6\",\"gridcolor\":\"white\",\"linecolor\":\"white\",\"showbackground\":true,\"ticks\":\"\",\"zerolinecolor\":\"white\",\"gridwidth\":2}},\"shapedefaults\":{\"line\":{\"color\":\"#2a3f5f\"}},\"annotationdefaults\":{\"arrowcolor\":\"#2a3f5f\",\"arrowhead\":0,\"arrowwidth\":1},\"geo\":{\"bgcolor\":\"white\",\"landcolor\":\"#E5ECF6\",\"subunitcolor\":\"white\",\"showland\":true,\"showlakes\":true,\"lakecolor\":\"white\"},\"title\":{\"x\":0.05},\"mapbox\":{\"style\":\"light\"}}},\"xaxis\":{\"anchor\":\"y\",\"domain\":[0.0,1.0],\"title\":{\"text\":\"smoker\"}},\"yaxis\":{\"anchor\":\"x\",\"domain\":[0.0,1.0],\"title\":{\"text\":\"count\"}},\"legend\":{\"title\":{\"text\":\"sex\"},\"tracegroupgap\":0},\"title\":{\"text\":\"Smoker\"},\"barmode\":\"relative\"},                        {\"responsive\": true}                    ).then(function(){\n",
              "                            \n",
              "var gd = document.getElementById('cdb4c1aa-0a5e-400b-bd72-020b64aa53b3');\n",
              "var x = new MutationObserver(function (mutations, observer) {{\n",
              "        var display = window.getComputedStyle(gd).display;\n",
              "        if (!display || display === 'none') {{\n",
              "            console.log([gd, 'removed!']);\n",
              "            Plotly.purge(gd);\n",
              "            observer.disconnect();\n",
              "        }}\n",
              "}});\n",
              "\n",
              "// Listen for the removal of the full notebook cells\n",
              "var notebookContainer = gd.closest('#notebook-container');\n",
              "if (notebookContainer) {{\n",
              "    x.observe(notebookContainer, {childList: true});\n",
              "}}\n",
              "\n",
              "// Listen for the clearing of the current output cell\n",
              "var outputEl = gd.closest('.output');\n",
              "if (outputEl) {{\n",
              "    x.observe(outputEl, {childList: true});\n",
              "}}\n",
              "\n",
              "                        })                };                            </script>        </div>\n",
              "</body>\n",
              "</html>"
            ]
          },
          "metadata": {}
        }
      ]
    },
    {
      "cell_type": "markdown",
      "source": [
        "From the above graph we make some observations.\n",
        "\n",
        "It appears that 20% of the customers have reported they smoking.\n",
        "We can also see that smoking appears a more common habit among males."
      ],
      "metadata": {
        "id": "JHGlOjec0KmK"
      }
    },
    {
      "cell_type": "markdown",
      "source": [
        "Having looked at individual columns, we can now visualize the relationship between \"expenses\" (the value we wish to predict) and other columns.\n",
        "\n",
        "Age and Charges\n",
        "Let's visualize the relationship between \"age\" and \"expenses\" using a scatter plot. Each point in the scatter plot represents one customer. We'll also use values in the \"smoker\" column to color the points."
      ],
      "metadata": {
        "id": "xU5tUxg207d-"
      }
    },
    {
      "cell_type": "code",
      "source": [
        "fig = px.scatter(df,\n",
        "                x=\"age\",\n",
        "                y=\"expenses\",\n",
        "                color=\"smoker\",\n",
        "                opacity=0.8,\n",
        "                hover_data=[\"sex\"],\n",
        "                width=800,\n",
        "                height=500,\n",
        "                title=\"Age vs Expenses\")\n",
        "\n",
        "fig.update_traces(marker_size=5)\n",
        "fig.show()"
      ],
      "metadata": {
        "colab": {
          "base_uri": "https://localhost:8080/",
          "height": 517
        },
        "id": "V_9v1CddML0x",
        "outputId": "ac4a3266-f91f-4c49-ba4c-59eff809a6ba"
      },
      "execution_count": null,
      "outputs": [
        {
          "output_type": "display_data",
          "data": {
            "text/html": [
              "<html>\n",
              "<head><meta charset=\"utf-8\" /></head>\n",
              "<body>\n",
              "    <div>            <script src=\"https://cdnjs.cloudflare.com/ajax/libs/mathjax/2.7.5/MathJax.js?config=TeX-AMS-MML_SVG\"></script><script type=\"text/javascript\">if (window.MathJax && window.MathJax.Hub && window.MathJax.Hub.Config) {window.MathJax.Hub.Config({SVG: {font: \"STIX-Web\"}});}</script>                <script type=\"text/javascript\">window.PlotlyConfig = {MathJaxConfig: 'local'};</script>\n",
              "        <script charset=\"utf-8\" src=\"https://cdn.plot.ly/plotly-2.24.1.min.js\"></script>                <div id=\"fd711aee-4a2c-4060-9725-bd54ef932609\" class=\"plotly-graph-div\" style=\"height:500px; width:800px;\"></div>            <script type=\"text/javascript\">                                    window.PLOTLYENV=window.PLOTLYENV || {};                                    if (document.getElementById(\"fd711aee-4a2c-4060-9725-bd54ef932609\")) {                    Plotly.newPlot(                        \"fd711aee-4a2c-4060-9725-bd54ef932609\",                        [{\"customdata\":[[\"female\"],[\"female\"],[\"male\"],[\"male\"],[\"female\"],[\"male\"],[\"male\"],[\"male\"],[\"male\"],[\"male\"],[\"male\"],[\"male\"],[\"male\"],[\"male\"],[\"male\"],[\"female\"],[\"female\"],[\"male\"],[\"female\"],[\"male\"],[\"female\"],[\"male\"],[\"female\"],[\"male\"],[\"female\"],[\"male\"],[\"male\"],[\"female\"],[\"male\"],[\"male\"],[\"female\"],[\"male\"],[\"female\"],[\"female\"],[\"male\"],[\"male\"],[\"male\"],[\"female\"],[\"male\"],[\"male\"],[\"male\"],[\"female\"],[\"female\"],[\"female\"],[\"male\"],[\"female\"],[\"male\"],[\"male\"],[\"male\"],[\"female\"],[\"male\"],[\"female\"],[\"female\"],[\"male\"],[\"female\"],[\"male\"],[\"male\"],[\"male\"],[\"male\"],[\"female\"],[\"male\"],[\"male\"],[\"male\"],[\"male\"],[\"male\"],[\"female\"],[\"male\"],[\"female\"],[\"male\"],[\"male\"],[\"male\"],[\"male\"],[\"female\"],[\"male\"],[\"female\"],[\"male\"],[\"male\"],[\"female\"],[\"female\"],[\"male\"],[\"male\"],[\"female\"],[\"male\"],[\"female\"],[\"female\"],[\"male\"],[\"female\"],[\"male\"],[\"female\"],[\"female\"],[\"female\"],[\"female\"],[\"male\"],[\"male\"],[\"male\"],[\"female\"],[\"male\"],[\"male\"],[\"female\"],[\"male\"],[\"male\"],[\"male\"],[\"female\"],[\"male\"],[\"male\"],[\"male\"],[\"male\"],[\"male\"],[\"male\"],[\"male\"],[\"female\"],[\"male\"],[\"female\"],[\"female\"],[\"male\"],[\"female\"],[\"female\"],[\"female\"],[\"female\"],[\"female\"],[\"male\"],[\"female\"],[\"male\"],[\"female\"],[\"male\"],[\"male\"],[\"female\"],[\"male\"],[\"male\"],[\"female\"],[\"female\"],[\"male\"],[\"female\"],[\"male\"],[\"female\"],[\"male\"],[\"male\"],[\"male\"],[\"male\"],[\"female\"],[\"female\"],[\"female\"],[\"male\"],[\"female\"],[\"male\"],[\"male\"],[\"male\"],[\"male\"],[\"female\"],[\"female\"],[\"male\"],[\"male\"],[\"female\"],[\"male\"],[\"female\"],[\"male\"],[\"male\"],[\"male\"],[\"female\"],[\"female\"],[\"female\"],[\"male\"],[\"male\"],[\"male\"],[\"female\"],[\"female\"],[\"female\"],[\"female\"],[\"female\"],[\"female\"],[\"female\"],[\"male\"],[\"female\"],[\"female\"],[\"male\"],[\"male\"],[\"female\"],[\"male\"],[\"female\"],[\"male\"],[\"female\"],[\"male\"],[\"female\"],[\"male\"],[\"male\"],[\"male\"],[\"male\"],[\"male\"],[\"male\"],[\"male\"],[\"male\"],[\"male\"],[\"male\"],[\"male\"],[\"female\"],[\"female\"],[\"male\"],[\"male\"],[\"male\"],[\"male\"],[\"female\"],[\"male\"],[\"male\"],[\"female\"],[\"female\"],[\"male\"],[\"male\"],[\"female\"],[\"female\"],[\"male\"],[\"female\"],[\"male\"],[\"male\"],[\"male\"],[\"male\"],[\"male\"],[\"male\"],[\"female\"],[\"male\"],[\"female\"],[\"female\"],[\"female\"],[\"male\"],[\"female\"],[\"male\"],[\"male\"],[\"female\"],[\"female\"],[\"female\"],[\"female\"],[\"male\"],[\"female\"],[\"male\"],[\"male\"],[\"female\"],[\"female\"],[\"male\"],[\"female\"],[\"male\"],[\"female\"],[\"female\"],[\"female\"],[\"male\"],[\"female\"],[\"female\"],[\"female\"],[\"male\"],[\"female\"],[\"male\"],[\"male\"],[\"male\"],[\"male\"],[\"male\"],[\"male\"],[\"male\"],[\"male\"],[\"male\"],[\"female\"],[\"female\"],[\"male\"],[\"male\"],[\"male\"],[\"male\"],[\"male\"],[\"male\"],[\"male\"],[\"female\"],[\"male\"],[\"female\"],[\"female\"],[\"female\"],[\"male\"],[\"female\"],[\"female\"]],\"hovertemplate\":\"smoker=yes\\u003cbr\\u003eage=%{x}\\u003cbr\\u003eexpenses=%{y}\\u003cbr\\u003esex=%{customdata[0]}\\u003cextra\\u003e\\u003c\\u002fextra\\u003e\",\"legendgroup\":\"yes\",\"marker\":{\"color\":\"#636efa\",\"opacity\":0.8,\"symbol\":\"circle\",\"size\":5},\"mode\":\"markers\",\"name\":\"yes\",\"showlegend\":true,\"x\":[19,62,27,30,34,31,22,28,35,60,36,48,36,58,18,53,20,28,27,22,37,45,57,59,64,56,38,61,20,63,29,44,19,32,34,30,46,42,48,18,30,42,18,63,36,27,35,19,42,40,19,23,63,18,63,54,50,56,19,20,52,19,46,40,50,40,54,59,25,19,47,31,53,43,27,34,45,64,61,52,50,19,26,23,39,24,27,55,44,26,36,63,64,61,40,33,56,42,30,54,61,24,44,21,29,51,19,39,42,57,54,49,43,35,48,31,34,21,19,59,30,47,49,19,37,18,44,39,42,52,64,43,40,62,44,60,39,27,41,51,30,29,35,37,23,29,27,53,37,47,18,33,19,30,50,53,27,33,18,47,33,56,36,41,23,57,60,37,46,49,48,25,37,51,32,57,64,47,43,60,32,18,43,45,37,25,51,44,34,54,43,51,29,31,24,27,30,24,47,43,22,47,19,46,55,18,22,45,35,20,43,22,49,47,59,37,28,39,47,22,51,33,38,48,25,33,23,53,23,19,60,43,19,18,43,52,31,23,20,43,19,18,36,37,46,20,52,20,52,64,32,24,20,64,24,26,39,47,18,61,20,19,45,62,43,42,29,32,25,19,30,62,42,61],\"xaxis\":\"x\",\"y\":[16884.92,27808.73,39611.76,36837.47,37701.88,38711.0,35585.58,51194.56,39774.28,48173.36,38709.18,23568.27,37742.58,47496.49,34303.17,23244.79,14711.74,17663.14,16577.78,37165.16,39836.52,21098.55,43578.94,30184.94,47291.06,22412.65,15820.7,30942.19,17560.38,47055.53,19107.78,39556.49,17081.08,32734.19,18972.5,20745.99,40720.55,19964.75,21223.68,15518.18,36950.26,21348.71,36149.48,48824.45,43753.34,37133.9,20984.09,34779.62,19515.54,19444.27,17352.68,38511.63,29523.17,12829.46,47305.31,44260.75,41097.16,43921.18,33750.29,17085.27,24869.84,36219.41,46151.12,17179.52,42856.84,22331.57,48549.18,47896.79,42112.24,16297.85,21978.68,38746.36,24873.38,42124.52,34838.87,35491.64,42760.5,47928.03,48517.56,24393.62,41919.1,13844.51,36085.22,18033.97,21659.93,38126.25,15006.58,42303.69,19594.81,14455.64,18608.26,28950.47,46889.26,46599.11,39125.33,37079.37,26109.33,22144.03,19521.97,25382.3,28868.66,35147.53,48885.14,17942.11,36197.7,22218.11,32548.34,21082.16,38245.59,48675.52,63770.43,23807.24,45863.21,39983.43,45702.02,58571.07,43943.88,15359.1,17468.98,25678.78,39241.44,42969.85,23306.55,34439.86,40182.25,34617.84,42983.46,20149.32,32787.46,24667.42,27037.91,42560.43,40003.33,45710.21,46200.99,46130.53,40103.89,34806.47,40273.65,44400.41,40932.43,16657.72,19362.0,40419.02,36189.1,44585.46,18246.5,43254.42,19539.24,23065.42,36307.8,19040.88,17748.51,18259.22,24520.26,21195.82,18310.74,17904.53,38792.69,23401.31,55135.4,43813.87,20773.63,39597.41,36021.01,27533.91,45008.96,37270.15,42111.66,24106.91,40974.16,15817.99,46113.51,46255.11,19719.69,27218.44,29330.98,44202.65,19798.05,48673.56,17496.31,33732.69,21774.32,35069.37,39047.29,19933.46,47462.89,38998.55,20009.63,41999.52,41034.22,23967.38,16138.76,19199.94,14571.89,16420.49,17361.77,34472.84,24915.22,18767.74,35595.59,42211.14,16450.89,21677.28,44423.8,13747.87,37484.45,39725.52,20234.85,33475.82,21880.82,44501.4,39727.61,25309.49,48970.25,39871.7,34672.15,19023.26,41676.08,33907.55,44641.2,16776.3,41949.24,24180.93,36124.57,38282.75,34166.27,46661.44,40904.2,36898.73,52590.83,40941.29,39722.75,17178.68,22478.6,23887.66,19350.37,18328.24,37465.34,21771.34,33307.55,18223.45,38415.47,20296.86,41661.6,26125.67,60021.4,20167.34,47269.85,49577.66,37607.53,18648.42,16232.85,26926.51,34254.05,17043.34,22462.04,24535.7,14283.46,47403.88,38344.57,34828.65,62592.87,46718.16,37829.72,21259.38,16115.3,21472.48,33900.65,36397.58,18765.88,28101.33,43896.38,29141.36],\"yaxis\":\"y\",\"type\":\"scattergl\"},{\"customdata\":[[\"male\"],[\"male\"],[\"male\"],[\"male\"],[\"female\"],[\"female\"],[\"female\"],[\"male\"],[\"female\"],[\"male\"],[\"male\"],[\"female\"],[\"male\"],[\"female\"],[\"male\"],[\"male\"],[\"female\"],[\"female\"],[\"male\"],[\"male\"],[\"female\"],[\"female\"],[\"female\"],[\"male\"],[\"female\"],[\"female\"],[\"male\"],[\"male\"],[\"female\"],[\"male\"],[\"female\"],[\"female\"],[\"male\"],[\"female\"],[\"male\"],[\"male\"],[\"female\"],[\"female\"],[\"female\"],[\"female\"],[\"female\"],[\"female\"],[\"female\"],[\"female\"],[\"male\"],[\"male\"],[\"male\"],[\"female\"],[\"female\"],[\"female\"],[\"male\"],[\"female\"],[\"male\"],[\"female\"],[\"male\"],[\"male\"],[\"male\"],[\"female\"],[\"male\"],[\"female\"],[\"female\"],[\"male\"],[\"female\"],[\"female\"],[\"female\"],[\"female\"],[\"female\"],[\"female\"],[\"female\"],[\"male\"],[\"female\"],[\"female\"],[\"male\"],[\"female\"],[\"male\"],[\"female\"],[\"female\"],[\"female\"],[\"male\"],[\"male\"],[\"male\"],[\"female\"],[\"male\"],[\"female\"],[\"male\"],[\"male\"],[\"male\"],[\"female\"],[\"female\"],[\"male\"],[\"male\"],[\"female\"],[\"female\"],[\"female\"],[\"female\"],[\"male\"],[\"female\"],[\"female\"],[\"female\"],[\"male\"],[\"female\"],[\"female\"],[\"male\"],[\"male\"],[\"female\"],[\"female\"],[\"male\"],[\"male\"],[\"male\"],[\"female\"],[\"female\"],[\"female\"],[\"male\"],[\"male\"],[\"male\"],[\"female\"],[\"female\"],[\"male\"],[\"female\"],[\"male\"],[\"female\"],[\"male\"],[\"male\"],[\"female\"],[\"female\"],[\"female\"],[\"male\"],[\"male\"],[\"male\"],[\"male\"],[\"female\"],[\"female\"],[\"male\"],[\"male\"],[\"female\"],[\"female\"],[\"male\"],[\"female\"],[\"male\"],[\"female\"],[\"male\"],[\"female\"],[\"female\"],[\"female\"],[\"female\"],[\"male\"],[\"female\"],[\"male\"],[\"female\"],[\"male\"],[\"male\"],[\"female\"],[\"female\"],[\"female\"],[\"female\"],[\"female\"],[\"female\"],[\"female\"],[\"male\"],[\"female\"],[\"male\"],[\"female\"],[\"male\"],[\"male\"],[\"male\"],[\"male\"],[\"female\"],[\"female\"],[\"female\"],[\"female\"],[\"male\"],[\"female\"],[\"female\"],[\"female\"],[\"female\"],[\"male\"],[\"male\"],[\"male\"],[\"female\"],[\"female\"],[\"male\"],[\"female\"],[\"female\"],[\"female\"],[\"male\"],[\"male\"],[\"female\"],[\"male\"],[\"male\"],[\"female\"],[\"female\"],[\"male\"],[\"male\"],[\"female\"],[\"male\"],[\"male\"],[\"male\"],[\"male\"],[\"female\"],[\"female\"],[\"male\"],[\"female\"],[\"female\"],[\"female\"],[\"male\"],[\"male\"],[\"male\"],[\"male\"],[\"male\"],[\"male\"],[\"female\"],[\"male\"],[\"female\"],[\"male\"],[\"female\"],[\"male\"],[\"female\"],[\"female\"],[\"male\"],[\"female\"],[\"female\"],[\"male\"],[\"female\"],[\"male\"],[\"female\"],[\"male\"],[\"male\"],[\"female\"],[\"male\"],[\"female\"],[\"female\"],[\"female\"],[\"male\"],[\"female\"],[\"female\"],[\"male\"],[\"female\"],[\"male\"],[\"female\"],[\"male\"],[\"male\"],[\"male\"],[\"male\"],[\"female\"],[\"male\"],[\"male\"],[\"female\"],[\"male\"],[\"male\"],[\"male\"],[\"female\"],[\"male\"],[\"female\"],[\"female\"],[\"female\"],[\"male\"],[\"male\"],[\"male\"],[\"female\"],[\"female\"],[\"male\"],[\"female\"],[\"male\"],[\"female\"],[\"female\"],[\"male\"],[\"male\"],[\"female\"],[\"male\"],[\"female\"],[\"female\"],[\"female\"],[\"male\"],[\"female\"],[\"male\"],[\"male\"],[\"male\"],[\"male\"],[\"female\"],[\"female\"],[\"male\"],[\"female\"],[\"female\"],[\"female\"],[\"female\"],[\"female\"],[\"male\"],[\"male\"],[\"female\"],[\"female\"],[\"female\"],[\"male\"],[\"female\"],[\"male\"],[\"male\"],[\"female\"],[\"male\"],[\"male\"],[\"female\"],[\"male\"],[\"female\"],[\"female\"],[\"male\"],[\"female\"],[\"male\"],[\"male\"],[\"female\"],[\"male\"],[\"female\"],[\"male\"],[\"male\"],[\"female\"],[\"female\"],[\"male\"],[\"female\"],[\"male\"],[\"male\"],[\"female\"],[\"female\"],[\"female\"],[\"male\"],[\"male\"],[\"male\"],[\"male\"],[\"female\"],[\"female\"],[\"male\"],[\"male\"],[\"male\"],[\"male\"],[\"male\"],[\"female\"],[\"female\"],[\"female\"],[\"female\"],[\"male\"],[\"female\"],[\"male\"],[\"female\"],[\"male\"],[\"male\"],[\"male\"],[\"male\"],[\"female\"],[\"male\"],[\"female\"],[\"male\"],[\"female\"],[\"female\"],[\"male\"],[\"female\"],[\"female\"],[\"male\"],[\"male\"],[\"male\"],[\"male\"],[\"male\"],[\"male\"],[\"male\"],[\"female\"],[\"female\"],[\"male\"],[\"female\"],[\"female\"],[\"female\"],[\"male\"],[\"male\"],[\"female\"],[\"female\"],[\"female\"],[\"female\"],[\"male\"],[\"female\"],[\"female\"],[\"female\"],[\"male\"],[\"male\"],[\"male\"],[\"male\"],[\"male\"],[\"female\"],[\"female\"],[\"male\"],[\"female\"],[\"female\"],[\"male\"],[\"male\"],[\"female\"],[\"female\"],[\"female\"],[\"male\"],[\"male\"],[\"female\"],[\"male\"],[\"female\"],[\"female\"],[\"male\"],[\"female\"],[\"male\"],[\"male\"],[\"male\"],[\"female\"],[\"female\"],[\"male\"],[\"male\"],[\"male\"],[\"male\"],[\"male\"],[\"male\"],[\"male\"],[\"female\"],[\"male\"],[\"female\"],[\"female\"],[\"female\"],[\"female\"],[\"female\"],[\"female\"],[\"female\"],[\"male\"],[\"male\"],[\"female\"],[\"male\"],[\"male\"],[\"male\"],[\"male\"],[\"female\"],[\"female\"],[\"female\"],[\"male\"],[\"female\"],[\"female\"],[\"female\"],[\"male\"],[\"male\"],[\"female\"],[\"female\"],[\"male\"],[\"female\"],[\"male\"],[\"female\"],[\"female\"],[\"male\"],[\"male\"],[\"male\"],[\"male\"],[\"female\"],[\"female\"],[\"male\"],[\"male\"],[\"female\"],[\"female\"],[\"female\"],[\"male\"],[\"female\"],[\"female\"],[\"female\"],[\"female\"],[\"female\"],[\"female\"],[\"female\"],[\"male\"],[\"male\"],[\"female\"],[\"male\"],[\"male\"],[\"male\"],[\"female\"],[\"male\"],[\"female\"],[\"male\"],[\"female\"],[\"female\"],[\"female\"],[\"male\"],[\"male\"],[\"male\"],[\"female\"],[\"female\"],[\"female\"],[\"male\"],[\"female\"],[\"female\"],[\"male\"],[\"female\"],[\"female\"],[\"female\"],[\"female\"],[\"male\"],[\"female\"],[\"female\"],[\"female\"],[\"female\"],[\"female\"],[\"female\"],[\"female\"],[\"male\"],[\"female\"],[\"male\"],[\"female\"],[\"male\"],[\"male\"],[\"male\"],[\"male\"],[\"male\"],[\"female\"],[\"male\"],[\"male\"],[\"male\"],[\"female\"],[\"female\"],[\"male\"],[\"male\"],[\"male\"],[\"female\"],[\"male\"],[\"male\"],[\"male\"],[\"female\"],[\"male\"],[\"female\"],[\"female\"],[\"female\"],[\"female\"],[\"female\"],[\"female\"],[\"female\"],[\"male\"],[\"female\"],[\"female\"],[\"male\"],[\"female\"],[\"female\"],[\"male\"],[\"male\"],[\"female\"],[\"male\"],[\"female\"],[\"male\"],[\"female\"],[\"male\"],[\"female\"],[\"male\"],[\"female\"],[\"female\"],[\"male\"],[\"male\"],[\"female\"],[\"male\"],[\"male\"],[\"male\"],[\"female\"],[\"male\"],[\"male\"],[\"male\"],[\"male\"],[\"female\"],[\"female\"],[\"female\"],[\"male\"],[\"female\"],[\"female\"],[\"female\"],[\"male\"],[\"female\"],[\"female\"],[\"female\"],[\"male\"],[\"female\"],[\"female\"],[\"male\"],[\"female\"],[\"female\"],[\"male\"],[\"female\"],[\"male\"],[\"female\"],[\"male\"],[\"female\"],[\"female\"],[\"female\"],[\"male\"],[\"male\"],[\"male\"],[\"female\"],[\"male\"],[\"female\"],[\"female\"],[\"male\"],[\"female\"],[\"female\"],[\"female\"],[\"female\"],[\"male\"],[\"male\"],[\"female\"],[\"male\"],[\"female\"],[\"male\"],[\"male\"],[\"female\"],[\"male\"],[\"male\"],[\"male\"],[\"female\"],[\"male\"],[\"male\"],[\"female\"],[\"male\"],[\"female\"],[\"male\"],[\"male\"],[\"female\"],[\"female\"],[\"male\"],[\"female\"],[\"female\"],[\"female\"],[\"male\"],[\"female\"],[\"female\"],[\"male\"],[\"male\"],[\"male\"],[\"male\"],[\"male\"],[\"male\"],[\"male\"],[\"male\"],[\"female\"],[\"female\"],[\"male\"],[\"male\"],[\"male\"],[\"female\"],[\"female\"],[\"male\"],[\"female\"],[\"female\"],[\"male\"],[\"female\"],[\"female\"],[\"female\"],[\"female\"],[\"male\"],[\"male\"],[\"female\"],[\"female\"],[\"female\"],[\"male\"],[\"male\"],[\"female\"],[\"female\"],[\"male\"],[\"male\"],[\"male\"],[\"female\"],[\"female\"],[\"male\"],[\"male\"],[\"male\"],[\"female\"],[\"female\"],[\"male\"],[\"female\"],[\"male\"],[\"male\"],[\"female\"],[\"female\"],[\"male\"],[\"male\"],[\"male\"],[\"male\"],[\"female\"],[\"female\"],[\"female\"],[\"male\"],[\"male\"],[\"male\"],[\"female\"],[\"male\"],[\"female\"],[\"male\"],[\"male\"],[\"female\"],[\"female\"],[\"female\"],[\"male\"],[\"female\"],[\"female\"],[\"female\"],[\"male\"],[\"male\"],[\"male\"],[\"male\"],[\"male\"],[\"female\"],[\"male\"],[\"female\"],[\"male\"],[\"male\"],[\"male\"],[\"female\"],[\"female\"],[\"male\"],[\"male\"],[\"female\"],[\"male\"],[\"male\"],[\"female\"],[\"male\"],[\"female\"],[\"male\"],[\"male\"],[\"female\"],[\"male\"],[\"male\"],[\"female\"],[\"male\"],[\"female\"],[\"female\"],[\"male\"],[\"male\"],[\"male\"],[\"female\"],[\"female\"],[\"male\"],[\"female\"],[\"male\"],[\"male\"],[\"female\"],[\"female\"],[\"male\"],[\"female\"],[\"female\"],[\"female\"],[\"female\"],[\"female\"],[\"male\"],[\"male\"],[\"male\"],[\"male\"],[\"female\"],[\"female\"],[\"female\"],[\"male\"],[\"male\"],[\"female\"],[\"male\"],[\"female\"],[\"male\"],[\"female\"],[\"male\"],[\"female\"],[\"male\"],[\"male\"],[\"male\"],[\"female\"],[\"female\"],[\"male\"],[\"male\"],[\"female\"],[\"male\"],[\"male\"],[\"male\"],[\"female\"],[\"male\"],[\"male\"],[\"male\"],[\"female\"],[\"female\"],[\"female\"],[\"male\"],[\"male\"],[\"male\"],[\"male\"],[\"male\"],[\"female\"],[\"female\"],[\"female\"],[\"female\"],[\"female\"],[\"male\"],[\"male\"],[\"male\"],[\"female\"],[\"female\"],[\"male\"],[\"male\"],[\"female\"],[\"male\"],[\"female\"],[\"male\"],[\"female\"],[\"male\"],[\"female\"],[\"female\"],[\"female\"],[\"male\"],[\"female\"],[\"female\"],[\"female\"],[\"female\"],[\"female\"],[\"male\"],[\"male\"],[\"male\"],[\"male\"],[\"male\"],[\"male\"],[\"male\"],[\"female\"],[\"female\"],[\"male\"],[\"female\"],[\"male\"],[\"female\"],[\"female\"],[\"female\"],[\"female\"],[\"male\"],[\"male\"],[\"female\"],[\"female\"],[\"male\"],[\"male\"],[\"female\"],[\"female\"],[\"male\"],[\"female\"],[\"male\"],[\"male\"],[\"male\"],[\"female\"],[\"male\"],[\"female\"],[\"female\"],[\"female\"],[\"male\"],[\"male\"],[\"female\"],[\"male\"],[\"female\"],[\"female\"],[\"female\"],[\"male\"],[\"male\"],[\"male\"],[\"male\"],[\"female\"],[\"female\"],[\"male\"],[\"male\"],[\"male\"],[\"female\"],[\"male\"],[\"male\"],[\"female\"],[\"female\"],[\"female\"],[\"female\"],[\"male\"],[\"male\"],[\"male\"],[\"male\"],[\"male\"],[\"male\"],[\"female\"],[\"male\"],[\"male\"],[\"male\"],[\"male\"],[\"female\"],[\"male\"],[\"female\"],[\"female\"],[\"male\"],[\"female\"],[\"female\"],[\"male\"],[\"male\"],[\"male\"],[\"male\"],[\"female\"],[\"female\"],[\"female\"],[\"male\"],[\"male\"],[\"female\"],[\"female\"],[\"male\"],[\"male\"],[\"male\"],[\"female\"],[\"male\"],[\"female\"],[\"female\"],[\"male\"],[\"female\"],[\"male\"],[\"female\"],[\"female\"],[\"male\"],[\"male\"],[\"female\"],[\"male\"],[\"female\"],[\"female\"],[\"female\"],[\"male\"],[\"male\"],[\"female\"],[\"female\"],[\"male\"],[\"male\"],[\"male\"],[\"female\"],[\"male\"],[\"male\"],[\"female\"],[\"female\"],[\"female\"],[\"female\"],[\"female\"],[\"female\"],[\"female\"],[\"female\"],[\"female\"],[\"male\"],[\"male\"],[\"female\"],[\"female\"],[\"female\"],[\"male\"],[\"female\"],[\"male\"],[\"female\"],[\"female\"],[\"male\"],[\"male\"],[\"female\"],[\"female\"],[\"female\"],[\"female\"],[\"female\"],[\"female\"],[\"female\"],[\"male\"],[\"female\"],[\"female\"],[\"female\"],[\"female\"],[\"female\"],[\"female\"],[\"female\"],[\"female\"],[\"male\"],[\"male\"],[\"female\"],[\"male\"],[\"male\"],[\"male\"],[\"male\"],[\"male\"],[\"female\"],[\"male\"],[\"male\"],[\"male\"],[\"male\"],[\"female\"],[\"female\"],[\"male\"],[\"male\"],[\"male\"],[\"female\"],[\"female\"],[\"male\"],[\"male\"],[\"male\"],[\"female\"],[\"male\"],[\"male\"],[\"male\"],[\"male\"],[\"female\"],[\"male\"],[\"female\"],[\"male\"],[\"female\"],[\"female\"],[\"male\"],[\"female\"],[\"female\"],[\"female\"],[\"male\"],[\"male\"],[\"female\"],[\"male\"],[\"female\"],[\"male\"],[\"female\"],[\"female\"],[\"female\"],[\"female\"],[\"female\"],[\"male\"],[\"female\"],[\"female\"],[\"male\"],[\"female\"],[\"female\"],[\"female\"],[\"female\"],[\"female\"],[\"male\"],[\"male\"],[\"female\"],[\"male\"],[\"male\"],[\"male\"],[\"female\"],[\"female\"],[\"female\"],[\"female\"],[\"male\"],[\"female\"],[\"female\"],[\"female\"],[\"male\"],[\"female\"],[\"male\"],[\"male\"],[\"male\"],[\"male\"],[\"male\"],[\"female\"],[\"male\"],[\"female\"],[\"female\"],[\"female\"],[\"male\"],[\"male\"],[\"female\"],[\"male\"],[\"male\"],[\"female\"],[\"male\"],[\"male\"],[\"female\"],[\"male\"],[\"male\"],[\"male\"],[\"male\"],[\"female\"],[\"male\"],[\"female\"],[\"male\"],[\"female\"],[\"female\"],[\"female\"],[\"male\"],[\"female\"],[\"female\"],[\"female\"]],\"hovertemplate\":\"smoker=no\\u003cbr\\u003eage=%{x}\\u003cbr\\u003eexpenses=%{y}\\u003cbr\\u003esex=%{customdata[0]}\\u003cextra\\u003e\\u003c\\u002fextra\\u003e\",\"legendgroup\":\"no\",\"marker\":{\"color\":\"#EF553B\",\"opacity\":0.8,\"symbol\":\"circle\",\"size\":5},\"mode\":\"markers\",\"name\":\"no\",\"showlegend\":true,\"x\":[18,28,33,32,31,46,37,37,60,25,23,56,19,52,23,56,60,30,18,37,59,63,55,23,18,19,63,19,62,26,24,31,41,37,38,55,18,28,60,18,21,40,58,34,43,25,64,28,19,61,40,40,31,53,58,44,57,29,21,22,41,31,45,48,56,46,55,21,53,35,28,54,55,41,30,18,34,19,26,29,54,55,37,21,52,60,58,49,37,44,18,20,47,26,52,38,59,61,53,19,20,22,19,22,54,22,34,26,29,29,51,53,19,35,48,32,40,44,50,54,32,37,47,20,32,19,27,63,49,18,35,24,38,54,46,41,58,18,22,44,44,26,30,41,29,61,36,25,56,18,19,39,45,51,64,19,48,60,46,28,59,63,40,20,40,24,34,45,41,53,27,26,24,34,53,32,55,28,58,41,47,42,59,19,59,39,18,31,44,33,55,40,54,60,24,19,29,27,55,38,51,58,53,59,45,49,18,41,50,25,47,19,22,59,51,30,55,52,46,46,63,52,28,29,22,25,18,48,36,56,28,57,29,28,30,58,41,50,19,49,52,50,54,44,32,34,26,57,29,40,27,52,61,56,43,64,60,62,46,24,62,60,63,49,34,33,46,36,19,57,50,30,33,18,46,46,47,23,18,48,35,21,21,49,56,42,44,18,61,57,42,20,64,62,55,35,44,19,58,50,26,24,48,19,48,49,46,46,43,21,64,18,51,47,64,49,31,52,33,47,38,32,19,25,19,43,52,64,25,48,45,38,18,21,27,19,29,42,60,31,60,22,35,52,26,31,18,59,45,60,56,40,35,39,30,24,20,32,59,55,57,56,40,49,62,56,19,60,56,28,18,27,18,19,47,25,21,23,63,49,18,51,48,31,54,19,53,19,61,18,61,20,31,45,44,62,43,38,37,22,21,24,57,56,27,51,19,58,20,45,35,31,50,32,51,38,18,19,51,46,18,62,59,37,64,38,33,46,46,53,34,20,63,54,28,54,25,63,32,62,52,25,28,46,34,19,46,54,27,50,18,19,38,41,49,31,18,30,62,57,58,22,52,25,59,19,39,32,19,33,21,61,38,58,47,20,41,46,42,34,43,52,18,51,56,64,51,27,28,47,38,18,34,20,56,55,30,49,59,29,36,33,58,53,24,29,40,51,64,19,35,56,33,61,23,43,48,39,40,18,58,49,53,48,45,59,26,27,48,57,37,57,32,18,49,40,30,29,36,41,45,55,56,49,21,19,53,33,53,42,40,47,21,47,20,24,27,26,53,56,23,21,50,53,34,47,33,49,31,36,18,50,43,20,24,60,49,60,51,58,51,53,62,19,50,41,18,41,53,24,48,59,49,26,45,31,50,50,34,19,47,28,21,64,58,24,31,39,30,22,23,27,45,57,47,42,64,38,61,53,44,41,51,40,45,35,53,18,51,31,35,60,21,29,62,39,19,22,39,30,30,58,42,64,21,23,45,40,19,18,25,46,33,54,28,36,20,24,23,45,26,18,44,60,64,39,63,36,28,58,36,42,36,56,35,59,21,59,53,51,23,27,55,61,53,20,25,57,38,55,36,51,40,18,57,61,25,50,26,42,43,44,23,49,33,41,37,22,23,21,25,36,22,57,36,54,62,61,19,18,19,49,26,49,60,26,27,44,63,22,59,44,33,24,61,35,62,62,38,34,43,50,19,57,62,41,26,39,46,45,32,59,44,39,18,53,18,50,18,19,62,56,42,42,57,30,31,24,48,19,29,63,46,52,35,44,21,39,50,34,22,19,26,48,26,45,36,54,34,27,20,44,43,45,34,26,38,50,38,39,39,63,33,36,24,48,47,29,28,25,51,48,61,48,38,59,19,26,54,21,51,18,47,21,23,54,37,30,61,54,22,19,18,28,55,43,25,44,64,49,27,55,48,45,24,32,24,57,36,29,42,48,39,63,54,63,21,54,60,32,47,21,63,18,32,38,32,62,55,57,52,56,55,23,50,18,22,52,25,53,29,58,37,54,49,50,26,45,54,28,23,55,41,30,46,27,63,55,35,34,19,39,27,57,52,28,50,44,26,33,50,41,52,39,50,52,20,55,42,18,58,35,48,36,23,20,32,43,34,30,18,41,35,57,29,32,37,56,38,29,22,40,23,42,24,25,48,45,62,23,31,41,58,48,31,19,41,40,31,37,46,22,51,35,59,59,36,39,18,52,27,18,40,29,38,30,40,50,41,33,38,42,56,58,54,58,45,26,63,58,37,25,22,28,18,28,45,33,18,19,40,34,42,51,54,55,52,32,28,41,43,49,55,20,45,26,25,43,35,57,22,32,25,48,18,47,28,36,44,38,21,46,58,20,18,28,33,19,25,24,41,42,33,34,18,19,18,35,39,31,62,31,61,42,51,23,52,57,23,52,50,18,18,21],\"xaxis\":\"x\",\"y\":[1725.55,4449.46,21984.47,3866.86,3756.62,8240.59,7281.51,6406.41,28923.14,2721.32,1826.84,11090.72,1837.24,10797.34,2395.17,10602.39,13228.85,4149.74,1137.01,6203.9,14001.13,14451.84,12268.63,2775.19,2198.19,4687.8,13770.1,1625.43,15612.19,2302.3,3046.06,4949.76,6272.48,6313.76,6079.67,20630.28,3393.36,3556.92,12629.9,2211.13,3579.83,8059.68,13607.37,5989.52,8606.22,4504.66,30166.62,4133.64,1743.21,14235.07,6389.38,5920.1,6799.46,11741.73,11946.63,7726.85,11356.66,3947.41,1532.47,2755.02,6571.02,4441.21,7935.29,11033.66,11073.18,8026.67,11082.58,2026.97,10942.13,5729.01,3766.88,12105.32,10226.28,6186.13,3645.09,21344.85,5003.85,2331.52,3877.3,2867.12,10825.25,11881.36,4646.76,2404.73,11488.32,30260.0,11381.33,8601.33,6686.43,7740.34,1705.62,2257.48,10115.01,3385.4,9634.54,6082.41,12815.44,13616.36,11163.57,1632.56,2457.21,2155.68,1261.44,2045.69,27322.73,2166.73,27375.9,3490.55,18157.88,5138.26,9877.61,10959.69,1842.52,5125.22,7789.64,6334.34,7077.19,6948.7,19749.38,10450.55,5152.13,5028.15,10407.09,4830.63,6128.8,2719.28,4827.9,13405.39,8116.68,1694.8,5246.05,2855.44,6455.86,10436.1,8823.28,8538.29,11735.88,1631.82,4005.42,7419.48,7731.43,3981.98,5325.65,6775.96,4922.92,12557.61,4883.87,2137.65,12044.34,1137.47,1639.56,5649.72,8516.83,9644.25,14901.52,2130.68,8871.15,13012.21,7147.11,4337.74,11743.3,13880.95,6610.11,1980.07,8162.72,3537.7,5002.78,8520.03,7371.77,10355.64,2483.74,3392.98,25081.77,5012.47,10564.88,5253.52,11987.17,2689.5,24227.34,7358.18,9225.26,7443.64,14001.29,1727.79,12333.83,6710.19,1615.77,4463.21,7152.67,5354.07,35160.13,7196.87,24476.48,12648.7,1986.93,1832.09,4040.56,4260.74,13047.33,5400.98,11520.1,11837.16,20463.0,14590.63,7441.05,9282.48,1719.44,7265.7,9617.66,2523.17,9715.84,2803.7,2150.47,12928.79,9855.13,4237.13,11879.1,9625.92,7742.11,9432.93,14256.19,25992.82,3172.02,20277.81,2156.75,3906.13,1704.57,9249.5,6746.74,12265.51,4349.46,12646.21,19442.35,20177.67,4151.03,11944.59,7749.16,8444.47,1737.38,8124.41,9722.77,8835.26,10435.07,7421.19,4667.61,4894.75,24671.66,11566.3,2866.09,6600.21,3561.89,9144.57,13429.04,11658.38,19144.58,13822.8,12142.58,13937.67,8232.64,18955.22,13352.1,13217.09,13981.85,10977.21,6184.3,4890.0,8334.46,5478.04,1635.73,11830.61,8932.08,3554.2,12404.88,14133.04,24603.05,8944.12,9620.33,1837.28,1607.51,10043.25,4751.07,2597.78,3180.51,9778.35,13430.27,8017.06,8116.27,3481.87,13415.04,12029.29,7639.42,1391.53,16455.71,27000.98,20781.49,5846.92,8302.54,1261.86,11856.41,30284.64,3176.82,4618.08,10736.87,2138.07,8964.06,9290.14,9411.01,7526.71,8522.0,16586.5,14988.43,1631.67,9264.8,8083.92,14692.67,10269.46,3260.2,11396.9,4185.1,8539.67,6652.53,4074.45,1621.34,5080.1,2134.9,7345.73,9140.95,14418.28,2727.4,8968.33,9788.87,6555.07,7323.73,3167.46,18804.75,23082.96,4906.41,5969.72,12638.2,4243.59,13919.82,2254.8,5926.85,12592.53,2897.32,4738.27,1149.4,28287.9,7345.08,12731.0,11454.02,5910.94,4762.33,7512.27,4032.24,1969.61,1769.53,4686.39,21797.0,11881.97,11840.78,10601.41,7682.67,10381.48,15230.32,11165.42,1632.04,13224.69,12643.38,23288.93,2201.1,2497.04,2203.47,1744.47,20878.78,2534.39,1534.3,1824.29,15555.19,9304.7,1622.19,9880.07,9563.03,4347.02,12475.35,1253.94,10461.98,1748.77,24513.09,2196.47,12574.05,1967.02,4931.65,8027.97,8211.1,13470.86,6837.37,5974.38,6796.86,2643.27,3077.1,3044.21,11455.28,11763.0,2498.41,9361.33,1256.3,11362.76,27724.29,8413.46,5240.77,3857.76,25656.58,3994.18,9866.3,5397.62,11482.63,24059.68,9861.03,8342.91,1708.0,14043.48,12925.89,19214.71,13831.12,6067.13,5972.38,8825.09,8233.1,27346.04,6196.45,3056.39,13887.2,10231.5,3268.85,11538.42,3213.62,13390.56,3972.92,12957.12,11187.66,17878.9,3847.67,8334.59,3935.18,1646.43,9193.84,10923.93,2494.02,9058.73,2801.26,2128.43,6373.56,7256.72,11552.9,3761.29,2219.45,4753.64,31620.0,13224.06,12222.9,1665.0,9724.53,3206.49,12913.99,1639.56,6356.27,17626.24,1242.82,4779.6,3861.21,13635.64,5976.83,11842.44,8428.07,2566.47,5709.16,8823.99,7640.31,5594.85,7441.5,33471.97,1633.04,9174.14,11070.54,16085.13,9283.56,3558.62,4435.09,8547.69,6571.54,2207.7,6753.04,1880.07,11658.12,10713.64,3659.35,9182.17,12129.61,3736.46,6748.59,11326.71,11365.95,10085.85,1977.82,3366.67,7173.36,9391.35,14410.93,2709.11,24915.05,12949.16,6666.24,13143.86,4466.62,18806.15,10141.14,6123.57,8252.28,1712.23,12430.95,9800.89,10579.71,8280.62,8527.53,12244.53,3410.32,4058.71,26392.26,14394.4,6435.62,22192.44,5148.55,1136.4,8703.46,6500.24,4837.58,3943.6,4399.73,6185.32,7222.79,12485.8,12363.55,10156.78,2585.27,1242.26,9863.47,4766.02,11244.38,7729.65,5438.75,26236.58,2104.11,8068.19,2362.23,2352.97,3578.0,3201.25,29186.48,10976.25,3500.61,2020.55,9541.7,9504.31,5385.34,8930.93,5375.04,10264.44,6113.23,5469.01,1727.54,10107.22,8310.84,1984.45,2457.5,12146.97,9566.99,13112.6,10848.13,12231.61,9875.68,11264.54,12979.36,1263.25,10106.13,6664.69,2217.6,6781.35,10065.41,4234.93,9447.25,14007.22,9583.89,3484.33,8604.48,3757.84,8827.21,9910.36,11737.85,1627.28,8556.91,3062.51,1906.36,14210.54,11833.78,17128.43,5031.27,7985.82,5428.73,3925.76,2416.96,3070.81,9095.07,11842.62,8062.76,7050.64,14319.03,6933.24,27941.29,11150.78,12797.21,7261.74,10560.49,6986.7,7448.4,5934.38,9869.81,1146.8,9386.16,4350.51,6414.18,12741.17,1917.32,5209.58,13457.96,5662.23,1252.41,2731.91,7209.49,4266.17,4719.52,11848.14,7046.72,14313.85,2103.08,1815.88,7731.86,28476.73,2136.88,1131.51,3309.79,9414.92,6360.99,11013.71,4428.89,5584.31,1877.93,2842.76,3597.6,7445.92,2680.95,1621.88,8219.2,12523.6,16069.08,6117.49,13393.76,5266.37,4719.74,11743.93,5377.46,7160.33,4402.23,11657.72,6402.29,12622.18,1526.31,12323.94,10072.06,9872.7,2438.06,2974.13,10601.63,14119.62,11729.68,1875.34,18218.16,10965.45,7151.09,12269.69,5458.05,8782.47,6600.36,1141.45,11576.13,13129.6,4391.65,8457.82,3392.37,5966.89,6849.03,8891.14,2690.11,26140.36,6653.79,6282.24,6311.95,3443.06,2789.06,2585.85,4877.98,5272.18,1682.6,11945.13,7243.81,10422.92,13555.0,13063.88,2221.56,1634.57,2117.34,8688.86,4661.29,8125.78,12644.59,4564.19,4846.92,7633.72,15170.07,2639.04,14382.71,7626.99,5257.51,2473.33,13041.92,5245.23,13451.12,13462.52,5488.26,4320.41,6250.44,25333.33,2913.57,12032.33,13470.8,6289.75,2927.06,6238.3,10096.97,7348.14,4673.39,12233.83,32108.66,8965.8,2304.0,9487.64,1121.87,9549.57,2217.47,1628.47,12982.87,11674.13,7160.09,6358.78,11534.87,4527.18,3875.73,12609.89,28468.92,2730.11,3353.28,14474.68,9500.57,26467.1,4746.34,7518.03,3279.87,8596.83,10702.64,4992.38,2527.82,1759.34,2322.62,7804.16,2902.91,9704.67,4889.04,25517.11,4500.34,16796.41,4915.06,7624.63,8410.05,28340.19,4518.83,3378.91,7144.86,10118.42,5484.47,7986.48,7418.52,13887.97,6551.75,5267.82,1972.95,21232.18,8627.54,4433.39,4438.26,23241.47,9957.72,8269.04,36580.28,8765.25,5383.54,12124.99,2709.24,3987.93,12495.29,26018.95,8798.59,1711.03,8569.86,2020.18,21595.38,9850.43,6877.98,4137.52,12950.07,12094.48,2250.84,22493.66,1704.7,3161.45,11394.07,7325.05,3594.17,8023.14,14394.56,9288.03,3353.47,10594.5,8277.52,17929.3,2480.98,4462.72,1981.58,11554.22,6548.2,5708.87,7045.5,8978.19,5757.41,14349.85,10928.85,13974.46,1909.53,12096.65,13204.29,4562.84,8551.35,2102.26,15161.53,11884.05,4454.4,5855.9,4076.5,15019.76,10796.35,11353.23,9748.91,10577.09,11286.54,3591.48,11299.34,4561.19,1674.63,23045.57,3227.12,11253.42,3471.41,11363.28,20420.6,10338.93,8988.16,10493.95,2904.09,8605.36,11512.41,5312.17,2396.1,10807.49,9222.4,5693.43,8347.16,18903.49,14254.61,10214.64,5836.52,14358.36,1728.9,8582.3,3693.43,20709.02,9991.04,19673.34,11085.59,7623.52,3176.29,3704.35,9048.03,7954.52,27117.99,6338.08,9630.4,11289.11,2261.57,10791.96,5979.73,2203.74,12235.84,5630.46,11015.17,7228.22,14426.07,2459.72,3989.84,7727.25,5124.19,18963.17,2200.83,7153.55,5227.99,10982.5,4529.48,4670.64,6112.35,11093.62,6457.84,4433.92,2154.36,6496.89,2899.49,7650.77,2850.68,2632.99,9447.38,8603.82,13844.8,13126.68,5327.4,13725.47,13019.16,8671.19,4134.08,18838.7,5699.84,6393.6,4934.71,6198.75,8733.23,2055.32,9964.06,5116.5,36910.61,12347.17,5373.36,23563.02,1702.46,10806.84,3956.07,12890.06,5415.66,4058.12,7537.16,4718.2,6593.51,8442.67,6858.48,4795.66,6640.54,7162.01,10594.23,11938.26,12479.71,11345.52,8515.76,2699.57,14449.85,12224.35,6985.51,3238.44,4296.27,3171.61,1135.94,5615.37,9101.8,6059.17,1633.96,1241.57,15828.82,4415.16,6474.01,11436.74,11305.93,30063.58,10197.77,4544.23,3277.16,6770.19,7337.75,10370.91,10704.47,1880.49,8615.3,3292.53,3021.81,14478.33,4747.05,10959.33,2741.95,4357.04,4189.11,8283.68,1720.35,8534.67,3732.63,5472.45,7147.47,7133.9,1515.34,9301.89,11931.13,1964.78,1708.93,4340.44,5261.47,2710.83,3208.79,2464.62,6875.96,6940.91,4571.41,4536.26,11272.33,1731.68,1163.46,19496.72,7201.7,5425.02,12981.35,4239.89,13143.34,7050.02,9377.9,22395.74,10325.21,12629.17,10795.94,11411.69,10600.55,2205.98,1629.83,2007.95],\"yaxis\":\"y\",\"type\":\"scattergl\"}],                        {\"template\":{\"data\":{\"histogram2dcontour\":[{\"type\":\"histogram2dcontour\",\"colorbar\":{\"outlinewidth\":0,\"ticks\":\"\"},\"colorscale\":[[0.0,\"#0d0887\"],[0.1111111111111111,\"#46039f\"],[0.2222222222222222,\"#7201a8\"],[0.3333333333333333,\"#9c179e\"],[0.4444444444444444,\"#bd3786\"],[0.5555555555555556,\"#d8576b\"],[0.6666666666666666,\"#ed7953\"],[0.7777777777777778,\"#fb9f3a\"],[0.8888888888888888,\"#fdca26\"],[1.0,\"#f0f921\"]]}],\"choropleth\":[{\"type\":\"choropleth\",\"colorbar\":{\"outlinewidth\":0,\"ticks\":\"\"}}],\"histogram2d\":[{\"type\":\"histogram2d\",\"colorbar\":{\"outlinewidth\":0,\"ticks\":\"\"},\"colorscale\":[[0.0,\"#0d0887\"],[0.1111111111111111,\"#46039f\"],[0.2222222222222222,\"#7201a8\"],[0.3333333333333333,\"#9c179e\"],[0.4444444444444444,\"#bd3786\"],[0.5555555555555556,\"#d8576b\"],[0.6666666666666666,\"#ed7953\"],[0.7777777777777778,\"#fb9f3a\"],[0.8888888888888888,\"#fdca26\"],[1.0,\"#f0f921\"]]}],\"heatmap\":[{\"type\":\"heatmap\",\"colorbar\":{\"outlinewidth\":0,\"ticks\":\"\"},\"colorscale\":[[0.0,\"#0d0887\"],[0.1111111111111111,\"#46039f\"],[0.2222222222222222,\"#7201a8\"],[0.3333333333333333,\"#9c179e\"],[0.4444444444444444,\"#bd3786\"],[0.5555555555555556,\"#d8576b\"],[0.6666666666666666,\"#ed7953\"],[0.7777777777777778,\"#fb9f3a\"],[0.8888888888888888,\"#fdca26\"],[1.0,\"#f0f921\"]]}],\"heatmapgl\":[{\"type\":\"heatmapgl\",\"colorbar\":{\"outlinewidth\":0,\"ticks\":\"\"},\"colorscale\":[[0.0,\"#0d0887\"],[0.1111111111111111,\"#46039f\"],[0.2222222222222222,\"#7201a8\"],[0.3333333333333333,\"#9c179e\"],[0.4444444444444444,\"#bd3786\"],[0.5555555555555556,\"#d8576b\"],[0.6666666666666666,\"#ed7953\"],[0.7777777777777778,\"#fb9f3a\"],[0.8888888888888888,\"#fdca26\"],[1.0,\"#f0f921\"]]}],\"contourcarpet\":[{\"type\":\"contourcarpet\",\"colorbar\":{\"outlinewidth\":0,\"ticks\":\"\"}}],\"contour\":[{\"type\":\"contour\",\"colorbar\":{\"outlinewidth\":0,\"ticks\":\"\"},\"colorscale\":[[0.0,\"#0d0887\"],[0.1111111111111111,\"#46039f\"],[0.2222222222222222,\"#7201a8\"],[0.3333333333333333,\"#9c179e\"],[0.4444444444444444,\"#bd3786\"],[0.5555555555555556,\"#d8576b\"],[0.6666666666666666,\"#ed7953\"],[0.7777777777777778,\"#fb9f3a\"],[0.8888888888888888,\"#fdca26\"],[1.0,\"#f0f921\"]]}],\"surface\":[{\"type\":\"surface\",\"colorbar\":{\"outlinewidth\":0,\"ticks\":\"\"},\"colorscale\":[[0.0,\"#0d0887\"],[0.1111111111111111,\"#46039f\"],[0.2222222222222222,\"#7201a8\"],[0.3333333333333333,\"#9c179e\"],[0.4444444444444444,\"#bd3786\"],[0.5555555555555556,\"#d8576b\"],[0.6666666666666666,\"#ed7953\"],[0.7777777777777778,\"#fb9f3a\"],[0.8888888888888888,\"#fdca26\"],[1.0,\"#f0f921\"]]}],\"mesh3d\":[{\"type\":\"mesh3d\",\"colorbar\":{\"outlinewidth\":0,\"ticks\":\"\"}}],\"scatter\":[{\"fillpattern\":{\"fillmode\":\"overlay\",\"size\":10,\"solidity\":0.2},\"type\":\"scatter\"}],\"parcoords\":[{\"type\":\"parcoords\",\"line\":{\"colorbar\":{\"outlinewidth\":0,\"ticks\":\"\"}}}],\"scatterpolargl\":[{\"type\":\"scatterpolargl\",\"marker\":{\"colorbar\":{\"outlinewidth\":0,\"ticks\":\"\"}}}],\"bar\":[{\"error_x\":{\"color\":\"#2a3f5f\"},\"error_y\":{\"color\":\"#2a3f5f\"},\"marker\":{\"line\":{\"color\":\"#E5ECF6\",\"width\":0.5},\"pattern\":{\"fillmode\":\"overlay\",\"size\":10,\"solidity\":0.2}},\"type\":\"bar\"}],\"scattergeo\":[{\"type\":\"scattergeo\",\"marker\":{\"colorbar\":{\"outlinewidth\":0,\"ticks\":\"\"}}}],\"scatterpolar\":[{\"type\":\"scatterpolar\",\"marker\":{\"colorbar\":{\"outlinewidth\":0,\"ticks\":\"\"}}}],\"histogram\":[{\"marker\":{\"pattern\":{\"fillmode\":\"overlay\",\"size\":10,\"solidity\":0.2}},\"type\":\"histogram\"}],\"scattergl\":[{\"type\":\"scattergl\",\"marker\":{\"colorbar\":{\"outlinewidth\":0,\"ticks\":\"\"}}}],\"scatter3d\":[{\"type\":\"scatter3d\",\"line\":{\"colorbar\":{\"outlinewidth\":0,\"ticks\":\"\"}},\"marker\":{\"colorbar\":{\"outlinewidth\":0,\"ticks\":\"\"}}}],\"scattermapbox\":[{\"type\":\"scattermapbox\",\"marker\":{\"colorbar\":{\"outlinewidth\":0,\"ticks\":\"\"}}}],\"scatterternary\":[{\"type\":\"scatterternary\",\"marker\":{\"colorbar\":{\"outlinewidth\":0,\"ticks\":\"\"}}}],\"scattercarpet\":[{\"type\":\"scattercarpet\",\"marker\":{\"colorbar\":{\"outlinewidth\":0,\"ticks\":\"\"}}}],\"carpet\":[{\"aaxis\":{\"endlinecolor\":\"#2a3f5f\",\"gridcolor\":\"white\",\"linecolor\":\"white\",\"minorgridcolor\":\"white\",\"startlinecolor\":\"#2a3f5f\"},\"baxis\":{\"endlinecolor\":\"#2a3f5f\",\"gridcolor\":\"white\",\"linecolor\":\"white\",\"minorgridcolor\":\"white\",\"startlinecolor\":\"#2a3f5f\"},\"type\":\"carpet\"}],\"table\":[{\"cells\":{\"fill\":{\"color\":\"#EBF0F8\"},\"line\":{\"color\":\"white\"}},\"header\":{\"fill\":{\"color\":\"#C8D4E3\"},\"line\":{\"color\":\"white\"}},\"type\":\"table\"}],\"barpolar\":[{\"marker\":{\"line\":{\"color\":\"#E5ECF6\",\"width\":0.5},\"pattern\":{\"fillmode\":\"overlay\",\"size\":10,\"solidity\":0.2}},\"type\":\"barpolar\"}],\"pie\":[{\"automargin\":true,\"type\":\"pie\"}]},\"layout\":{\"autotypenumbers\":\"strict\",\"colorway\":[\"#636efa\",\"#EF553B\",\"#00cc96\",\"#ab63fa\",\"#FFA15A\",\"#19d3f3\",\"#FF6692\",\"#B6E880\",\"#FF97FF\",\"#FECB52\"],\"font\":{\"color\":\"#2a3f5f\"},\"hovermode\":\"closest\",\"hoverlabel\":{\"align\":\"left\"},\"paper_bgcolor\":\"white\",\"plot_bgcolor\":\"#E5ECF6\",\"polar\":{\"bgcolor\":\"#E5ECF6\",\"angularaxis\":{\"gridcolor\":\"white\",\"linecolor\":\"white\",\"ticks\":\"\"},\"radialaxis\":{\"gridcolor\":\"white\",\"linecolor\":\"white\",\"ticks\":\"\"}},\"ternary\":{\"bgcolor\":\"#E5ECF6\",\"aaxis\":{\"gridcolor\":\"white\",\"linecolor\":\"white\",\"ticks\":\"\"},\"baxis\":{\"gridcolor\":\"white\",\"linecolor\":\"white\",\"ticks\":\"\"},\"caxis\":{\"gridcolor\":\"white\",\"linecolor\":\"white\",\"ticks\":\"\"}},\"coloraxis\":{\"colorbar\":{\"outlinewidth\":0,\"ticks\":\"\"}},\"colorscale\":{\"sequential\":[[0.0,\"#0d0887\"],[0.1111111111111111,\"#46039f\"],[0.2222222222222222,\"#7201a8\"],[0.3333333333333333,\"#9c179e\"],[0.4444444444444444,\"#bd3786\"],[0.5555555555555556,\"#d8576b\"],[0.6666666666666666,\"#ed7953\"],[0.7777777777777778,\"#fb9f3a\"],[0.8888888888888888,\"#fdca26\"],[1.0,\"#f0f921\"]],\"sequentialminus\":[[0.0,\"#0d0887\"],[0.1111111111111111,\"#46039f\"],[0.2222222222222222,\"#7201a8\"],[0.3333333333333333,\"#9c179e\"],[0.4444444444444444,\"#bd3786\"],[0.5555555555555556,\"#d8576b\"],[0.6666666666666666,\"#ed7953\"],[0.7777777777777778,\"#fb9f3a\"],[0.8888888888888888,\"#fdca26\"],[1.0,\"#f0f921\"]],\"diverging\":[[0,\"#8e0152\"],[0.1,\"#c51b7d\"],[0.2,\"#de77ae\"],[0.3,\"#f1b6da\"],[0.4,\"#fde0ef\"],[0.5,\"#f7f7f7\"],[0.6,\"#e6f5d0\"],[0.7,\"#b8e186\"],[0.8,\"#7fbc41\"],[0.9,\"#4d9221\"],[1,\"#276419\"]]},\"xaxis\":{\"gridcolor\":\"white\",\"linecolor\":\"white\",\"ticks\":\"\",\"title\":{\"standoff\":15},\"zerolinecolor\":\"white\",\"automargin\":true,\"zerolinewidth\":2},\"yaxis\":{\"gridcolor\":\"white\",\"linecolor\":\"white\",\"ticks\":\"\",\"title\":{\"standoff\":15},\"zerolinecolor\":\"white\",\"automargin\":true,\"zerolinewidth\":2},\"scene\":{\"xaxis\":{\"backgroundcolor\":\"#E5ECF6\",\"gridcolor\":\"white\",\"linecolor\":\"white\",\"showbackground\":true,\"ticks\":\"\",\"zerolinecolor\":\"white\",\"gridwidth\":2},\"yaxis\":{\"backgroundcolor\":\"#E5ECF6\",\"gridcolor\":\"white\",\"linecolor\":\"white\",\"showbackground\":true,\"ticks\":\"\",\"zerolinecolor\":\"white\",\"gridwidth\":2},\"zaxis\":{\"backgroundcolor\":\"#E5ECF6\",\"gridcolor\":\"white\",\"linecolor\":\"white\",\"showbackground\":true,\"ticks\":\"\",\"zerolinecolor\":\"white\",\"gridwidth\":2}},\"shapedefaults\":{\"line\":{\"color\":\"#2a3f5f\"}},\"annotationdefaults\":{\"arrowcolor\":\"#2a3f5f\",\"arrowhead\":0,\"arrowwidth\":1},\"geo\":{\"bgcolor\":\"white\",\"landcolor\":\"#E5ECF6\",\"subunitcolor\":\"white\",\"showland\":true,\"showlakes\":true,\"lakecolor\":\"white\"},\"title\":{\"x\":0.05},\"mapbox\":{\"style\":\"light\"}}},\"xaxis\":{\"anchor\":\"y\",\"domain\":[0.0,1.0],\"title\":{\"text\":\"age\"}},\"yaxis\":{\"anchor\":\"x\",\"domain\":[0.0,1.0],\"title\":{\"text\":\"expenses\"}},\"legend\":{\"title\":{\"text\":\"smoker\"},\"tracegroupgap\":0},\"title\":{\"text\":\"Age vs Expenses\"},\"height\":500,\"width\":800},                        {\"responsive\": true}                    ).then(function(){\n",
              "                            \n",
              "var gd = document.getElementById('fd711aee-4a2c-4060-9725-bd54ef932609');\n",
              "var x = new MutationObserver(function (mutations, observer) {{\n",
              "        var display = window.getComputedStyle(gd).display;\n",
              "        if (!display || display === 'none') {{\n",
              "            console.log([gd, 'removed!']);\n",
              "            Plotly.purge(gd);\n",
              "            observer.disconnect();\n",
              "        }}\n",
              "}});\n",
              "\n",
              "// Listen for the removal of the full notebook cells\n",
              "var notebookContainer = gd.closest('#notebook-container');\n",
              "if (notebookContainer) {{\n",
              "    x.observe(notebookContainer, {childList: true});\n",
              "}}\n",
              "\n",
              "// Listen for the clearing of the current output cell\n",
              "var outputEl = gd.closest('.output');\n",
              "if (outputEl) {{\n",
              "    x.observe(outputEl, {childList: true});\n",
              "}}\n",
              "\n",
              "                        })                };                            </script>        </div>\n",
              "</body>\n",
              "</html>"
            ]
          },
          "metadata": {}
        }
      ]
    },
    {
      "cell_type": "code",
      "source": [
        "fig = px.scatter(df,\n",
        "                x=\"bmi\",\n",
        "                y=\"expenses\",\n",
        "                color=\"smoker\",\n",
        "                hover_data=['sex'],\n",
        "                opacity=0.8,\n",
        "                width=800,\n",
        "                height=500,\n",
        "                title=\"BMI Vs Expenses\")\n",
        "\n",
        "fig.update_traces(marker_size=5)\n",
        "fig.show()"
      ],
      "metadata": {
        "colab": {
          "base_uri": "https://localhost:8080/",
          "height": 517
        },
        "id": "Z9kld3V4eF3C",
        "outputId": "1bea0f9e-e338-46d5-ee44-b1d75c0040bf"
      },
      "execution_count": null,
      "outputs": [
        {
          "output_type": "display_data",
          "data": {
            "text/html": [
              "<html>\n",
              "<head><meta charset=\"utf-8\" /></head>\n",
              "<body>\n",
              "    <div>            <script src=\"https://cdnjs.cloudflare.com/ajax/libs/mathjax/2.7.5/MathJax.js?config=TeX-AMS-MML_SVG\"></script><script type=\"text/javascript\">if (window.MathJax && window.MathJax.Hub && window.MathJax.Hub.Config) {window.MathJax.Hub.Config({SVG: {font: \"STIX-Web\"}});}</script>                <script type=\"text/javascript\">window.PlotlyConfig = {MathJaxConfig: 'local'};</script>\n",
              "        <script charset=\"utf-8\" src=\"https://cdn.plot.ly/plotly-2.24.1.min.js\"></script>                <div id=\"60617476-c182-4287-bd4a-802b3c991d9f\" class=\"plotly-graph-div\" style=\"height:500px; width:800px;\"></div>            <script type=\"text/javascript\">                                    window.PLOTLYENV=window.PLOTLYENV || {};                                    if (document.getElementById(\"60617476-c182-4287-bd4a-802b3c991d9f\")) {                    Plotly.newPlot(                        \"60617476-c182-4287-bd4a-802b3c991d9f\",                        [{\"customdata\":[[\"female\"],[\"female\"],[\"male\"],[\"male\"],[\"female\"],[\"male\"],[\"male\"],[\"male\"],[\"male\"],[\"male\"],[\"male\"],[\"male\"],[\"male\"],[\"male\"],[\"male\"],[\"female\"],[\"female\"],[\"male\"],[\"female\"],[\"male\"],[\"female\"],[\"male\"],[\"female\"],[\"male\"],[\"female\"],[\"male\"],[\"male\"],[\"female\"],[\"male\"],[\"male\"],[\"female\"],[\"male\"],[\"female\"],[\"female\"],[\"male\"],[\"male\"],[\"male\"],[\"female\"],[\"male\"],[\"male\"],[\"male\"],[\"female\"],[\"female\"],[\"female\"],[\"male\"],[\"female\"],[\"male\"],[\"male\"],[\"male\"],[\"female\"],[\"male\"],[\"female\"],[\"female\"],[\"male\"],[\"female\"],[\"male\"],[\"male\"],[\"male\"],[\"male\"],[\"female\"],[\"male\"],[\"male\"],[\"male\"],[\"male\"],[\"male\"],[\"female\"],[\"male\"],[\"female\"],[\"male\"],[\"male\"],[\"male\"],[\"male\"],[\"female\"],[\"male\"],[\"female\"],[\"male\"],[\"male\"],[\"female\"],[\"female\"],[\"male\"],[\"male\"],[\"female\"],[\"male\"],[\"female\"],[\"female\"],[\"male\"],[\"female\"],[\"male\"],[\"female\"],[\"female\"],[\"female\"],[\"female\"],[\"male\"],[\"male\"],[\"male\"],[\"female\"],[\"male\"],[\"male\"],[\"female\"],[\"male\"],[\"male\"],[\"male\"],[\"female\"],[\"male\"],[\"male\"],[\"male\"],[\"male\"],[\"male\"],[\"male\"],[\"male\"],[\"female\"],[\"male\"],[\"female\"],[\"female\"],[\"male\"],[\"female\"],[\"female\"],[\"female\"],[\"female\"],[\"female\"],[\"male\"],[\"female\"],[\"male\"],[\"female\"],[\"male\"],[\"male\"],[\"female\"],[\"male\"],[\"male\"],[\"female\"],[\"female\"],[\"male\"],[\"female\"],[\"male\"],[\"female\"],[\"male\"],[\"male\"],[\"male\"],[\"male\"],[\"female\"],[\"female\"],[\"female\"],[\"male\"],[\"female\"],[\"male\"],[\"male\"],[\"male\"],[\"male\"],[\"female\"],[\"female\"],[\"male\"],[\"male\"],[\"female\"],[\"male\"],[\"female\"],[\"male\"],[\"male\"],[\"male\"],[\"female\"],[\"female\"],[\"female\"],[\"male\"],[\"male\"],[\"male\"],[\"female\"],[\"female\"],[\"female\"],[\"female\"],[\"female\"],[\"female\"],[\"female\"],[\"male\"],[\"female\"],[\"female\"],[\"male\"],[\"male\"],[\"female\"],[\"male\"],[\"female\"],[\"male\"],[\"female\"],[\"male\"],[\"female\"],[\"male\"],[\"male\"],[\"male\"],[\"male\"],[\"male\"],[\"male\"],[\"male\"],[\"male\"],[\"male\"],[\"male\"],[\"male\"],[\"female\"],[\"female\"],[\"male\"],[\"male\"],[\"male\"],[\"male\"],[\"female\"],[\"male\"],[\"male\"],[\"female\"],[\"female\"],[\"male\"],[\"male\"],[\"female\"],[\"female\"],[\"male\"],[\"female\"],[\"male\"],[\"male\"],[\"male\"],[\"male\"],[\"male\"],[\"male\"],[\"female\"],[\"male\"],[\"female\"],[\"female\"],[\"female\"],[\"male\"],[\"female\"],[\"male\"],[\"male\"],[\"female\"],[\"female\"],[\"female\"],[\"female\"],[\"male\"],[\"female\"],[\"male\"],[\"male\"],[\"female\"],[\"female\"],[\"male\"],[\"female\"],[\"male\"],[\"female\"],[\"female\"],[\"female\"],[\"male\"],[\"female\"],[\"female\"],[\"female\"],[\"male\"],[\"female\"],[\"male\"],[\"male\"],[\"male\"],[\"male\"],[\"male\"],[\"male\"],[\"male\"],[\"male\"],[\"male\"],[\"female\"],[\"female\"],[\"male\"],[\"male\"],[\"male\"],[\"male\"],[\"male\"],[\"male\"],[\"male\"],[\"female\"],[\"male\"],[\"female\"],[\"female\"],[\"female\"],[\"male\"],[\"female\"],[\"female\"]],\"hovertemplate\":\"smoker=yes\\u003cbr\\u003ebmi=%{x}\\u003cbr\\u003eexpenses=%{y}\\u003cbr\\u003esex=%{customdata[0]}\\u003cextra\\u003e\\u003c\\u002fextra\\u003e\",\"legendgroup\":\"yes\",\"marker\":{\"color\":\"#636efa\",\"opacity\":0.8,\"symbol\":\"circle\",\"size\":5},\"mode\":\"markers\",\"name\":\"yes\",\"showlegend\":true,\"x\":[27.9,26.3,42.1,35.3,31.9,36.3,35.6,36.4,36.7,39.9,35.2,28.0,34.4,37.0,31.7,22.9,22.4,24.0,24.8,37.6,34.8,22.9,31.2,29.8,31.3,20.0,19.3,29.9,28.0,35.1,27.9,31.4,28.3,17.8,25.3,28.7,30.5,23.4,24.4,25.2,35.5,26.6,36.9,37.7,41.9,36.1,27.7,34.8,24.6,22.2,29.1,36.7,27.7,17.3,32.2,34.2,31.8,33.6,31.9,26.8,24.3,37.0,42.4,19.8,34.2,28.1,40.6,36.8,45.5,27.7,25.4,34.4,22.6,36.0,31.4,30.8,36.5,33.8,36.4,27.4,32.3,21.7,32.9,28.3,24.9,40.2,18.0,30.7,20.2,17.2,22.6,27.0,33.9,35.9,32.8,33.5,26.7,30.0,28.4,25.1,28.3,28.5,38.1,25.7,34.4,23.2,30.3,28.3,26.1,42.1,47.4,25.8,46.2,34.1,40.6,38.1,30.2,21.9,28.3,23.7,37.8,36.6,25.6,33.1,34.1,33.5,39.0,26.4,28.3,25.3,23.0,38.1,32.8,32.0,43.9,31.4,35.3,31.1,35.8,38.1,39.1,21.8,24.4,38.4,31.7,35.5,29.2,34.1,26.4,27.8,38.2,27.1,28.9,24.4,27.6,20.9,28.5,24.8,42.2,26.1,35.5,31.8,28.0,30.8,32.8,29.8,32.5,30.8,35.5,23.8,33.1,24.1,47.6,37.1,28.9,29.0,26.9,38.9,20.0,40.9,24.6,31.7,26.9,22.9,34.2,29.7,42.9,30.2,27.8,30.8,35.0,24.8,22.9,25.9,20.5,20.0,23.0,32.7,28.2,20.1,31.0,36.1,26.0,23.7,35.2,21.6,37.1,30.5,28.0,30.7,24.7,52.6,30.9,29.8,41.1,37.1,31.7,18.3,36.2,30.4,35.0,19.1,38.4,25.9,33.3,35.8,31.4,36.9,42.8,32.5,32.8,32.6,44.9,27.4,26.7,24.1,29.8,28.5,35.6,25.3,30.0,27.3,33.4,25.6,34.6,24.4,34.5,21.8,41.8,37.0,33.6,29.8,27.3,23.8,31.1,27.1,29.9,27.6,21.7,36.3,39.4,34.9,30.4,30.9,27.8,24.6,21.9,28.1,30.2,34.7,23.7,26.7,40.4,29.1],\"xaxis\":\"x\",\"y\":[16884.92,27808.73,39611.76,36837.47,37701.88,38711.0,35585.58,51194.56,39774.28,48173.36,38709.18,23568.27,37742.58,47496.49,34303.17,23244.79,14711.74,17663.14,16577.78,37165.16,39836.52,21098.55,43578.94,30184.94,47291.06,22412.65,15820.7,30942.19,17560.38,47055.53,19107.78,39556.49,17081.08,32734.19,18972.5,20745.99,40720.55,19964.75,21223.68,15518.18,36950.26,21348.71,36149.48,48824.45,43753.34,37133.9,20984.09,34779.62,19515.54,19444.27,17352.68,38511.63,29523.17,12829.46,47305.31,44260.75,41097.16,43921.18,33750.29,17085.27,24869.84,36219.41,46151.12,17179.52,42856.84,22331.57,48549.18,47896.79,42112.24,16297.85,21978.68,38746.36,24873.38,42124.52,34838.87,35491.64,42760.5,47928.03,48517.56,24393.62,41919.1,13844.51,36085.22,18033.97,21659.93,38126.25,15006.58,42303.69,19594.81,14455.64,18608.26,28950.47,46889.26,46599.11,39125.33,37079.37,26109.33,22144.03,19521.97,25382.3,28868.66,35147.53,48885.14,17942.11,36197.7,22218.11,32548.34,21082.16,38245.59,48675.52,63770.43,23807.24,45863.21,39983.43,45702.02,58571.07,43943.88,15359.1,17468.98,25678.78,39241.44,42969.85,23306.55,34439.86,40182.25,34617.84,42983.46,20149.32,32787.46,24667.42,27037.91,42560.43,40003.33,45710.21,46200.99,46130.53,40103.89,34806.47,40273.65,44400.41,40932.43,16657.72,19362.0,40419.02,36189.1,44585.46,18246.5,43254.42,19539.24,23065.42,36307.8,19040.88,17748.51,18259.22,24520.26,21195.82,18310.74,17904.53,38792.69,23401.31,55135.4,43813.87,20773.63,39597.41,36021.01,27533.91,45008.96,37270.15,42111.66,24106.91,40974.16,15817.99,46113.51,46255.11,19719.69,27218.44,29330.98,44202.65,19798.05,48673.56,17496.31,33732.69,21774.32,35069.37,39047.29,19933.46,47462.89,38998.55,20009.63,41999.52,41034.22,23967.38,16138.76,19199.94,14571.89,16420.49,17361.77,34472.84,24915.22,18767.74,35595.59,42211.14,16450.89,21677.28,44423.8,13747.87,37484.45,39725.52,20234.85,33475.82,21880.82,44501.4,39727.61,25309.49,48970.25,39871.7,34672.15,19023.26,41676.08,33907.55,44641.2,16776.3,41949.24,24180.93,36124.57,38282.75,34166.27,46661.44,40904.2,36898.73,52590.83,40941.29,39722.75,17178.68,22478.6,23887.66,19350.37,18328.24,37465.34,21771.34,33307.55,18223.45,38415.47,20296.86,41661.6,26125.67,60021.4,20167.34,47269.85,49577.66,37607.53,18648.42,16232.85,26926.51,34254.05,17043.34,22462.04,24535.7,14283.46,47403.88,38344.57,34828.65,62592.87,46718.16,37829.72,21259.38,16115.3,21472.48,33900.65,36397.58,18765.88,28101.33,43896.38,29141.36],\"yaxis\":\"y\",\"type\":\"scattergl\"},{\"customdata\":[[\"male\"],[\"male\"],[\"male\"],[\"male\"],[\"female\"],[\"female\"],[\"female\"],[\"male\"],[\"female\"],[\"male\"],[\"male\"],[\"female\"],[\"male\"],[\"female\"],[\"male\"],[\"male\"],[\"female\"],[\"female\"],[\"male\"],[\"male\"],[\"female\"],[\"female\"],[\"female\"],[\"male\"],[\"female\"],[\"female\"],[\"male\"],[\"male\"],[\"female\"],[\"male\"],[\"female\"],[\"female\"],[\"male\"],[\"female\"],[\"male\"],[\"male\"],[\"female\"],[\"female\"],[\"female\"],[\"female\"],[\"female\"],[\"female\"],[\"female\"],[\"female\"],[\"male\"],[\"male\"],[\"male\"],[\"female\"],[\"female\"],[\"female\"],[\"male\"],[\"female\"],[\"male\"],[\"female\"],[\"male\"],[\"male\"],[\"male\"],[\"female\"],[\"male\"],[\"female\"],[\"female\"],[\"male\"],[\"female\"],[\"female\"],[\"female\"],[\"female\"],[\"female\"],[\"female\"],[\"female\"],[\"male\"],[\"female\"],[\"female\"],[\"male\"],[\"female\"],[\"male\"],[\"female\"],[\"female\"],[\"female\"],[\"male\"],[\"male\"],[\"male\"],[\"female\"],[\"male\"],[\"female\"],[\"male\"],[\"male\"],[\"male\"],[\"female\"],[\"female\"],[\"male\"],[\"male\"],[\"female\"],[\"female\"],[\"female\"],[\"female\"],[\"male\"],[\"female\"],[\"female\"],[\"female\"],[\"male\"],[\"female\"],[\"female\"],[\"male\"],[\"male\"],[\"female\"],[\"female\"],[\"male\"],[\"male\"],[\"male\"],[\"female\"],[\"female\"],[\"female\"],[\"male\"],[\"male\"],[\"male\"],[\"female\"],[\"female\"],[\"male\"],[\"female\"],[\"male\"],[\"female\"],[\"male\"],[\"male\"],[\"female\"],[\"female\"],[\"female\"],[\"male\"],[\"male\"],[\"male\"],[\"male\"],[\"female\"],[\"female\"],[\"male\"],[\"male\"],[\"female\"],[\"female\"],[\"male\"],[\"female\"],[\"male\"],[\"female\"],[\"male\"],[\"female\"],[\"female\"],[\"female\"],[\"female\"],[\"male\"],[\"female\"],[\"male\"],[\"female\"],[\"male\"],[\"male\"],[\"female\"],[\"female\"],[\"female\"],[\"female\"],[\"female\"],[\"female\"],[\"female\"],[\"male\"],[\"female\"],[\"male\"],[\"female\"],[\"male\"],[\"male\"],[\"male\"],[\"male\"],[\"female\"],[\"female\"],[\"female\"],[\"female\"],[\"male\"],[\"female\"],[\"female\"],[\"female\"],[\"female\"],[\"male\"],[\"male\"],[\"male\"],[\"female\"],[\"female\"],[\"male\"],[\"female\"],[\"female\"],[\"female\"],[\"male\"],[\"male\"],[\"female\"],[\"male\"],[\"male\"],[\"female\"],[\"female\"],[\"male\"],[\"male\"],[\"female\"],[\"male\"],[\"male\"],[\"male\"],[\"male\"],[\"female\"],[\"female\"],[\"male\"],[\"female\"],[\"female\"],[\"female\"],[\"male\"],[\"male\"],[\"male\"],[\"male\"],[\"male\"],[\"male\"],[\"female\"],[\"male\"],[\"female\"],[\"male\"],[\"female\"],[\"male\"],[\"female\"],[\"female\"],[\"male\"],[\"female\"],[\"female\"],[\"male\"],[\"female\"],[\"male\"],[\"female\"],[\"male\"],[\"male\"],[\"female\"],[\"male\"],[\"female\"],[\"female\"],[\"female\"],[\"male\"],[\"female\"],[\"female\"],[\"male\"],[\"female\"],[\"male\"],[\"female\"],[\"male\"],[\"male\"],[\"male\"],[\"male\"],[\"female\"],[\"male\"],[\"male\"],[\"female\"],[\"male\"],[\"male\"],[\"male\"],[\"female\"],[\"male\"],[\"female\"],[\"female\"],[\"female\"],[\"male\"],[\"male\"],[\"male\"],[\"female\"],[\"female\"],[\"male\"],[\"female\"],[\"male\"],[\"female\"],[\"female\"],[\"male\"],[\"male\"],[\"female\"],[\"male\"],[\"female\"],[\"female\"],[\"female\"],[\"male\"],[\"female\"],[\"male\"],[\"male\"],[\"male\"],[\"male\"],[\"female\"],[\"female\"],[\"male\"],[\"female\"],[\"female\"],[\"female\"],[\"female\"],[\"female\"],[\"male\"],[\"male\"],[\"female\"],[\"female\"],[\"female\"],[\"male\"],[\"female\"],[\"male\"],[\"male\"],[\"female\"],[\"male\"],[\"male\"],[\"female\"],[\"male\"],[\"female\"],[\"female\"],[\"male\"],[\"female\"],[\"male\"],[\"male\"],[\"female\"],[\"male\"],[\"female\"],[\"male\"],[\"male\"],[\"female\"],[\"female\"],[\"male\"],[\"female\"],[\"male\"],[\"male\"],[\"female\"],[\"female\"],[\"female\"],[\"male\"],[\"male\"],[\"male\"],[\"male\"],[\"female\"],[\"female\"],[\"male\"],[\"male\"],[\"male\"],[\"male\"],[\"male\"],[\"female\"],[\"female\"],[\"female\"],[\"female\"],[\"male\"],[\"female\"],[\"male\"],[\"female\"],[\"male\"],[\"male\"],[\"male\"],[\"male\"],[\"female\"],[\"male\"],[\"female\"],[\"male\"],[\"female\"],[\"female\"],[\"male\"],[\"female\"],[\"female\"],[\"male\"],[\"male\"],[\"male\"],[\"male\"],[\"male\"],[\"male\"],[\"male\"],[\"female\"],[\"female\"],[\"male\"],[\"female\"],[\"female\"],[\"female\"],[\"male\"],[\"male\"],[\"female\"],[\"female\"],[\"female\"],[\"female\"],[\"male\"],[\"female\"],[\"female\"],[\"female\"],[\"male\"],[\"male\"],[\"male\"],[\"male\"],[\"male\"],[\"female\"],[\"female\"],[\"male\"],[\"female\"],[\"female\"],[\"male\"],[\"male\"],[\"female\"],[\"female\"],[\"female\"],[\"male\"],[\"male\"],[\"female\"],[\"male\"],[\"female\"],[\"female\"],[\"male\"],[\"female\"],[\"male\"],[\"male\"],[\"male\"],[\"female\"],[\"female\"],[\"male\"],[\"male\"],[\"male\"],[\"male\"],[\"male\"],[\"male\"],[\"male\"],[\"female\"],[\"male\"],[\"female\"],[\"female\"],[\"female\"],[\"female\"],[\"female\"],[\"female\"],[\"female\"],[\"male\"],[\"male\"],[\"female\"],[\"male\"],[\"male\"],[\"male\"],[\"male\"],[\"female\"],[\"female\"],[\"female\"],[\"male\"],[\"female\"],[\"female\"],[\"female\"],[\"male\"],[\"male\"],[\"female\"],[\"female\"],[\"male\"],[\"female\"],[\"male\"],[\"female\"],[\"female\"],[\"male\"],[\"male\"],[\"male\"],[\"male\"],[\"female\"],[\"female\"],[\"male\"],[\"male\"],[\"female\"],[\"female\"],[\"female\"],[\"male\"],[\"female\"],[\"female\"],[\"female\"],[\"female\"],[\"female\"],[\"female\"],[\"female\"],[\"male\"],[\"male\"],[\"female\"],[\"male\"],[\"male\"],[\"male\"],[\"female\"],[\"male\"],[\"female\"],[\"male\"],[\"female\"],[\"female\"],[\"female\"],[\"male\"],[\"male\"],[\"male\"],[\"female\"],[\"female\"],[\"female\"],[\"male\"],[\"female\"],[\"female\"],[\"male\"],[\"female\"],[\"female\"],[\"female\"],[\"female\"],[\"male\"],[\"female\"],[\"female\"],[\"female\"],[\"female\"],[\"female\"],[\"female\"],[\"female\"],[\"male\"],[\"female\"],[\"male\"],[\"female\"],[\"male\"],[\"male\"],[\"male\"],[\"male\"],[\"male\"],[\"female\"],[\"male\"],[\"male\"],[\"male\"],[\"female\"],[\"female\"],[\"male\"],[\"male\"],[\"male\"],[\"female\"],[\"male\"],[\"male\"],[\"male\"],[\"female\"],[\"male\"],[\"female\"],[\"female\"],[\"female\"],[\"female\"],[\"female\"],[\"female\"],[\"female\"],[\"male\"],[\"female\"],[\"female\"],[\"male\"],[\"female\"],[\"female\"],[\"male\"],[\"male\"],[\"female\"],[\"male\"],[\"female\"],[\"male\"],[\"female\"],[\"male\"],[\"female\"],[\"male\"],[\"female\"],[\"female\"],[\"male\"],[\"male\"],[\"female\"],[\"male\"],[\"male\"],[\"male\"],[\"female\"],[\"male\"],[\"male\"],[\"male\"],[\"male\"],[\"female\"],[\"female\"],[\"female\"],[\"male\"],[\"female\"],[\"female\"],[\"female\"],[\"male\"],[\"female\"],[\"female\"],[\"female\"],[\"male\"],[\"female\"],[\"female\"],[\"male\"],[\"female\"],[\"female\"],[\"male\"],[\"female\"],[\"male\"],[\"female\"],[\"male\"],[\"female\"],[\"female\"],[\"female\"],[\"male\"],[\"male\"],[\"male\"],[\"female\"],[\"male\"],[\"female\"],[\"female\"],[\"male\"],[\"female\"],[\"female\"],[\"female\"],[\"female\"],[\"male\"],[\"male\"],[\"female\"],[\"male\"],[\"female\"],[\"male\"],[\"male\"],[\"female\"],[\"male\"],[\"male\"],[\"male\"],[\"female\"],[\"male\"],[\"male\"],[\"female\"],[\"male\"],[\"female\"],[\"male\"],[\"male\"],[\"female\"],[\"female\"],[\"male\"],[\"female\"],[\"female\"],[\"female\"],[\"male\"],[\"female\"],[\"female\"],[\"male\"],[\"male\"],[\"male\"],[\"male\"],[\"male\"],[\"male\"],[\"male\"],[\"male\"],[\"female\"],[\"female\"],[\"male\"],[\"male\"],[\"male\"],[\"female\"],[\"female\"],[\"male\"],[\"female\"],[\"female\"],[\"male\"],[\"female\"],[\"female\"],[\"female\"],[\"female\"],[\"male\"],[\"male\"],[\"female\"],[\"female\"],[\"female\"],[\"male\"],[\"male\"],[\"female\"],[\"female\"],[\"male\"],[\"male\"],[\"male\"],[\"female\"],[\"female\"],[\"male\"],[\"male\"],[\"male\"],[\"female\"],[\"female\"],[\"male\"],[\"female\"],[\"male\"],[\"male\"],[\"female\"],[\"female\"],[\"male\"],[\"male\"],[\"male\"],[\"male\"],[\"female\"],[\"female\"],[\"female\"],[\"male\"],[\"male\"],[\"male\"],[\"female\"],[\"male\"],[\"female\"],[\"male\"],[\"male\"],[\"female\"],[\"female\"],[\"female\"],[\"male\"],[\"female\"],[\"female\"],[\"female\"],[\"male\"],[\"male\"],[\"male\"],[\"male\"],[\"male\"],[\"female\"],[\"male\"],[\"female\"],[\"male\"],[\"male\"],[\"male\"],[\"female\"],[\"female\"],[\"male\"],[\"male\"],[\"female\"],[\"male\"],[\"male\"],[\"female\"],[\"male\"],[\"female\"],[\"male\"],[\"male\"],[\"female\"],[\"male\"],[\"male\"],[\"female\"],[\"male\"],[\"female\"],[\"female\"],[\"male\"],[\"male\"],[\"male\"],[\"female\"],[\"female\"],[\"male\"],[\"female\"],[\"male\"],[\"male\"],[\"female\"],[\"female\"],[\"male\"],[\"female\"],[\"female\"],[\"female\"],[\"female\"],[\"female\"],[\"male\"],[\"male\"],[\"male\"],[\"male\"],[\"female\"],[\"female\"],[\"female\"],[\"male\"],[\"male\"],[\"female\"],[\"male\"],[\"female\"],[\"male\"],[\"female\"],[\"male\"],[\"female\"],[\"male\"],[\"male\"],[\"male\"],[\"female\"],[\"female\"],[\"male\"],[\"male\"],[\"female\"],[\"male\"],[\"male\"],[\"male\"],[\"female\"],[\"male\"],[\"male\"],[\"male\"],[\"female\"],[\"female\"],[\"female\"],[\"male\"],[\"male\"],[\"male\"],[\"male\"],[\"male\"],[\"female\"],[\"female\"],[\"female\"],[\"female\"],[\"female\"],[\"male\"],[\"male\"],[\"male\"],[\"female\"],[\"female\"],[\"male\"],[\"male\"],[\"female\"],[\"male\"],[\"female\"],[\"male\"],[\"female\"],[\"male\"],[\"female\"],[\"female\"],[\"female\"],[\"male\"],[\"female\"],[\"female\"],[\"female\"],[\"female\"],[\"female\"],[\"male\"],[\"male\"],[\"male\"],[\"male\"],[\"male\"],[\"male\"],[\"male\"],[\"female\"],[\"female\"],[\"male\"],[\"female\"],[\"male\"],[\"female\"],[\"female\"],[\"female\"],[\"female\"],[\"male\"],[\"male\"],[\"female\"],[\"female\"],[\"male\"],[\"male\"],[\"female\"],[\"female\"],[\"male\"],[\"female\"],[\"male\"],[\"male\"],[\"male\"],[\"female\"],[\"male\"],[\"female\"],[\"female\"],[\"female\"],[\"male\"],[\"male\"],[\"female\"],[\"male\"],[\"female\"],[\"female\"],[\"female\"],[\"male\"],[\"male\"],[\"male\"],[\"male\"],[\"female\"],[\"female\"],[\"male\"],[\"male\"],[\"male\"],[\"female\"],[\"male\"],[\"male\"],[\"female\"],[\"female\"],[\"female\"],[\"female\"],[\"male\"],[\"male\"],[\"male\"],[\"male\"],[\"male\"],[\"male\"],[\"female\"],[\"male\"],[\"male\"],[\"male\"],[\"male\"],[\"female\"],[\"male\"],[\"female\"],[\"female\"],[\"male\"],[\"female\"],[\"female\"],[\"male\"],[\"male\"],[\"male\"],[\"male\"],[\"female\"],[\"female\"],[\"female\"],[\"male\"],[\"male\"],[\"female\"],[\"female\"],[\"male\"],[\"male\"],[\"male\"],[\"female\"],[\"male\"],[\"female\"],[\"female\"],[\"male\"],[\"female\"],[\"male\"],[\"female\"],[\"female\"],[\"male\"],[\"male\"],[\"female\"],[\"male\"],[\"female\"],[\"female\"],[\"female\"],[\"male\"],[\"male\"],[\"female\"],[\"female\"],[\"male\"],[\"male\"],[\"male\"],[\"female\"],[\"male\"],[\"male\"],[\"female\"],[\"female\"],[\"female\"],[\"female\"],[\"female\"],[\"female\"],[\"female\"],[\"female\"],[\"female\"],[\"male\"],[\"male\"],[\"female\"],[\"female\"],[\"female\"],[\"male\"],[\"female\"],[\"male\"],[\"female\"],[\"female\"],[\"male\"],[\"male\"],[\"female\"],[\"female\"],[\"female\"],[\"female\"],[\"female\"],[\"female\"],[\"female\"],[\"male\"],[\"female\"],[\"female\"],[\"female\"],[\"female\"],[\"female\"],[\"female\"],[\"female\"],[\"female\"],[\"male\"],[\"male\"],[\"female\"],[\"male\"],[\"male\"],[\"male\"],[\"male\"],[\"male\"],[\"female\"],[\"male\"],[\"male\"],[\"male\"],[\"male\"],[\"female\"],[\"female\"],[\"male\"],[\"male\"],[\"male\"],[\"female\"],[\"female\"],[\"male\"],[\"male\"],[\"male\"],[\"female\"],[\"male\"],[\"male\"],[\"male\"],[\"male\"],[\"female\"],[\"male\"],[\"female\"],[\"male\"],[\"female\"],[\"female\"],[\"male\"],[\"female\"],[\"female\"],[\"female\"],[\"male\"],[\"male\"],[\"female\"],[\"male\"],[\"female\"],[\"male\"],[\"female\"],[\"female\"],[\"female\"],[\"female\"],[\"female\"],[\"male\"],[\"female\"],[\"female\"],[\"male\"],[\"female\"],[\"female\"],[\"female\"],[\"female\"],[\"female\"],[\"male\"],[\"male\"],[\"female\"],[\"male\"],[\"male\"],[\"male\"],[\"female\"],[\"female\"],[\"female\"],[\"female\"],[\"male\"],[\"female\"],[\"female\"],[\"female\"],[\"male\"],[\"female\"],[\"male\"],[\"male\"],[\"male\"],[\"male\"],[\"male\"],[\"female\"],[\"male\"],[\"female\"],[\"female\"],[\"female\"],[\"male\"],[\"male\"],[\"female\"],[\"male\"],[\"male\"],[\"female\"],[\"male\"],[\"male\"],[\"female\"],[\"male\"],[\"male\"],[\"male\"],[\"male\"],[\"female\"],[\"male\"],[\"female\"],[\"male\"],[\"female\"],[\"female\"],[\"female\"],[\"male\"],[\"female\"],[\"female\"],[\"female\"]],\"hovertemplate\":\"smoker=no\\u003cbr\\u003ebmi=%{x}\\u003cbr\\u003eexpenses=%{y}\\u003cbr\\u003esex=%{customdata[0]}\\u003cextra\\u003e\\u003c\\u002fextra\\u003e\",\"legendgroup\":\"no\",\"marker\":{\"color\":\"#EF553B\",\"opacity\":0.8,\"symbol\":\"circle\",\"size\":5},\"mode\":\"markers\",\"name\":\"no\",\"showlegend\":true,\"x\":[33.8,33.0,22.7,28.9,25.7,33.4,27.7,29.8,25.8,26.2,34.4,39.8,24.6,30.8,23.8,40.3,36.0,32.4,34.1,28.0,27.7,23.1,32.8,17.4,26.3,28.6,28.3,20.4,33.0,20.8,26.6,36.6,21.8,30.8,37.1,37.3,38.7,34.8,24.5,35.6,33.6,28.7,31.8,37.3,27.4,33.7,24.7,25.9,28.9,39.1,26.3,36.2,28.5,28.1,32.0,27.4,34.0,29.6,35.5,39.8,33.0,26.9,38.3,41.2,27.2,27.7,27.0,39.5,24.8,34.8,37.6,30.8,38.3,31.6,25.5,30.1,27.5,28.4,30.9,27.9,33.6,29.7,30.8,35.7,32.2,28.6,49.1,27.2,23.4,37.1,23.8,29.0,33.9,28.8,37.4,34.7,26.5,22.0,35.9,25.6,28.8,28.1,34.1,25.2,31.9,36.0,22.4,32.5,29.7,38.8,37.7,37.4,28.4,24.1,29.7,37.1,25.5,39.5,27.8,39.6,29.8,29.6,28.2,37.0,33.2,31.8,18.9,41.5,30.3,16.0,34.8,33.3,27.8,29.2,28.9,33.2,28.6,38.3,20.0,26.4,30.7,29.9,30.9,32.2,32.1,31.6,26.2,25.7,26.6,34.4,30.6,32.8,28.6,18.1,39.3,32.1,32.2,24.0,22.3,28.9,26.4,31.8,41.2,33.0,30.9,28.5,26.7,30.9,37.1,26.6,23.1,29.9,23.2,33.7,33.3,30.8,33.9,38.1,41.9,31.6,25.5,36.2,27.8,17.8,27.5,24.5,26.7,38.4,38.1,22.1,26.8,35.3,30.0,38.1,35.9,20.9,29.0,30.3,25.4,40.2,24.4,25.2,38.1,32.4,30.2,25.8,29.4,37.1,27.5,27.6,26.6,20.6,24.3,31.8,21.6,27.6,32.4,31.2,26.6,48.1,26.2,26.4,33.4,29.6,28.8,26.8,23.0,28.9,27.6,37.5,33.0,38.0,33.3,27.5,33.3,34.9,33.1,26.6,24.7,35.9,33.3,32.2,32.8,27.6,37.3,25.3,29.6,40.9,27.2,34.1,23.2,36.7,31.2,28.8,35.7,34.5,25.7,27.6,27.7,27.6,30.0,27.6,36.8,41.5,29.3,35.8,33.3,29.9,27.8,23.2,25.6,27.7,35.2,38.3,27.6,43.9,29.8,41.9,20.8,32.3,30.5,26.4,21.9,30.8,32.3,25.0,32.0,30.4,21.1,22.2,33.2,33.3,30.1,31.5,33.0,43.3,22.1,34.4,39.1,25.4,22.6,30.2,35.6,37.4,31.4,31.4,32.3,19.9,34.4,31.0,25.6,38.2,20.6,47.5,33.0,32.3,20.4,38.4,24.3,23.6,21.1,30.0,17.5,23.9,35.2,35.6,34.1,39.2,30.6,30.2,24.3,27.3,29.2,16.8,30.4,33.1,20.2,26.9,30.5,28.6,33.1,31.7,28.9,46.8,29.5,32.7,43.0,36.5,33.1,29.6,25.7,29.6,38.6,29.6,24.1,23.4,29.7,46.5,37.4,30.1,30.5,39.6,33.0,36.6,38.1,25.9,25.2,28.7,33.8,24.3,24.1,32.7,30.1,29.8,33.3,35.6,36.9,32.6,41.3,37.5,31.4,39.5,34.3,31.1,21.5,28.7,31.2,32.9,25.1,25.1,43.4,27.9,23.6,28.7,24.0,39.2,26.0,28.9,30.9,31.4,23.8,25.3,28.7,32.1,33.7,22.4,30.4,35.7,35.3,30.5,31.0,30.9,27.4,44.2,33.9,37.7,33.9,30.6,25.8,39.4,25.5,31.7,29.7,36.2,40.5,28.0,38.9,30.2,28.1,31.4,38.0,31.8,36.3,30.2,35.4,46.7,28.6,30.8,28.9,21.4,31.7,41.3,23.8,33.4,34.2,35.5,20.0,32.7,30.5,44.8,32.1,30.5,40.6,30.6,31.9,29.1,37.3,43.1,36.9,34.3,27.2,26.8,30.2,23.5,25.5,30.6,45.4,23.7,20.7,28.3,20.2,35.9,30.7,29.0,19.6,31.1,40.3,33.7,29.5,33.3,32.6,37.5,39.2,31.6,25.3,39.1,34.1,25.2,27.0,29.4,34.8,33.2,19.0,33.0,28.6,37.1,31.4,21.3,28.8,26.0,28.9,42.5,38.0,36.1,29.3,35.5,22.7,39.7,38.2,24.5,38.1,33.7,42.4,33.9,35.0,35.3,30.8,26.2,23.4,28.5,33.0,42.7,39.6,31.1,36.3,35.2,42.4,33.2,35.9,28.8,46.5,24.0,31.5,33.7,28.7,29.8,31.6,31.2,29.7,31.0,21.4,40.8,36.1,23.2,17.4,20.3,24.3,18.5,26.4,26.1,41.7,24.1,27.4,36.2,32.4,23.7,34.8,40.2,32.3,33.7,39.3,34.9,44.7,41.5,26.4,29.5,32.9,28.7,30.5,27.7,35.2,23.5,30.7,40.5,22.6,28.9,22.6,24.3,36.7,33.4,40.7,36.6,37.4,35.4,27.1,28.4,40.3,36.1,21.4,30.1,27.3,32.1,34.8,23.7,24.0,26.6,26.4,30.1,27.0,21.8,36.0,30.9,29.0,37.9,22.8,33.6,27.6,22.8,37.4,34.6,35.2,26.0,25.2,31.8,32.3,29.0,39.7,19.5,36.1,26.7,36.5,34.2,33.3,32.3,39.8,34.3,28.9,41.1,36.0,29.3,27.7,37.0,36.9,22.5,29.9,41.8,27.6,23.2,31.9,44.2,22.9,33.1,26.2,36.0,22.3,26.5,35.8,41.4,36.6,30.1,25.8,30.8,42.9,21.0,22.5,34.4,31.5,24.2,37.1,33.7,17.7,31.1,29.8,24.3,31.8,21.9,33.1,25.8,23.8,34.4,33.8,36.0,31.5,28.3,23.5,31.4,31.1,24.7,30.5,34.2,50.4,24.1,32.8,32.3,23.8,29.6,32.2,28.1,28.0,33.5,19.9,25.4,29.9,37.3,43.7,23.7,24.3,36.2,29.5,24.9,30.1,21.9,28.1,27.1,33.4,28.8,29.5,34.8,27.4,22.1,26.7,30.0,39.5,33.6,29.0,24.0,32.1,44.0,25.6,40.3,22.5,22.5,27.3,36.9,35.1,29.4,32.6,32.3,39.8,28.3,26.7,27.5,24.6,34.0,28.2,34.2,25.0,33.2,31.0,35.8,23.2,32.1,23.4,20.1,39.2,34.2,46.5,32.5,25.8,35.3,37.2,27.5,29.7,24.2,26.2,29.5,23.2,46.1,40.2,22.6,39.9,35.8,35.8,31.3,18.3,28.4,39.5,26.8,36.7,39.6,25.9,35.2,24.8,36.8,27.1,25.4,25.7,34.3,28.2,23.6,20.2,40.5,35.4,40.2,29.2,40.0,29.9,25.5,21.4,30.6,30.1,25.8,30.1,27.6,34.7,19.8,27.8,31.6,28.3,23.3,34.1,36.9,36.3,26.9,25.8,29.6,19.2,31.7,29.3,25.0,27.7,22.8,33.3,32.3,27.6,25.5,24.6,34.2,35.8,32.7,37.0,23.3,45.3,34.6,18.7,31.6,17.3,27.9,38.4,23.0,28.9,27.3,23.1,25.8,35.2,25.1,22.5,37.0,26.4,29.8,21.5,27.6,28.9,31.8,39.5,33.8,32.0,27.9,28.6,25.6,25.3,37.3,42.7,21.7,31.9,31.4,31.3,28.9,18.3,29.6,32.0,26.0,33.7,21.8,27.8,20.0,31.5,30.5,29.0,31.5,47.7,22.1,29.8,32.7,33.7,31.4,33.8,30.9,34.0,28.6,38.9,36.1,29.8,31.2,29.9,26.2,30.0,20.4,32.3,26.3,24.5,32.7,29.6,20.0,38.2,32.4,25.1,29.9,35.9,32.8,18.6,23.9,45.9,40.3,18.3,33.8,28.1,25.0,22.2,30.3,37.1,32.6,24.9,32.3,32.3,32.8,31.9,21.5,34.1,30.3,36.5,35.8,27.9,22.1,23.2,30.6,41.1,34.6,42.1,38.8,28.2,28.3,26.1,40.4,24.6,35.2,34.1,41.9,29.3,32.1,27.1,27.4,34.9,41.3,29.9,30.3,27.4,23.6,32.7,28.0,32.8,21.8,32.4,36.6,21.8,27.9,33.6,29.4,25.8,24.3,40.4,32.1,32.3,17.9,34.8,37.1,30.9,34.1,21.5,33.3,31.3,39.1,25.1,37.3,30.2,21.9,25.0,25.3,23.9,39.8,16.8,37.2,34.4,30.3,24.6,23.3,27.8,31.1,21.7,28.2,22.7,42.1,21.3,33.1,33.3,24.3,25.7,29.4,39.8,19.8,29.3,27.7,37.9,36.4,27.6,37.7,23.2,20.5,37.1,28.1,29.9,33.3,30.5,33.3,27.5,33.9,34.5,25.5,27.6,23.7,30.4,29.7,26.8,33.3,30.0,24.3,17.3,25.9,34.3,20.0,23.2,25.7,25.2,22.0,26.1,26.5,27.5,25.7,20.8,27.7,32.2,26.3,26.7,42.9,28.3,20.6,53.1,39.7,26.3,31.1,38.8,25.9,33.5,32.9,30.0,24.2,38.6,25.7,33.4,44.7,31.0,31.9,36.9,25.8],\"xaxis\":\"x\",\"y\":[1725.55,4449.46,21984.47,3866.86,3756.62,8240.59,7281.51,6406.41,28923.14,2721.32,1826.84,11090.72,1837.24,10797.34,2395.17,10602.39,13228.85,4149.74,1137.01,6203.9,14001.13,14451.84,12268.63,2775.19,2198.19,4687.8,13770.1,1625.43,15612.19,2302.3,3046.06,4949.76,6272.48,6313.76,6079.67,20630.28,3393.36,3556.92,12629.9,2211.13,3579.83,8059.68,13607.37,5989.52,8606.22,4504.66,30166.62,4133.64,1743.21,14235.07,6389.38,5920.1,6799.46,11741.73,11946.63,7726.85,11356.66,3947.41,1532.47,2755.02,6571.02,4441.21,7935.29,11033.66,11073.18,8026.67,11082.58,2026.97,10942.13,5729.01,3766.88,12105.32,10226.28,6186.13,3645.09,21344.85,5003.85,2331.52,3877.3,2867.12,10825.25,11881.36,4646.76,2404.73,11488.32,30260.0,11381.33,8601.33,6686.43,7740.34,1705.62,2257.48,10115.01,3385.4,9634.54,6082.41,12815.44,13616.36,11163.57,1632.56,2457.21,2155.68,1261.44,2045.69,27322.73,2166.73,27375.9,3490.55,18157.88,5138.26,9877.61,10959.69,1842.52,5125.22,7789.64,6334.34,7077.19,6948.7,19749.38,10450.55,5152.13,5028.15,10407.09,4830.63,6128.8,2719.28,4827.9,13405.39,8116.68,1694.8,5246.05,2855.44,6455.86,10436.1,8823.28,8538.29,11735.88,1631.82,4005.42,7419.48,7731.43,3981.98,5325.65,6775.96,4922.92,12557.61,4883.87,2137.65,12044.34,1137.47,1639.56,5649.72,8516.83,9644.25,14901.52,2130.68,8871.15,13012.21,7147.11,4337.74,11743.3,13880.95,6610.11,1980.07,8162.72,3537.7,5002.78,8520.03,7371.77,10355.64,2483.74,3392.98,25081.77,5012.47,10564.88,5253.52,11987.17,2689.5,24227.34,7358.18,9225.26,7443.64,14001.29,1727.79,12333.83,6710.19,1615.77,4463.21,7152.67,5354.07,35160.13,7196.87,24476.48,12648.7,1986.93,1832.09,4040.56,4260.74,13047.33,5400.98,11520.1,11837.16,20463.0,14590.63,7441.05,9282.48,1719.44,7265.7,9617.66,2523.17,9715.84,2803.7,2150.47,12928.79,9855.13,4237.13,11879.1,9625.92,7742.11,9432.93,14256.19,25992.82,3172.02,20277.81,2156.75,3906.13,1704.57,9249.5,6746.74,12265.51,4349.46,12646.21,19442.35,20177.67,4151.03,11944.59,7749.16,8444.47,1737.38,8124.41,9722.77,8835.26,10435.07,7421.19,4667.61,4894.75,24671.66,11566.3,2866.09,6600.21,3561.89,9144.57,13429.04,11658.38,19144.58,13822.8,12142.58,13937.67,8232.64,18955.22,13352.1,13217.09,13981.85,10977.21,6184.3,4890.0,8334.46,5478.04,1635.73,11830.61,8932.08,3554.2,12404.88,14133.04,24603.05,8944.12,9620.33,1837.28,1607.51,10043.25,4751.07,2597.78,3180.51,9778.35,13430.27,8017.06,8116.27,3481.87,13415.04,12029.29,7639.42,1391.53,16455.71,27000.98,20781.49,5846.92,8302.54,1261.86,11856.41,30284.64,3176.82,4618.08,10736.87,2138.07,8964.06,9290.14,9411.01,7526.71,8522.0,16586.5,14988.43,1631.67,9264.8,8083.92,14692.67,10269.46,3260.2,11396.9,4185.1,8539.67,6652.53,4074.45,1621.34,5080.1,2134.9,7345.73,9140.95,14418.28,2727.4,8968.33,9788.87,6555.07,7323.73,3167.46,18804.75,23082.96,4906.41,5969.72,12638.2,4243.59,13919.82,2254.8,5926.85,12592.53,2897.32,4738.27,1149.4,28287.9,7345.08,12731.0,11454.02,5910.94,4762.33,7512.27,4032.24,1969.61,1769.53,4686.39,21797.0,11881.97,11840.78,10601.41,7682.67,10381.48,15230.32,11165.42,1632.04,13224.69,12643.38,23288.93,2201.1,2497.04,2203.47,1744.47,20878.78,2534.39,1534.3,1824.29,15555.19,9304.7,1622.19,9880.07,9563.03,4347.02,12475.35,1253.94,10461.98,1748.77,24513.09,2196.47,12574.05,1967.02,4931.65,8027.97,8211.1,13470.86,6837.37,5974.38,6796.86,2643.27,3077.1,3044.21,11455.28,11763.0,2498.41,9361.33,1256.3,11362.76,27724.29,8413.46,5240.77,3857.76,25656.58,3994.18,9866.3,5397.62,11482.63,24059.68,9861.03,8342.91,1708.0,14043.48,12925.89,19214.71,13831.12,6067.13,5972.38,8825.09,8233.1,27346.04,6196.45,3056.39,13887.2,10231.5,3268.85,11538.42,3213.62,13390.56,3972.92,12957.12,11187.66,17878.9,3847.67,8334.59,3935.18,1646.43,9193.84,10923.93,2494.02,9058.73,2801.26,2128.43,6373.56,7256.72,11552.9,3761.29,2219.45,4753.64,31620.0,13224.06,12222.9,1665.0,9724.53,3206.49,12913.99,1639.56,6356.27,17626.24,1242.82,4779.6,3861.21,13635.64,5976.83,11842.44,8428.07,2566.47,5709.16,8823.99,7640.31,5594.85,7441.5,33471.97,1633.04,9174.14,11070.54,16085.13,9283.56,3558.62,4435.09,8547.69,6571.54,2207.7,6753.04,1880.07,11658.12,10713.64,3659.35,9182.17,12129.61,3736.46,6748.59,11326.71,11365.95,10085.85,1977.82,3366.67,7173.36,9391.35,14410.93,2709.11,24915.05,12949.16,6666.24,13143.86,4466.62,18806.15,10141.14,6123.57,8252.28,1712.23,12430.95,9800.89,10579.71,8280.62,8527.53,12244.53,3410.32,4058.71,26392.26,14394.4,6435.62,22192.44,5148.55,1136.4,8703.46,6500.24,4837.58,3943.6,4399.73,6185.32,7222.79,12485.8,12363.55,10156.78,2585.27,1242.26,9863.47,4766.02,11244.38,7729.65,5438.75,26236.58,2104.11,8068.19,2362.23,2352.97,3578.0,3201.25,29186.48,10976.25,3500.61,2020.55,9541.7,9504.31,5385.34,8930.93,5375.04,10264.44,6113.23,5469.01,1727.54,10107.22,8310.84,1984.45,2457.5,12146.97,9566.99,13112.6,10848.13,12231.61,9875.68,11264.54,12979.36,1263.25,10106.13,6664.69,2217.6,6781.35,10065.41,4234.93,9447.25,14007.22,9583.89,3484.33,8604.48,3757.84,8827.21,9910.36,11737.85,1627.28,8556.91,3062.51,1906.36,14210.54,11833.78,17128.43,5031.27,7985.82,5428.73,3925.76,2416.96,3070.81,9095.07,11842.62,8062.76,7050.64,14319.03,6933.24,27941.29,11150.78,12797.21,7261.74,10560.49,6986.7,7448.4,5934.38,9869.81,1146.8,9386.16,4350.51,6414.18,12741.17,1917.32,5209.58,13457.96,5662.23,1252.41,2731.91,7209.49,4266.17,4719.52,11848.14,7046.72,14313.85,2103.08,1815.88,7731.86,28476.73,2136.88,1131.51,3309.79,9414.92,6360.99,11013.71,4428.89,5584.31,1877.93,2842.76,3597.6,7445.92,2680.95,1621.88,8219.2,12523.6,16069.08,6117.49,13393.76,5266.37,4719.74,11743.93,5377.46,7160.33,4402.23,11657.72,6402.29,12622.18,1526.31,12323.94,10072.06,9872.7,2438.06,2974.13,10601.63,14119.62,11729.68,1875.34,18218.16,10965.45,7151.09,12269.69,5458.05,8782.47,6600.36,1141.45,11576.13,13129.6,4391.65,8457.82,3392.37,5966.89,6849.03,8891.14,2690.11,26140.36,6653.79,6282.24,6311.95,3443.06,2789.06,2585.85,4877.98,5272.18,1682.6,11945.13,7243.81,10422.92,13555.0,13063.88,2221.56,1634.57,2117.34,8688.86,4661.29,8125.78,12644.59,4564.19,4846.92,7633.72,15170.07,2639.04,14382.71,7626.99,5257.51,2473.33,13041.92,5245.23,13451.12,13462.52,5488.26,4320.41,6250.44,25333.33,2913.57,12032.33,13470.8,6289.75,2927.06,6238.3,10096.97,7348.14,4673.39,12233.83,32108.66,8965.8,2304.0,9487.64,1121.87,9549.57,2217.47,1628.47,12982.87,11674.13,7160.09,6358.78,11534.87,4527.18,3875.73,12609.89,28468.92,2730.11,3353.28,14474.68,9500.57,26467.1,4746.34,7518.03,3279.87,8596.83,10702.64,4992.38,2527.82,1759.34,2322.62,7804.16,2902.91,9704.67,4889.04,25517.11,4500.34,16796.41,4915.06,7624.63,8410.05,28340.19,4518.83,3378.91,7144.86,10118.42,5484.47,7986.48,7418.52,13887.97,6551.75,5267.82,1972.95,21232.18,8627.54,4433.39,4438.26,23241.47,9957.72,8269.04,36580.28,8765.25,5383.54,12124.99,2709.24,3987.93,12495.29,26018.95,8798.59,1711.03,8569.86,2020.18,21595.38,9850.43,6877.98,4137.52,12950.07,12094.48,2250.84,22493.66,1704.7,3161.45,11394.07,7325.05,3594.17,8023.14,14394.56,9288.03,3353.47,10594.5,8277.52,17929.3,2480.98,4462.72,1981.58,11554.22,6548.2,5708.87,7045.5,8978.19,5757.41,14349.85,10928.85,13974.46,1909.53,12096.65,13204.29,4562.84,8551.35,2102.26,15161.53,11884.05,4454.4,5855.9,4076.5,15019.76,10796.35,11353.23,9748.91,10577.09,11286.54,3591.48,11299.34,4561.19,1674.63,23045.57,3227.12,11253.42,3471.41,11363.28,20420.6,10338.93,8988.16,10493.95,2904.09,8605.36,11512.41,5312.17,2396.1,10807.49,9222.4,5693.43,8347.16,18903.49,14254.61,10214.64,5836.52,14358.36,1728.9,8582.3,3693.43,20709.02,9991.04,19673.34,11085.59,7623.52,3176.29,3704.35,9048.03,7954.52,27117.99,6338.08,9630.4,11289.11,2261.57,10791.96,5979.73,2203.74,12235.84,5630.46,11015.17,7228.22,14426.07,2459.72,3989.84,7727.25,5124.19,18963.17,2200.83,7153.55,5227.99,10982.5,4529.48,4670.64,6112.35,11093.62,6457.84,4433.92,2154.36,6496.89,2899.49,7650.77,2850.68,2632.99,9447.38,8603.82,13844.8,13126.68,5327.4,13725.47,13019.16,8671.19,4134.08,18838.7,5699.84,6393.6,4934.71,6198.75,8733.23,2055.32,9964.06,5116.5,36910.61,12347.17,5373.36,23563.02,1702.46,10806.84,3956.07,12890.06,5415.66,4058.12,7537.16,4718.2,6593.51,8442.67,6858.48,4795.66,6640.54,7162.01,10594.23,11938.26,12479.71,11345.52,8515.76,2699.57,14449.85,12224.35,6985.51,3238.44,4296.27,3171.61,1135.94,5615.37,9101.8,6059.17,1633.96,1241.57,15828.82,4415.16,6474.01,11436.74,11305.93,30063.58,10197.77,4544.23,3277.16,6770.19,7337.75,10370.91,10704.47,1880.49,8615.3,3292.53,3021.81,14478.33,4747.05,10959.33,2741.95,4357.04,4189.11,8283.68,1720.35,8534.67,3732.63,5472.45,7147.47,7133.9,1515.34,9301.89,11931.13,1964.78,1708.93,4340.44,5261.47,2710.83,3208.79,2464.62,6875.96,6940.91,4571.41,4536.26,11272.33,1731.68,1163.46,19496.72,7201.7,5425.02,12981.35,4239.89,13143.34,7050.02,9377.9,22395.74,10325.21,12629.17,10795.94,11411.69,10600.55,2205.98,1629.83,2007.95],\"yaxis\":\"y\",\"type\":\"scattergl\"}],                        {\"template\":{\"data\":{\"histogram2dcontour\":[{\"type\":\"histogram2dcontour\",\"colorbar\":{\"outlinewidth\":0,\"ticks\":\"\"},\"colorscale\":[[0.0,\"#0d0887\"],[0.1111111111111111,\"#46039f\"],[0.2222222222222222,\"#7201a8\"],[0.3333333333333333,\"#9c179e\"],[0.4444444444444444,\"#bd3786\"],[0.5555555555555556,\"#d8576b\"],[0.6666666666666666,\"#ed7953\"],[0.7777777777777778,\"#fb9f3a\"],[0.8888888888888888,\"#fdca26\"],[1.0,\"#f0f921\"]]}],\"choropleth\":[{\"type\":\"choropleth\",\"colorbar\":{\"outlinewidth\":0,\"ticks\":\"\"}}],\"histogram2d\":[{\"type\":\"histogram2d\",\"colorbar\":{\"outlinewidth\":0,\"ticks\":\"\"},\"colorscale\":[[0.0,\"#0d0887\"],[0.1111111111111111,\"#46039f\"],[0.2222222222222222,\"#7201a8\"],[0.3333333333333333,\"#9c179e\"],[0.4444444444444444,\"#bd3786\"],[0.5555555555555556,\"#d8576b\"],[0.6666666666666666,\"#ed7953\"],[0.7777777777777778,\"#fb9f3a\"],[0.8888888888888888,\"#fdca26\"],[1.0,\"#f0f921\"]]}],\"heatmap\":[{\"type\":\"heatmap\",\"colorbar\":{\"outlinewidth\":0,\"ticks\":\"\"},\"colorscale\":[[0.0,\"#0d0887\"],[0.1111111111111111,\"#46039f\"],[0.2222222222222222,\"#7201a8\"],[0.3333333333333333,\"#9c179e\"],[0.4444444444444444,\"#bd3786\"],[0.5555555555555556,\"#d8576b\"],[0.6666666666666666,\"#ed7953\"],[0.7777777777777778,\"#fb9f3a\"],[0.8888888888888888,\"#fdca26\"],[1.0,\"#f0f921\"]]}],\"heatmapgl\":[{\"type\":\"heatmapgl\",\"colorbar\":{\"outlinewidth\":0,\"ticks\":\"\"},\"colorscale\":[[0.0,\"#0d0887\"],[0.1111111111111111,\"#46039f\"],[0.2222222222222222,\"#7201a8\"],[0.3333333333333333,\"#9c179e\"],[0.4444444444444444,\"#bd3786\"],[0.5555555555555556,\"#d8576b\"],[0.6666666666666666,\"#ed7953\"],[0.7777777777777778,\"#fb9f3a\"],[0.8888888888888888,\"#fdca26\"],[1.0,\"#f0f921\"]]}],\"contourcarpet\":[{\"type\":\"contourcarpet\",\"colorbar\":{\"outlinewidth\":0,\"ticks\":\"\"}}],\"contour\":[{\"type\":\"contour\",\"colorbar\":{\"outlinewidth\":0,\"ticks\":\"\"},\"colorscale\":[[0.0,\"#0d0887\"],[0.1111111111111111,\"#46039f\"],[0.2222222222222222,\"#7201a8\"],[0.3333333333333333,\"#9c179e\"],[0.4444444444444444,\"#bd3786\"],[0.5555555555555556,\"#d8576b\"],[0.6666666666666666,\"#ed7953\"],[0.7777777777777778,\"#fb9f3a\"],[0.8888888888888888,\"#fdca26\"],[1.0,\"#f0f921\"]]}],\"surface\":[{\"type\":\"surface\",\"colorbar\":{\"outlinewidth\":0,\"ticks\":\"\"},\"colorscale\":[[0.0,\"#0d0887\"],[0.1111111111111111,\"#46039f\"],[0.2222222222222222,\"#7201a8\"],[0.3333333333333333,\"#9c179e\"],[0.4444444444444444,\"#bd3786\"],[0.5555555555555556,\"#d8576b\"],[0.6666666666666666,\"#ed7953\"],[0.7777777777777778,\"#fb9f3a\"],[0.8888888888888888,\"#fdca26\"],[1.0,\"#f0f921\"]]}],\"mesh3d\":[{\"type\":\"mesh3d\",\"colorbar\":{\"outlinewidth\":0,\"ticks\":\"\"}}],\"scatter\":[{\"fillpattern\":{\"fillmode\":\"overlay\",\"size\":10,\"solidity\":0.2},\"type\":\"scatter\"}],\"parcoords\":[{\"type\":\"parcoords\",\"line\":{\"colorbar\":{\"outlinewidth\":0,\"ticks\":\"\"}}}],\"scatterpolargl\":[{\"type\":\"scatterpolargl\",\"marker\":{\"colorbar\":{\"outlinewidth\":0,\"ticks\":\"\"}}}],\"bar\":[{\"error_x\":{\"color\":\"#2a3f5f\"},\"error_y\":{\"color\":\"#2a3f5f\"},\"marker\":{\"line\":{\"color\":\"#E5ECF6\",\"width\":0.5},\"pattern\":{\"fillmode\":\"overlay\",\"size\":10,\"solidity\":0.2}},\"type\":\"bar\"}],\"scattergeo\":[{\"type\":\"scattergeo\",\"marker\":{\"colorbar\":{\"outlinewidth\":0,\"ticks\":\"\"}}}],\"scatterpolar\":[{\"type\":\"scatterpolar\",\"marker\":{\"colorbar\":{\"outlinewidth\":0,\"ticks\":\"\"}}}],\"histogram\":[{\"marker\":{\"pattern\":{\"fillmode\":\"overlay\",\"size\":10,\"solidity\":0.2}},\"type\":\"histogram\"}],\"scattergl\":[{\"type\":\"scattergl\",\"marker\":{\"colorbar\":{\"outlinewidth\":0,\"ticks\":\"\"}}}],\"scatter3d\":[{\"type\":\"scatter3d\",\"line\":{\"colorbar\":{\"outlinewidth\":0,\"ticks\":\"\"}},\"marker\":{\"colorbar\":{\"outlinewidth\":0,\"ticks\":\"\"}}}],\"scattermapbox\":[{\"type\":\"scattermapbox\",\"marker\":{\"colorbar\":{\"outlinewidth\":0,\"ticks\":\"\"}}}],\"scatterternary\":[{\"type\":\"scatterternary\",\"marker\":{\"colorbar\":{\"outlinewidth\":0,\"ticks\":\"\"}}}],\"scattercarpet\":[{\"type\":\"scattercarpet\",\"marker\":{\"colorbar\":{\"outlinewidth\":0,\"ticks\":\"\"}}}],\"carpet\":[{\"aaxis\":{\"endlinecolor\":\"#2a3f5f\",\"gridcolor\":\"white\",\"linecolor\":\"white\",\"minorgridcolor\":\"white\",\"startlinecolor\":\"#2a3f5f\"},\"baxis\":{\"endlinecolor\":\"#2a3f5f\",\"gridcolor\":\"white\",\"linecolor\":\"white\",\"minorgridcolor\":\"white\",\"startlinecolor\":\"#2a3f5f\"},\"type\":\"carpet\"}],\"table\":[{\"cells\":{\"fill\":{\"color\":\"#EBF0F8\"},\"line\":{\"color\":\"white\"}},\"header\":{\"fill\":{\"color\":\"#C8D4E3\"},\"line\":{\"color\":\"white\"}},\"type\":\"table\"}],\"barpolar\":[{\"marker\":{\"line\":{\"color\":\"#E5ECF6\",\"width\":0.5},\"pattern\":{\"fillmode\":\"overlay\",\"size\":10,\"solidity\":0.2}},\"type\":\"barpolar\"}],\"pie\":[{\"automargin\":true,\"type\":\"pie\"}]},\"layout\":{\"autotypenumbers\":\"strict\",\"colorway\":[\"#636efa\",\"#EF553B\",\"#00cc96\",\"#ab63fa\",\"#FFA15A\",\"#19d3f3\",\"#FF6692\",\"#B6E880\",\"#FF97FF\",\"#FECB52\"],\"font\":{\"color\":\"#2a3f5f\"},\"hovermode\":\"closest\",\"hoverlabel\":{\"align\":\"left\"},\"paper_bgcolor\":\"white\",\"plot_bgcolor\":\"#E5ECF6\",\"polar\":{\"bgcolor\":\"#E5ECF6\",\"angularaxis\":{\"gridcolor\":\"white\",\"linecolor\":\"white\",\"ticks\":\"\"},\"radialaxis\":{\"gridcolor\":\"white\",\"linecolor\":\"white\",\"ticks\":\"\"}},\"ternary\":{\"bgcolor\":\"#E5ECF6\",\"aaxis\":{\"gridcolor\":\"white\",\"linecolor\":\"white\",\"ticks\":\"\"},\"baxis\":{\"gridcolor\":\"white\",\"linecolor\":\"white\",\"ticks\":\"\"},\"caxis\":{\"gridcolor\":\"white\",\"linecolor\":\"white\",\"ticks\":\"\"}},\"coloraxis\":{\"colorbar\":{\"outlinewidth\":0,\"ticks\":\"\"}},\"colorscale\":{\"sequential\":[[0.0,\"#0d0887\"],[0.1111111111111111,\"#46039f\"],[0.2222222222222222,\"#7201a8\"],[0.3333333333333333,\"#9c179e\"],[0.4444444444444444,\"#bd3786\"],[0.5555555555555556,\"#d8576b\"],[0.6666666666666666,\"#ed7953\"],[0.7777777777777778,\"#fb9f3a\"],[0.8888888888888888,\"#fdca26\"],[1.0,\"#f0f921\"]],\"sequentialminus\":[[0.0,\"#0d0887\"],[0.1111111111111111,\"#46039f\"],[0.2222222222222222,\"#7201a8\"],[0.3333333333333333,\"#9c179e\"],[0.4444444444444444,\"#bd3786\"],[0.5555555555555556,\"#d8576b\"],[0.6666666666666666,\"#ed7953\"],[0.7777777777777778,\"#fb9f3a\"],[0.8888888888888888,\"#fdca26\"],[1.0,\"#f0f921\"]],\"diverging\":[[0,\"#8e0152\"],[0.1,\"#c51b7d\"],[0.2,\"#de77ae\"],[0.3,\"#f1b6da\"],[0.4,\"#fde0ef\"],[0.5,\"#f7f7f7\"],[0.6,\"#e6f5d0\"],[0.7,\"#b8e186\"],[0.8,\"#7fbc41\"],[0.9,\"#4d9221\"],[1,\"#276419\"]]},\"xaxis\":{\"gridcolor\":\"white\",\"linecolor\":\"white\",\"ticks\":\"\",\"title\":{\"standoff\":15},\"zerolinecolor\":\"white\",\"automargin\":true,\"zerolinewidth\":2},\"yaxis\":{\"gridcolor\":\"white\",\"linecolor\":\"white\",\"ticks\":\"\",\"title\":{\"standoff\":15},\"zerolinecolor\":\"white\",\"automargin\":true,\"zerolinewidth\":2},\"scene\":{\"xaxis\":{\"backgroundcolor\":\"#E5ECF6\",\"gridcolor\":\"white\",\"linecolor\":\"white\",\"showbackground\":true,\"ticks\":\"\",\"zerolinecolor\":\"white\",\"gridwidth\":2},\"yaxis\":{\"backgroundcolor\":\"#E5ECF6\",\"gridcolor\":\"white\",\"linecolor\":\"white\",\"showbackground\":true,\"ticks\":\"\",\"zerolinecolor\":\"white\",\"gridwidth\":2},\"zaxis\":{\"backgroundcolor\":\"#E5ECF6\",\"gridcolor\":\"white\",\"linecolor\":\"white\",\"showbackground\":true,\"ticks\":\"\",\"zerolinecolor\":\"white\",\"gridwidth\":2}},\"shapedefaults\":{\"line\":{\"color\":\"#2a3f5f\"}},\"annotationdefaults\":{\"arrowcolor\":\"#2a3f5f\",\"arrowhead\":0,\"arrowwidth\":1},\"geo\":{\"bgcolor\":\"white\",\"landcolor\":\"#E5ECF6\",\"subunitcolor\":\"white\",\"showland\":true,\"showlakes\":true,\"lakecolor\":\"white\"},\"title\":{\"x\":0.05},\"mapbox\":{\"style\":\"light\"}}},\"xaxis\":{\"anchor\":\"y\",\"domain\":[0.0,1.0],\"title\":{\"text\":\"bmi\"}},\"yaxis\":{\"anchor\":\"x\",\"domain\":[0.0,1.0],\"title\":{\"text\":\"expenses\"}},\"legend\":{\"title\":{\"text\":\"smoker\"},\"tracegroupgap\":0},\"title\":{\"text\":\"BMI Vs Expenses\"},\"height\":500,\"width\":800},                        {\"responsive\": true}                    ).then(function(){\n",
              "                            \n",
              "var gd = document.getElementById('60617476-c182-4287-bd4a-802b3c991d9f');\n",
              "var x = new MutationObserver(function (mutations, observer) {{\n",
              "        var display = window.getComputedStyle(gd).display;\n",
              "        if (!display || display === 'none') {{\n",
              "            console.log([gd, 'removed!']);\n",
              "            Plotly.purge(gd);\n",
              "            observer.disconnect();\n",
              "        }}\n",
              "}});\n",
              "\n",
              "// Listen for the removal of the full notebook cells\n",
              "var notebookContainer = gd.closest('#notebook-container');\n",
              "if (notebookContainer) {{\n",
              "    x.observe(notebookContainer, {childList: true});\n",
              "}}\n",
              "\n",
              "// Listen for the clearing of the current output cell\n",
              "var outputEl = gd.closest('.output');\n",
              "if (outputEl) {{\n",
              "    x.observe(outputEl, {childList: true});\n",
              "}}\n",
              "\n",
              "                        })                };                            </script>        </div>\n",
              "</body>\n",
              "</html>"
            ]
          },
          "metadata": {}
        }
      ]
    },
    {
      "cell_type": "code",
      "source": [
        "sns.heatmap(df.corr(), cmap='Reds', annot=True)\n",
        "plt.title('Correlation Matrix')"
      ],
      "metadata": {
        "colab": {
          "base_uri": "https://localhost:8080/",
          "height": 469
        },
        "id": "_5Ogz5f0ebkY",
        "outputId": "20878d30-c0cf-4b5a-d4f6-8cc5e7d3159e"
      },
      "execution_count": null,
      "outputs": [
        {
          "output_type": "execute_result",
          "data": {
            "text/plain": [
              "Text(0.5, 1.0, 'Correlation Matrix')"
            ]
          },
          "metadata": {},
          "execution_count": 33
        },
        {
          "output_type": "display_data",
          "data": {
            "text/plain": [
              "<Figure size 640x480 with 2 Axes>"
            ],
            "image/png": "[encoded data removed]"
          },
          "metadata": {}
        }
      ]
    },
    {
      "cell_type": "code",
      "source": [
        "#one hot encoding\n",
        "df=pd.get_dummies(df)"
      ],
      "metadata": {
        "id": "4ciLXjsms3IY"
      },
      "execution_count": null,
      "outputs": []
    },
    {
      "cell_type": "code",
      "source": [
        "X = df.drop(['expenses'], axis=1)\n",
        "y = df['expenses']"
      ],
      "metadata": {
        "id": "-1m1Ik1Mkl8A"
      },
      "execution_count": null,
      "outputs": []
    },
    {
      "cell_type": "code",
      "source": [
        "# Splitting the dataset for training and testing the model\n",
        "X_train, X_test, y_train, y_test = train_test_split(X, y, test_size=0.2, random_state=42)"
      ],
      "metadata": {
        "id": "KFyuHeKJpoes"
      },
      "execution_count": null,
      "outputs": []
    },
    {
      "cell_type": "code",
      "source": [
        "linear_reg = LinearRegression()\n",
        "linear_reg.fit(X_train, y_train)\n",
        "\n",
        "y_pred = linear_reg.predict(X_test)\n",
        "\n",
        "linear_reg_mse = mean_squared_error(y_test, y_pred)\n",
        "linear_reg_rmse = mean_squared_error(y_test, y_pred, squared=False)\n",
        "linear_reg_r2_score = r2_score(y_test, y_pred)\n",
        "\n",
        "# Evaluation Metrics\n",
        "print(\"The Mean Squared Error using Linear Regression :{}\".format(linear_reg_mse))\n",
        "print(('The Root Mean Squared Error using Linear Regression :{}'.format(linear_reg_rmse)))\n",
        "print(('The r2_score using Linear Regression :{}'.format(linear_reg_r2_score)))"
      ],
      "metadata": {
        "colab": {
          "base_uri": "https://localhost:8080/"
        },
        "id": "NCXTyt-FqCkV",
        "outputId": "d524d77b-047f-4e3d-db97-f20b0d4bdaf6"
      },
      "execution_count": null,
      "outputs": [
        {
          "output_type": "stream",
          "name": "stdout",
          "text": [
            "The Mean Squared Error using Linear Regression :33600065.355077825\n",
            "The Root Mean Squared Error using Linear Regression :5796.556335884076\n",
            "The r2_score using Linear Regression :0.7835726930039906\n"
          ]
        }
      ]
    },
    {
      "cell_type": "code",
      "source": [
        "decision_tree = DecisionTreeRegressor(max_depth=4, min_samples_split=4,random_state=42)\n",
        "decision_tree.fit(X_train, y_train)\n",
        "# Predicting the model\n",
        "y_pred1 = decision_tree.predict(X_test)\n",
        "# Evaluation Metrics\n",
        "decision_tree_mse = mean_squared_error(y_test, y_pred)\n",
        "decision_tree_rmse = mean_squared_error(y_test, y_pred1, squared=False)\n",
        "decision_tree_r2_score = r2_score(y_test, y_pred1)\n",
        "\n",
        "print(\"The Mean Squared Error using Decision Tree Regressor : {}\".format(decision_tree_mse))\n",
        "print(\"The Root Mean Squared Error using Decision Tree Regressor : {}\".format(decision_tree_rmse))\n",
        "print(\"The r2_score using Decision Tree Regressor : {}\".format(decision_tree_r2_score))"
      ],
      "metadata": {
        "colab": {
          "base_uri": "https://localhost:8080/"
        },
        "id": "uZywJGVUqeJE",
        "outputId": "70bad4fe-af3a-4094-b388-e4361769829e"
      },
      "execution_count": null,
      "outputs": [
        {
          "output_type": "stream",
          "name": "stdout",
          "text": [
            "The Mean Squared Error using Decision Tree Regressor : 0.22928504860620744\n",
            "The Root Mean Squared Error using Decision Tree Regressor : 0.3792450133636133\n",
            "The r2_score using Decision Tree Regressor : 0.8642386719351669\n"
          ]
        }
      ]
    },
    {
      "cell_type": "code",
      "source": [
        "random_forest_reg=RandomForestRegressor(n_estimators=30, max_depth=4, min_samples_split=5,random_state=42)\n",
        "random_forest_reg.fit(X_train, y_train)\n",
        "\n",
        "# Predicting the model\n",
        "y_pred2 = random_forest_reg.predict(X_test)\n",
        "\n",
        "# Evaluation Metrics\n",
        "random_forest_mse = mean_squared_error(y_test, y_pred2)\n",
        "random_forest_rmse = mean_squared_error(y_test, y_pred2, squared=False)\n",
        "random_forest_r2_score = r2_score(y_test, y_pred2)\n",
        "\n",
        "print(\"The Mean Squared Error using Random Forest Regressor : {}\".format(random_forest_mse))\n",
        "print(\"The Root Mean Squared Error using Random Forest Regressor : {}\".format(random_forest_rmse))\n",
        "print(\"The r2_score Error using Random Forest Regressor : {}\".format(random_forest_r2_score))"
      ],
      "metadata": {
        "colab": {
          "base_uri": "https://localhost:8080/"
        },
        "id": "E9r7ZqFYrCwc",
        "outputId": "07c9aa39-e741-441f-8cc2-8d47a6540202"
      },
      "execution_count": null,
      "outputs": [
        {
          "output_type": "stream",
          "name": "stdout",
          "text": [
            "The Mean Squared Error using Random Forest Regressor : 0.13928610348582507\n",
            "The Root Mean Squared Error using Random Forest Regressor : 0.37321053506811014\n",
            "The r2_score Error using Random Forest Regressor : 0.8685247186301336\n"
          ]
        }
      ]
    },
    {
      "cell_type": "code",
      "source": [
        "gradient_boosting_reg=GradientBoostingRegressor()\n",
        "gradient_boosting_reg.fit(X_train, y_train)\n",
        "\n",
        "# Predicting the model\n",
        "y_pred3 = gradient_boosting_reg.predict(X_test)\n",
        "\n",
        "# Evaluation Metrics\n",
        "gradient_boosting_mse = mean_squared_error(y_test, y_pred3)\n",
        "gradient_boosting_rmse = mean_squared_error(y_test, y_pred3, squared=False)\n",
        "gradient_boosting_r2_score = r2_score(y_test, y_pred3)\n",
        "\n",
        "print(\"The Mean Squared Error using Gradient Boosting Regressor : {}\".format(gradient_boosting_mse))\n",
        "print(\"The Root Mean Squared Error using Gradient Boosting Regressor : {}\".format(gradient_boosting_rmse))\n",
        "print(\"The r2_sccore using Gradient Boosting Regressor : {}\".format(gradient_boosting_r2_score))"
      ],
      "metadata": {
        "colab": {
          "base_uri": "https://localhost:8080/"
        },
        "id": "eVR216ytt5Pk",
        "outputId": "383862d2-61fb-478d-987b-8b8077f199a2"
      },
      "execution_count": null,
      "outputs": [
        {
          "output_type": "stream",
          "name": "stdout",
          "text": [
            "The Mean Squared Error using Gradient Boosting Regressor : 0.12824934750936423\n",
            "The Root Mean Squared Error using Gradient Boosting Regressor : 0.35811918059406456\n",
            "The r2_sccore using Gradient Boosting Regressor : 0.8789425604758093\n"
          ]
        }
      ]
    },
    {
      "cell_type": "code",
      "source": [
        "xgb_reg = xgb.XGBRegressor()\n",
        "xgb_reg.fit(X_train, y_train)\n",
        "\n",
        "# Predicting the moodel\n",
        "y_pred5 = xgb_reg.predict(X_test)\n",
        "\n",
        "# Evaluation Metrics\n",
        "xgb_reg_mse = mean_squared_error(y_test, y_pred5)\n",
        "xgb_reg_rmse = mean_squared_error(y_test, y_pred5, squared=False)\n",
        "xgb_reg_r2_score = r2_score(y_test, y_pred5)\n",
        "\n",
        "print(\"The mean square error using XGBoost is {}\".format(xgb_reg_mse))\n",
        "print(\"The root mean_squared error using XGBoost is {}\".format(xgb_reg_rmse))\n",
        "print(\"The r2 score using XGBoost is {}\".format(xgb_reg_r2_score))"
      ],
      "metadata": {
        "colab": {
          "base_uri": "https://localhost:8080/"
        },
        "id": "_-4t5--Cue6H",
        "outputId": "97174627-ddcc-402a-b71a-1fbbfdc2fc17"
      },
      "execution_count": null,
      "outputs": [
        {
          "output_type": "stream",
          "name": "stdout",
          "text": [
            "The mean square error using XGBoost is 0.16743490504069433\n",
            "The root mean_squared error using XGBoost is 0.4091881047155383\n",
            "The r2 score using XGBoost is 0.8419544326358269\n"
          ]
        }
      ]
    },
    {
      "cell_type": "code",
      "source": [
        "models = pd.DataFrame({\n",
        "    'Model' : ['Linear Regression', 'Decision Tree', 'Random Forest',\n",
        "               'Gradient Boosting',  'XGBoost'],\n",
        "    'RMSE' : [linear_reg_rmse, decision_tree_rmse, random_forest_rmse,\n",
        "            gradient_boosting_rmse,  xgb_reg_rmse],\n",
        "    'r2_score' : [linear_reg_r2_score, decision_tree_r2_score, random_forest_r2_score,\n",
        "    gradient_boosting_r2_score,  xgb_reg_r2_score]\n",
        "})\n",
        "\n",
        "models.sort_values(by='RMSE', ascending=True)"
      ],
      "metadata": {
        "colab": {
          "base_uri": "https://localhost:8080/",
          "height": 206
        },
        "id": "581-o5GhurQO",
        "outputId": "38785fda-7ccf-4460-ca78-4f64d23dcf7a"
      },
      "execution_count": null,
      "outputs": [
        {
          "output_type": "execute_result",
          "data": {
            "text/plain": [
              "               Model      RMSE  r2_score\n",
              "3  Gradient Boosting  0.358119  0.878943\n",
              "2      Random Forest  0.373211  0.868525\n",
              "1      Decision Tree  0.379245  0.864239\n",
              "4            XGBoost  0.409188  0.841954\n",
              "0  Linear Regression  0.478837  0.783573"
            ],
            "text/html": [
              "\n",
              "  <div id=\"df-5f3af7f0-6f7f-4b8d-a66c-e3a07fc1e727\" class=\"colab-df-container\">\n",
              "    <div>\n",
              "<style scoped>\n",
              "    .dataframe tbody tr th:only-of-type {\n",
              "        vertical-align: middle;\n",
              "    }\n",
              "\n",
              "    .dataframe tbody tr th {\n",
              "        vertical-align: top;\n",
              "    }\n",
              "\n",
              "    .dataframe thead th {\n",
              "        text-align: right;\n",
              "    }\n",
              "</style>\n",
              "<table border=\"1\" class=\"dataframe\">\n",
              "  <thead>\n",
              "    <tr style=\"text-align: right;\">\n",
              "      <th></th>\n",
              "      <th>Model</th>\n",
              "      <th>RMSE</th>\n",
              "      <th>r2_score</th>\n",
              "    </tr>\n",
              "  </thead>\n",
              "  <tbody>\n",
              "    <tr>\n",
              "      <th>3</th>\n",
              "      <td>Gradient Boosting</td>\n",
              "      <td>0.358119</td>\n",
              "      <td>0.878943</td>\n",
              "    </tr>\n",
              "    <tr>\n",
              "      <th>2</th>\n",
              "      <td>Random Forest</td>\n",
              "      <td>0.373211</td>\n",
              "      <td>0.868525</td>\n",
              "    </tr>\n",
              "    <tr>\n",
              "      <th>1</th>\n",
              "      <td>Decision Tree</td>\n",
              "      <td>0.379245</td>\n",
              "      <td>0.864239</td>\n",
              "    </tr>\n",
              "    <tr>\n",
              "      <th>4</th>\n",
              "      <td>XGBoost</td>\n",
              "      <td>0.409188</td>\n",
              "      <td>0.841954</td>\n",
              "    </tr>\n",
              "    <tr>\n",
              "      <th>0</th>\n",
              "      <td>Linear Regression</td>\n",
              "      <td>0.478837</td>\n",
              "      <td>0.783573</td>\n",
              "    </tr>\n",
              "  </tbody>\n",
              "</table>\n",
              "</div>\n",
              "    <div class=\"colab-df-buttons\">\n",
              "\n",
              "  <div class=\"colab-df-container\">\n",
              "    <button class=\"colab-df-convert\" onclick=\"convertToInteractive('df-5f3af7f0-6f7f-4b8d-a66c-e3a07fc1e727')\"\n",
              "            title=\"Convert this dataframe to an interactive table.\"\n",
              "            style=\"display:none;\">\n",
              "\n",
              "  <svg xmlns=\"http://www.w3.org/2000/svg\" height=\"24px\" viewBox=\"0 -960 960 960\">\n",
              "    <path d=\"M120-120v-720h720v720H120Zm60-500h600v-160H180v160Zm220 220h160v-160H400v160Zm0 220h160v-160H400v160ZM180-400h160v-160H180v160Zm440 0h160v-160H620v160ZM180-180h160v-160H180v160Zm440 0h160v-160H620v160Z\"/>\n",
              "  </svg>\n",
              "    </button>\n",
              "\n",
              "  <style>\n",
              "    .colab-df-container {\n",
              "      display:flex;\n",
              "      gap: 12px;\n",
              "    }\n",
              "\n",
              "    .colab-df-convert {\n",
              "      background-color: #E8F0FE;\n",
              "      border: none;\n",
              "      border-radius: 50%;\n",
              "      cursor: pointer;\n",
              "      display: none;\n",
              "      fill: #1967D2;\n",
              "      height: 32px;\n",
              "      padding: 0 0 0 0;\n",
              "      width: 32px;\n",
              "    }\n",
              "\n",
              "    .colab-df-convert:hover {\n",
              "      background-color: #E2EBFA;\n",
              "      box-shadow: 0px 1px 2px rgba(60, 64, 67, 0.3), 0px 1px 3px 1px rgba(60, 64, 67, 0.15);\n",
              "      fill: #174EA6;\n",
              "    }\n",
              "\n",
              "    .colab-df-buttons div {\n",
              "      margin-bottom: 4px;\n",
              "    }\n",
              "\n",
              "    [theme=dark] .colab-df-convert {\n",
              "      background-color: #3B4455;\n",
              "      fill: #D2E3FC;\n",
              "    }\n",
              "\n",
              "    [theme=dark] .colab-df-convert:hover {\n",
              "      background-color: #434B5C;\n",
              "      box-shadow: 0px 1px 3px 1px rgba(0, 0, 0, 0.15);\n",
              "      filter: drop-shadow(0px 1px 2px rgba(0, 0, 0, 0.3));\n",
              "      fill: #FFFFFF;\n",
              "    }\n",
              "  </style>\n",
              "\n",
              "    <script>\n",
              "      const buttonEl =\n",
              "        document.querySelector('#df-5f3af7f0-6f7f-4b8d-a66c-e3a07fc1e727 button.colab-df-convert');\n",
              "      buttonEl.style.display =\n",
              "        google.colab.kernel.accessAllowed ? 'block' : 'none';\n",
              "\n",
              "      async function convertToInteractive(key) {\n",
              "        const element = document.querySelector('#df-5f3af7f0-6f7f-4b8d-a66c-e3a07fc1e727');\n",
              "        const dataTable =\n",
              "          await google.colab.kernel.invokeFunction('convertToInteractive',\n",
              "                                                    [key], {});\n",
              "        if (!dataTable) return;\n",
              "\n",
              "        const docLinkHtml = 'Like what you see? Visit the ' +\n",
              "          '<a target=\"_blank\" href=https://colab.research.google.com/notebooks/data_table.ipynb>data table notebook</a>'\n",
              "          + ' to learn more about interactive tables.';\n",
              "        element.innerHTML = '';\n",
              "        dataTable['output_type'] = 'display_data';\n",
              "        await google.colab.output.renderOutput(dataTable, element);\n",
              "        const docLink = document.createElement('div');\n",
              "        docLink.innerHTML = docLinkHtml;\n",
              "        element.appendChild(docLink);\n",
              "      }\n",
              "    </script>\n",
              "  </div>\n",
              "\n",
              "\n",
              "<div id=\"df-0780047b-bdad-4f8c-b57a-3bb9cccb0619\">\n",
              "  <button class=\"colab-df-quickchart\" onclick=\"quickchart('df-0780047b-bdad-4f8c-b57a-3bb9cccb0619')\"\n",
              "            title=\"Suggest charts.\"\n",
              "            style=\"display:none;\">\n",
              "\n",
              "<svg xmlns=\"http://www.w3.org/2000/svg\" height=\"24px\"viewBox=\"0 0 24 24\"\n",
              "     width=\"24px\">\n",
              "    <g>\n",
              "        <path d=\"M19 3H5c-1.1 0-2 .9-2 2v14c0 1.1.9 2 2 2h14c1.1 0 2-.9 2-2V5c0-1.1-.9-2-2-2zM9 17H7v-7h2v7zm4 0h-2V7h2v10zm4 0h-2v-4h2v4z\"/>\n",
              "    </g>\n",
              "</svg>\n",
              "  </button>\n",
              "\n",
              "<style>\n",
              "  .colab-df-quickchart {\n",
              "      --bg-color: #E8F0FE;\n",
              "      --fill-color: #1967D2;\n",
              "      --hover-bg-color: #E2EBFA;\n",
              "      --hover-fill-color: #174EA6;\n",
              "      --disabled-fill-color: #AAA;\n",
              "      --disabled-bg-color: #DDD;\n",
              "  }\n",
              "\n",
              "  [theme=dark] .colab-df-quickchart {\n",
              "      --bg-color: #3B4455;\n",
              "      --fill-color: #D2E3FC;\n",
              "      --hover-bg-color: #434B5C;\n",
              "      --hover-fill-color: #FFFFFF;\n",
              "      --disabled-bg-color: #3B4455;\n",
              "      --disabled-fill-color: #666;\n",
              "  }\n",
              "\n",
              "  .colab-df-quickchart {\n",
              "    background-color: var(--bg-color);\n",
              "    border: none;\n",
              "    border-radius: 50%;\n",
              "    cursor: pointer;\n",
              "    display: none;\n",
              "    fill: var(--fill-color);\n",
              "    height: 32px;\n",
              "    padding: 0;\n",
              "    width: 32px;\n",
              "  }\n",
              "\n",
              "  .colab-df-quickchart:hover {\n",
              "    background-color: var(--hover-bg-color);\n",
              "    box-shadow: 0 1px 2px rgba(60, 64, 67, 0.3), 0 1px 3px 1px rgba(60, 64, 67, 0.15);\n",
              "    fill: var(--button-hover-fill-color);\n",
              "  }\n",
              "\n",
              "  .colab-df-quickchart-complete:disabled,\n",
              "  .colab-df-quickchart-complete:disabled:hover {\n",
              "    background-color: var(--disabled-bg-color);\n",
              "    fill: var(--disabled-fill-color);\n",
              "    box-shadow: none;\n",
              "  }\n",
              "\n",
              "  .colab-df-spinner {\n",
              "    border: 2px solid var(--fill-color);\n",
              "    border-color: transparent;\n",
              "    border-bottom-color: var(--fill-color);\n",
              "    animation:\n",
              "      spin 1s steps(1) infinite;\n",
              "  }\n",
              "\n",
              "  @keyframes spin {\n",
              "    0% {\n",
              "      border-color: transparent;\n",
              "      border-bottom-color: var(--fill-color);\n",
              "      border-left-color: var(--fill-color);\n",
              "    }\n",
              "    20% {\n",
              "      border-color: transparent;\n",
              "      border-left-color: var(--fill-color);\n",
              "      border-top-color: var(--fill-color);\n",
              "    }\n",
              "    30% {\n",
              "      border-color: transparent;\n",
              "      border-left-color: var(--fill-color);\n",
              "      border-top-color: var(--fill-color);\n",
              "      border-right-color: var(--fill-color);\n",
              "    }\n",
              "    40% {\n",
              "      border-color: transparent;\n",
              "      border-right-color: var(--fill-color);\n",
              "      border-top-color: var(--fill-color);\n",
              "    }\n",
              "    60% {\n",
              "      border-color: transparent;\n",
              "      border-right-color: var(--fill-color);\n",
              "    }\n",
              "    80% {\n",
              "      border-color: transparent;\n",
              "      border-right-color: var(--fill-color);\n",
              "      border-bottom-color: var(--fill-color);\n",
              "    }\n",
              "    90% {\n",
              "      border-color: transparent;\n",
              "      border-bottom-color: var(--fill-color);\n",
              "    }\n",
              "  }\n",
              "</style>\n",
              "\n",
              "  <script>\n",
              "    async function quickchart(key) {\n",
              "      const quickchartButtonEl =\n",
              "        document.querySelector('#' + key + ' button');\n",
              "      quickchartButtonEl.disabled = true;  // To prevent multiple clicks.\n",
              "      quickchartButtonEl.classList.add('colab-df-spinner');\n",
              "      try {\n",
              "        const charts = await google.colab.kernel.invokeFunction(\n",
              "            'suggestCharts', [key], {});\n",
              "      } catch (error) {\n",
              "        console.error('Error during call to suggestCharts:', error);\n",
              "      }\n",
              "      quickchartButtonEl.classList.remove('colab-df-spinner');\n",
              "      quickchartButtonEl.classList.add('colab-df-quickchart-complete');\n",
              "    }\n",
              "    (() => {\n",
              "      let quickchartButtonEl =\n",
              "        document.querySelector('#df-0780047b-bdad-4f8c-b57a-3bb9cccb0619 button');\n",
              "      quickchartButtonEl.style.display =\n",
              "        google.colab.kernel.accessAllowed ? 'block' : 'none';\n",
              "    })();\n",
              "  </script>\n",
              "</div>\n",
              "    </div>\n",
              "  </div>\n"
            ]
          },
          "metadata": {},
          "execution_count": 46
        }
      ]
    },
    {
      "cell_type": "code",
      "source": [
        "train_enc_cols = X.columns"
      ],
      "metadata": {
        "id": "_d4XuUq-0IYA"
      },
      "execution_count": null,
      "outputs": []
    },
    {
      "cell_type": "code",
      "source": [
        "train_enc_cols"
      ],
      "metadata": {
        "colab": {
          "base_uri": "https://localhost:8080/"
        },
        "id": "UJEoNTtm4DOn",
        "outputId": "77be6f1b-1448-432e-f33d-3b9543e9f549"
      },
      "execution_count": null,
      "outputs": [
        {
          "output_type": "execute_result",
          "data": {
            "text/plain": [
              "Index(['age', 'bmi', 'children', 'sex_female', 'sex_male', 'smoker_no',\n",
              "       'smoker_yes', 'region_northeast', 'region_northwest',\n",
              "       'region_southeast', 'region_southwest'],\n",
              "      dtype='object')"
            ]
          },
          "metadata": {},
          "execution_count": 48
        }
      ]
    },
    {
      "cell_type": "code",
      "source": [
        "model = GradientBoostingRegressor()\n",
        "\n",
        "# Fit the model with your training data and target values\n",
        "trained_model = model.fit(X_train, y_train)"
      ],
      "metadata": {
        "id": "j143J0CU4GOh"
      },
      "execution_count": null,
      "outputs": []
    },
    {
      "cell_type": "code",
      "source": [
        "import joblib\n",
        "model_file = '/content/model.pkl'\n",
        "\n",
        "joblib.dump(value=[train_enc_cols, trained_model],\n",
        "            filename=model_file)"
      ],
      "metadata": {
        "colab": {
          "base_uri": "https://localhost:8080/"
        },
        "id": "SKKdrrRE5DiR",
        "outputId": "b4fc31c7-c97f-4bd8-cf8e-bc82f60b80ae"
      },
      "execution_count": null,
      "outputs": [
        {
          "output_type": "execute_result",
          "data": {
            "text/plain": [
              "['/content/model.pkl']"
            ]
          },
          "metadata": {},
          "execution_count": 88
        }
      ]
    },
    {
      "cell_type": "code",
      "source": [
        "from azureml.core import Workspace, Dataset, Experiment"
      ],
      "metadata": {
        "id": "86vtdXYJ5pAy"
      },
      "execution_count": null,
      "outputs": []
    },
    {
      "cell_type": "code",
      "source": [
        "print('Accessing the workspace....')\n",
        "ws                = Workspace.from_config(\"/content/config.json\")"
      ],
      "metadata": {
        "colab": {
          "base_uri": "https://localhost:8080/"
        },
        "id": "bhL4AYB26Klq",
        "outputId": "bf637b7a-f032-4eb4-8b20-c3dfa955383e"
      },
      "execution_count": null,
      "outputs": [
        {
          "output_type": "stream",
          "name": "stdout",
          "text": [
            "Accessing the workspace....\n",
            "Performing interactive authentication. Please follow the instructions on the terminal.\n"
          ]
        },
        {
          "output_type": "stream",
          "name": "stderr",
          "text": [
            "WARNING:azureml._vendor.azure_cli_core.auth.identity:To sign in, use a web browser to open the page https://microsoft.com/devicelogin and enter the code BQJYXK9N3 to authenticate.\n"
          ]
        },
        {
          "output_type": "stream",
          "name": "stdout",
          "text": [
            "Interactive authentication successfully completed.\n"
          ]
        }
      ]
    },
    {
      "cell_type": "code",
      "source": [
        "print('Accessing/Creating the experiment...')\n",
        "experiment = Experiment(workspace=ws, name='Pred')"
      ],
      "metadata": {
        "colab": {
          "base_uri": "https://localhost:8080/"
        },
        "id": "0-bWgn_a6onq",
        "outputId": "ede15bce-43b8-431b-debe-33cb96b319bc"
      },
      "execution_count": null,
      "outputs": [
        {
          "output_type": "stream",
          "name": "stdout",
          "text": [
            "Accessing/Creating the experiment...\n"
          ]
        }
      ]
    },
    {
      "cell_type": "code",
      "source": [
        "\n",
        "print('Start Experiment using Start Logging method...')\n",
        "new_run = experiment.start_logging()\n",
        "\n",
        "#New run in Azureml\n"
      ],
      "metadata": {
        "colab": {
          "base_uri": "https://localhost:8080/"
        },
        "id": "tCGrKdTh6yXu",
        "outputId": "08b0abad-0622-4e56-ba47-1551bef5114c"
      },
      "execution_count": null,
      "outputs": [
        {
          "output_type": "stream",
          "name": "stdout",
          "text": [
            "Start Experiment using Start Logging method...\n"
          ]
        }
      ]
    },
    {
      "cell_type": "code",
      "source": [
        "new_run.complete()"
      ],
      "metadata": {
        "id": "m_dF8s-E60Ak"
      },
      "execution_count": null,
      "outputs": []
    },
    {
      "cell_type": "code",
      "source": [
        "from azureml.core import Model"
      ],
      "metadata": {
        "id": "V00VeKXv7DOY"
      },
      "execution_count": null,
      "outputs": []
    },
    {
      "cell_type": "code",
      "source": [
        "model = Model.register(workspace=ws,model_name='pre_model',\n",
        "                       model_path='/content/model.pkl',\n",
        "                       model_framework=Model.Framework.SCIKITLEARN,\n",
        "                       model_framework_version='1',\n",
        "                       description='regression model for diabetes prediction')"
      ],
      "metadata": {
        "colab": {
          "base_uri": "https://localhost:8080/"
        },
        "id": "h5CxIQmt7GEY",
        "outputId": "c764ac53-18ef-4732-dc18-93989ffeaeae"
      },
      "execution_count": null,
      "outputs": [
        {
          "output_type": "stream",
          "name": "stdout",
          "text": [
            "Registering model pre_model\n"
          ]
        }
      ]
    }
  ]
}